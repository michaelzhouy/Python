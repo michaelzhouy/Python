{
 "cells": [
  {
   "cell_type": "markdown",
   "metadata": {
    "toc": true
   },
   "source": [
    "<h1>Table of Contents<span class=\"tocSkip\"></span></h1>\n",
    "<div class=\"toc\"><ul class=\"toc-item\"><li><span><a href=\"#pd.cut()\" data-toc-modified-id=\"pd.cut()-1\"><span class=\"toc-item-num\">1&nbsp;&nbsp;</span>pd.cut()</a></span><ul class=\"toc-item\"><li><span><a href=\"#right=False-右边不封闭\" data-toc-modified-id=\"right=False-右边不封闭-1.1\"><span class=\"toc-item-num\">1.1&nbsp;&nbsp;</span>right=False 右边不封闭</a></span></li><li><span><a href=\"#labels参数来自定义箱名\" data-toc-modified-id=\"labels参数来自定义箱名-1.2\"><span class=\"toc-item-num\">1.2&nbsp;&nbsp;</span>labels参数来自定义箱名</a></span></li><li><span><a href=\"#传入整数个的箱数，根据数据中的最小值和最大值计算出等长的箱\" data-toc-modified-id=\"传入整数个的箱数，根据数据中的最小值和最大值计算出等长的箱-1.3\"><span class=\"toc-item-num\">1.3&nbsp;&nbsp;</span>传入整数个的箱数，根据数据中的最小值和最大值计算出等长的箱</a></span></li></ul></li><li><span><a href=\"#pd.qcut()-基于样本的箱位数进行分箱，获得等长的想\" data-toc-modified-id=\"pd.qcut()-基于样本的箱位数进行分箱，获得等长的想-2\"><span class=\"toc-item-num\">2&nbsp;&nbsp;</span>pd.qcut() 基于样本的箱位数进行分箱，获得等长的想</a></span></li></ul></div>"
   ]
  },
  {
   "cell_type": "code",
   "execution_count": 1,
   "metadata": {
    "ExecuteTime": {
     "end_time": "2019-03-30T13:06:01.219765Z",
     "start_time": "2019-03-30T13:06:00.493878Z"
    }
   },
   "outputs": [],
   "source": [
    "import numpy as np\n",
    "import pandas as pd\n",
    "from pandas import Series, DataFrame"
   ]
  },
  {
   "cell_type": "markdown",
   "metadata": {},
   "source": [
    "## pd.cut()"
   ]
  },
  {
   "cell_type": "code",
   "execution_count": 2,
   "metadata": {
    "ExecuteTime": {
     "end_time": "2019-03-30T13:10:19.930501Z",
     "start_time": "2019-03-30T13:10:19.925496Z"
    }
   },
   "outputs": [],
   "source": [
    "ages = [20, 22, 25, 27, 21, 23, 37, 31, 61, 45, 41, 32]"
   ]
  },
  {
   "cell_type": "code",
   "execution_count": 3,
   "metadata": {
    "ExecuteTime": {
     "end_time": "2019-03-30T13:10:33.342672Z",
     "start_time": "2019-03-30T13:10:33.339674Z"
    }
   },
   "outputs": [],
   "source": [
    "bins = [18, 25, 35, 60, 100]"
   ]
  },
  {
   "cell_type": "code",
   "execution_count": 4,
   "metadata": {
    "ExecuteTime": {
     "end_time": "2019-03-30T13:11:35.654923Z",
     "start_time": "2019-03-30T13:11:35.636899Z"
    }
   },
   "outputs": [],
   "source": [
    "cats = pd.cut(ages, bins) # 将ages按照bins的区间分离成“箱子”"
   ]
  },
  {
   "cell_type": "code",
   "execution_count": 5,
   "metadata": {
    "ExecuteTime": {
     "end_time": "2019-03-30T13:11:42.232106Z",
     "start_time": "2019-03-30T13:11:42.221102Z"
    }
   },
   "outputs": [
    {
     "data": {
      "text/plain": [
       "[(18, 25], (18, 25], (18, 25], (25, 35], (18, 25], ..., (25, 35], (60, 100], (35, 60], (35, 60], (25, 35]]\n",
       "Length: 12\n",
       "Categories (4, interval[int64]): [(18, 25] < (25, 35] < (35, 60] < (60, 100]]"
      ]
     },
     "execution_count": 5,
     "metadata": {},
     "output_type": "execute_result"
    }
   ],
   "source": [
    "cats"
   ]
  },
  {
   "cell_type": "code",
   "execution_count": 6,
   "metadata": {
    "ExecuteTime": {
     "end_time": "2019-03-30T13:13:29.497450Z",
     "start_time": "2019-03-30T13:13:29.492447Z"
    }
   },
   "outputs": [
    {
     "data": {
      "text/plain": [
       "array([0, 0, 0, 1, 0, 0, 2, 1, 3, 2, 2, 1], dtype=int8)"
      ]
     },
     "execution_count": 6,
     "metadata": {},
     "output_type": "execute_result"
    }
   ],
   "source": [
    "cats.codes # codes属性，ages各个数据所属的数据标签"
   ]
  },
  {
   "cell_type": "code",
   "execution_count": 7,
   "metadata": {
    "ExecuteTime": {
     "end_time": "2019-03-30T13:13:37.144340Z",
     "start_time": "2019-03-30T13:13:37.139334Z"
    }
   },
   "outputs": [
    {
     "data": {
      "text/plain": [
       "IntervalIndex([(18, 25], (25, 35], (35, 60], (60, 100]]\n",
       "              closed='right',\n",
       "              dtype='interval[int64]')"
      ]
     },
     "execution_count": 7,
     "metadata": {},
     "output_type": "execute_result"
    }
   ],
   "source": [
    "cats.categories"
   ]
  },
  {
   "cell_type": "code",
   "execution_count": 8,
   "metadata": {
    "ExecuteTime": {
     "end_time": "2019-03-30T13:14:08.531175Z",
     "start_time": "2019-03-30T13:14:08.519166Z"
    }
   },
   "outputs": [
    {
     "data": {
      "text/plain": [
       "(18, 25]     5\n",
       "(35, 60]     3\n",
       "(25, 35]     3\n",
       "(60, 100]    1\n",
       "dtype: int64"
      ]
     },
     "execution_count": 8,
     "metadata": {},
     "output_type": "execute_result"
    }
   ],
   "source": [
    "pd.value_counts(cats) # 各个区间的个数"
   ]
  },
  {
   "cell_type": "markdown",
   "metadata": {},
   "source": [
    "### right=False 右边不封闭"
   ]
  },
  {
   "cell_type": "code",
   "execution_count": 9,
   "metadata": {
    "ExecuteTime": {
     "end_time": "2019-03-30T13:16:36.291103Z",
     "start_time": "2019-03-30T13:16:36.277094Z"
    }
   },
   "outputs": [
    {
     "data": {
      "text/plain": [
       "[[18, 26), [18, 26), [18, 26), [26, 36), [18, 26), ..., [26, 36), [61, 100), [36, 61), [36, 61), [26, 36)]\n",
       "Length: 12\n",
       "Categories (4, interval[int64]): [[18, 26) < [26, 36) < [36, 61) < [61, 100)]"
      ]
     },
     "execution_count": 9,
     "metadata": {},
     "output_type": "execute_result"
    }
   ],
   "source": [
    "pd.cut(ages, [18, 26, 36, 61, 100], right=False) # right=False 右边不封闭"
   ]
  },
  {
   "cell_type": "markdown",
   "metadata": {},
   "source": [
    "### labels参数来自定义箱名"
   ]
  },
  {
   "cell_type": "code",
   "execution_count": 10,
   "metadata": {
    "ExecuteTime": {
     "end_time": "2019-03-30T13:17:44.279352Z",
     "start_time": "2019-03-30T13:17:44.275350Z"
    }
   },
   "outputs": [],
   "source": [
    "group_names = ['Youth', 'YoungAdult', 'MiddleAged', 'Senior']"
   ]
  },
  {
   "cell_type": "code",
   "execution_count": 11,
   "metadata": {
    "ExecuteTime": {
     "end_time": "2019-03-30T13:18:25.405973Z",
     "start_time": "2019-03-30T13:18:25.397972Z"
    }
   },
   "outputs": [
    {
     "data": {
      "text/plain": [
       "[Youth, Youth, Youth, YoungAdult, Youth, ..., YoungAdult, Senior, MiddleAged, MiddleAged, YoungAdult]\n",
       "Length: 12\n",
       "Categories (4, object): [Youth < YoungAdult < MiddleAged < Senior]"
      ]
     },
     "execution_count": 11,
     "metadata": {},
     "output_type": "execute_result"
    }
   ],
   "source": [
    "pd.cut(ages, bins, labels=group_names) # labels参数来自定义箱名"
   ]
  },
  {
   "cell_type": "markdown",
   "metadata": {},
   "source": [
    "### 传入整数个的箱数，根据数据中的最小值和最大值计算出等长的箱"
   ]
  },
  {
   "cell_type": "code",
   "execution_count": 12,
   "metadata": {
    "ExecuteTime": {
     "end_time": "2019-03-30T13:20:14.262328Z",
     "start_time": "2019-03-30T13:20:14.259328Z"
    }
   },
   "outputs": [],
   "source": [
    "data = np.random.rand(20)"
   ]
  },
  {
   "cell_type": "code",
   "execution_count": 13,
   "metadata": {
    "ExecuteTime": {
     "end_time": "2019-03-30T13:20:50.364911Z",
     "start_time": "2019-03-30T13:20:50.347916Z"
    }
   },
   "outputs": [
    {
     "data": {
      "text/plain": [
       "[(0.00043, 0.23], (0.47, 0.7], (0.00043, 0.23], (0.23, 0.47], (0.23, 0.47], ..., (0.00043, 0.23], (0.7, 0.93], (0.7, 0.93], (0.00043, 0.23], (0.23, 0.47]]\n",
       "Length: 20\n",
       "Categories (4, interval[float64]): [(0.00043, 0.23] < (0.23, 0.47] < (0.47, 0.7] < (0.7, 0.93]]"
      ]
     },
     "execution_count": 13,
     "metadata": {},
     "output_type": "execute_result"
    }
   ],
   "source": [
    "pd.cut(data, 4, precision=2) # 箱数为4，保留两位小数"
   ]
  },
  {
   "cell_type": "markdown",
   "metadata": {},
   "source": [
    "## pd.qcut() 基于样本的箱位数进行分箱，获得等长的想"
   ]
  },
  {
   "cell_type": "code",
   "execution_count": 14,
   "metadata": {
    "ExecuteTime": {
     "end_time": "2019-03-30T13:23:53.454403Z",
     "start_time": "2019-03-30T13:23:53.450400Z"
    }
   },
   "outputs": [],
   "source": [
    "data = np.random.randn(1000) # 正态分布"
   ]
  },
  {
   "cell_type": "code",
   "execution_count": 15,
   "metadata": {
    "ExecuteTime": {
     "end_time": "2019-03-30T13:24:19.652951Z",
     "start_time": "2019-03-30T13:24:19.641946Z"
    }
   },
   "outputs": [],
   "source": [
    "cats = pd.qcut(data, 4) # 分成4个箱"
   ]
  },
  {
   "cell_type": "code",
   "execution_count": 16,
   "metadata": {
    "ExecuteTime": {
     "end_time": "2019-03-30T13:24:23.512768Z",
     "start_time": "2019-03-30T13:24:23.505764Z"
    }
   },
   "outputs": [
    {
     "data": {
      "text/plain": [
       "[(-2.9779999999999998, -0.704], (-2.9779999999999998, -0.704], (-0.704, 0.00309], (-0.704, 0.00309], (-2.9779999999999998, -0.704], ..., (0.00309, 0.673], (-0.704, 0.00309], (0.00309, 0.673], (-0.704, 0.00309], (0.00309, 0.673]]\n",
       "Length: 1000\n",
       "Categories (4, interval[float64]): [(-2.9779999999999998, -0.704] < (-0.704, 0.00309] < (0.00309, 0.673] < (0.673, 3.133]]"
      ]
     },
     "execution_count": 16,
     "metadata": {},
     "output_type": "execute_result"
    }
   ],
   "source": [
    "cats"
   ]
  },
  {
   "cell_type": "code",
   "execution_count": 17,
   "metadata": {
    "ExecuteTime": {
     "end_time": "2019-03-30T13:24:28.356871Z",
     "start_time": "2019-03-30T13:24:28.346865Z"
    }
   },
   "outputs": [
    {
     "data": {
      "text/plain": [
       "array([0, 0, 1, 1, 0, 0, 2, 1, 3, 2, 2, 3, 0, 1, 3, 0, 0, 3, 1, 0, 0, 2,\n",
       "       0, 3, 3, 0, 2, 1, 0, 3, 1, 0, 0, 2, 0, 3, 0, 0, 2, 0, 1, 1, 3, 2,\n",
       "       2, 0, 2, 3, 0, 2, 0, 1, 1, 1, 3, 1, 0, 2, 2, 0, 2, 2, 1, 0, 0, 2,\n",
       "       0, 0, 0, 3, 3, 3, 1, 1, 0, 3, 3, 0, 3, 2, 1, 3, 0, 0, 2, 2, 2, 1,\n",
       "       0, 0, 1, 1, 1, 1, 2, 2, 3, 3, 1, 3, 2, 0, 0, 2, 0, 1, 3, 2, 0, 2,\n",
       "       1, 0, 3, 3, 2, 3, 3, 1, 3, 2, 0, 1, 2, 0, 2, 0, 0, 3, 3, 0, 2, 0,\n",
       "       0, 0, 3, 0, 2, 1, 0, 1, 2, 1, 0, 0, 2, 1, 0, 2, 3, 0, 1, 3, 0, 2,\n",
       "       2, 2, 3, 2, 1, 3, 0, 0, 1, 2, 3, 1, 1, 0, 0, 2, 0, 0, 1, 0, 0, 1,\n",
       "       2, 0, 2, 3, 3, 3, 0, 1, 2, 2, 0, 2, 1, 2, 3, 2, 2, 1, 0, 1, 2, 2,\n",
       "       1, 0, 0, 2, 3, 0, 1, 3, 3, 3, 1, 3, 1, 0, 2, 1, 1, 1, 0, 3, 1, 2,\n",
       "       1, 0, 2, 2, 0, 2, 0, 3, 2, 3, 2, 2, 3, 2, 1, 1, 2, 0, 1, 3, 0, 0,\n",
       "       3, 3, 1, 2, 3, 2, 1, 1, 3, 0, 3, 2, 2, 3, 0, 1, 2, 0, 1, 1, 1, 0,\n",
       "       3, 2, 0, 3, 1, 2, 3, 1, 1, 0, 1, 2, 0, 3, 2, 2, 2, 3, 3, 2, 1, 3,\n",
       "       2, 0, 2, 2, 0, 2, 1, 0, 2, 0, 2, 2, 3, 3, 2, 2, 3, 2, 3, 2, 2, 3,\n",
       "       0, 2, 1, 2, 3, 0, 1, 3, 1, 2, 2, 1, 2, 2, 0, 0, 2, 2, 1, 3, 0, 1,\n",
       "       1, 0, 3, 3, 0, 1, 1, 2, 1, 1, 2, 2, 3, 3, 0, 2, 2, 3, 3, 3, 1, 2,\n",
       "       3, 3, 3, 0, 3, 0, 2, 1, 2, 1, 2, 3, 0, 3, 3, 3, 0, 0, 0, 3, 0, 3,\n",
       "       0, 1, 3, 0, 3, 3, 2, 1, 1, 2, 3, 3, 0, 1, 1, 1, 1, 0, 3, 1, 3, 0,\n",
       "       0, 2, 1, 3, 0, 1, 2, 0, 3, 1, 2, 3, 2, 0, 2, 3, 1, 0, 1, 2, 0, 0,\n",
       "       1, 3, 2, 3, 3, 1, 1, 2, 3, 2, 2, 3, 0, 2, 0, 1, 1, 2, 2, 0, 1, 3,\n",
       "       0, 0, 0, 1, 0, 3, 1, 1, 2, 2, 3, 0, 0, 3, 1, 3, 0, 3, 3, 1, 0, 2,\n",
       "       1, 1, 2, 3, 2, 1, 2, 3, 0, 3, 1, 3, 0, 3, 1, 2, 1, 0, 1, 2, 1, 3,\n",
       "       2, 3, 2, 1, 0, 2, 3, 1, 3, 1, 3, 0, 1, 1, 0, 0, 3, 1, 2, 3, 1, 1,\n",
       "       3, 0, 1, 2, 3, 0, 3, 2, 2, 2, 0, 3, 1, 3, 2, 3, 2, 3, 2, 1, 3, 3,\n",
       "       3, 2, 3, 0, 2, 3, 1, 1, 1, 3, 1, 1, 1, 2, 1, 0, 2, 3, 3, 0, 2, 2,\n",
       "       3, 0, 0, 3, 2, 3, 2, 3, 1, 0, 3, 2, 2, 2, 0, 1, 0, 1, 3, 0, 1, 0,\n",
       "       0, 0, 0, 2, 2, 2, 0, 3, 2, 1, 1, 1, 1, 3, 2, 2, 2, 0, 3, 0, 0, 0,\n",
       "       3, 0, 0, 0, 3, 3, 1, 1, 3, 1, 0, 1, 3, 3, 3, 3, 2, 1, 0, 2, 1, 0,\n",
       "       1, 3, 0, 2, 0, 1, 1, 3, 2, 0, 2, 3, 1, 3, 2, 1, 3, 2, 0, 0, 1, 2,\n",
       "       0, 1, 2, 3, 2, 0, 3, 1, 0, 2, 2, 3, 2, 0, 2, 3, 0, 2, 3, 1, 1, 0,\n",
       "       3, 2, 1, 2, 1, 1, 1, 1, 3, 0, 0, 0, 2, 0, 1, 3, 0, 1, 3, 3, 1, 2,\n",
       "       3, 1, 3, 3, 2, 3, 1, 1, 3, 1, 0, 3, 2, 0, 2, 3, 1, 0, 0, 1, 0, 1,\n",
       "       1, 0, 3, 3, 3, 0, 1, 2, 3, 2, 1, 1, 0, 3, 2, 1, 2, 0, 1, 2, 0, 3,\n",
       "       3, 3, 1, 3, 3, 0, 0, 0, 3, 1, 0, 0, 3, 0, 1, 2, 3, 1, 3, 1, 0, 3,\n",
       "       0, 2, 1, 1, 1, 1, 2, 2, 1, 1, 3, 3, 2, 2, 3, 1, 1, 3, 1, 1, 0, 0,\n",
       "       3, 3, 0, 1, 1, 2, 3, 2, 0, 1, 2, 1, 0, 0, 0, 0, 2, 1, 1, 2, 1, 3,\n",
       "       0, 2, 1, 0, 1, 0, 2, 0, 1, 0, 3, 3, 3, 0, 3, 2, 1, 2, 0, 1, 2, 2,\n",
       "       2, 1, 0, 3, 0, 3, 1, 0, 0, 1, 1, 0, 0, 2, 0, 3, 0, 0, 1, 0, 1, 3,\n",
       "       0, 0, 2, 0, 3, 1, 2, 2, 1, 1, 1, 0, 2, 3, 2, 3, 2, 3, 2, 0, 2, 3,\n",
       "       1, 2, 1, 3, 3, 3, 2, 1, 2, 1, 0, 0, 3, 0, 1, 1, 1, 1, 3, 2, 1, 3,\n",
       "       0, 0, 1, 0, 0, 2, 3, 3, 3, 0, 2, 1, 1, 3, 3, 3, 3, 0, 3, 0, 0, 1,\n",
       "       2, 0, 0, 2, 2, 2, 3, 1, 2, 2, 1, 0, 1, 3, 3, 2, 1, 0, 1, 2, 1, 1,\n",
       "       2, 3, 3, 2, 2, 0, 0, 0, 2, 2, 3, 1, 2, 2, 3, 2, 2, 2, 0, 1, 0, 3,\n",
       "       0, 0, 2, 3, 3, 1, 3, 1, 1, 2, 3, 0, 2, 3, 3, 3, 3, 2, 3, 1, 2, 1,\n",
       "       2, 2, 1, 1, 1, 3, 3, 3, 1, 2, 0, 2, 0, 3, 1, 2, 2, 1, 2, 2, 1, 3,\n",
       "       3, 2, 0, 3, 1, 2, 1, 2, 1, 2], dtype=int8)"
      ]
     },
     "execution_count": 17,
     "metadata": {},
     "output_type": "execute_result"
    }
   ],
   "source": [
    "cats.codes"
   ]
  },
  {
   "cell_type": "code",
   "execution_count": 18,
   "metadata": {
    "ExecuteTime": {
     "end_time": "2019-03-30T13:24:35.855936Z",
     "start_time": "2019-03-30T13:24:35.849932Z"
    }
   },
   "outputs": [
    {
     "data": {
      "text/plain": [
       "IntervalIndex([(-2.9779999999999998, -0.704], (-0.704, 0.00309], (0.00309, 0.673], (0.673, 3.133]]\n",
       "              closed='right',\n",
       "              dtype='interval[float64]')"
      ]
     },
     "execution_count": 18,
     "metadata": {},
     "output_type": "execute_result"
    }
   ],
   "source": [
    "cats.categories"
   ]
  },
  {
   "cell_type": "code",
   "execution_count": 19,
   "metadata": {
    "ExecuteTime": {
     "end_time": "2019-03-30T13:24:50.777402Z",
     "start_time": "2019-03-30T13:24:50.770396Z"
    }
   },
   "outputs": [
    {
     "data": {
      "text/plain": [
       "(0.673, 3.133]                   250\n",
       "(0.00309, 0.673]                 250\n",
       "(-0.704, 0.00309]                250\n",
       "(-2.9779999999999998, -0.704]    250\n",
       "dtype: int64"
      ]
     },
     "execution_count": 19,
     "metadata": {},
     "output_type": "execute_result"
    }
   ],
   "source": [
    "pd.value_counts(cats)"
   ]
  },
  {
   "cell_type": "code",
   "execution_count": 20,
   "metadata": {
    "ExecuteTime": {
     "end_time": "2019-03-30T13:26:15.247831Z",
     "start_time": "2019-03-30T13:26:15.233823Z"
    }
   },
   "outputs": [
    {
     "data": {
      "text/plain": [
       "[(-1.258, 0.00309], (-2.9779999999999998, -1.258], (-1.258, 0.00309], (-1.258, 0.00309], (-2.9779999999999998, -1.258], ..., (0.00309, 1.21], (-1.258, 0.00309], (0.00309, 1.21], (-1.258, 0.00309], (0.00309, 1.21]]\n",
       "Length: 1000\n",
       "Categories (4, interval[float64]): [(-2.9779999999999998, -1.258] < (-1.258, 0.00309] < (0.00309, 1.21] < (1.21, 3.133]]"
      ]
     },
     "execution_count": 20,
     "metadata": {},
     "output_type": "execute_result"
    }
   ],
   "source": [
    "pd.qcut(data, [0, 0.1, 0.5, 0.9, 1.0]) # 自定义分位数"
   ]
  }
 ],
 "metadata": {
  "kernelspec": {
   "display_name": "Python 3",
   "language": "python",
   "name": "python3"
  },
  "language_info": {
   "codemirror_mode": {
    "name": "ipython",
    "version": 3
   },
   "file_extension": ".py",
   "mimetype": "text/x-python",
   "name": "python",
   "nbconvert_exporter": "python",
   "pygments_lexer": "ipython3",
   "version": "3.7.1"
  },
  "toc": {
   "base_numbering": 1,
   "nav_menu": {},
   "number_sections": true,
   "sideBar": true,
   "skip_h1_title": false,
   "title_cell": "Table of Contents",
   "title_sidebar": "Contents",
   "toc_cell": true,
   "toc_position": {},
   "toc_section_display": true,
   "toc_window_display": false
  },
  "varInspector": {
   "cols": {
    "lenName": 16,
    "lenType": 16,
    "lenVar": 40
   },
   "kernels_config": {
    "python": {
     "delete_cmd_postfix": "",
     "delete_cmd_prefix": "del ",
     "library": "var_list.py",
     "varRefreshCmd": "print(var_dic_list())"
    },
    "r": {
     "delete_cmd_postfix": ") ",
     "delete_cmd_prefix": "rm(",
     "library": "var_list.r",
     "varRefreshCmd": "cat(var_dic_list()) "
    }
   },
   "types_to_exclude": [
    "module",
    "function",
    "builtin_function_or_method",
    "instance",
    "_Feature"
   ],
   "window_display": true
  }
 },
 "nbformat": 4,
 "nbformat_minor": 2
}
