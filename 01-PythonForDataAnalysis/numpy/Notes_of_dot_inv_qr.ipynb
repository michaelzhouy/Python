{
 "cells": [
  {
   "cell_type": "markdown",
   "metadata": {
    "toc": true
   },
   "source": [
    "<h1>Table of Contents<span class=\"tocSkip\"></span></h1>\n",
    "<div class=\"toc\"><ul class=\"toc-item\"></ul></div>"
   ]
  },
  {
   "cell_type": "code",
   "execution_count": 1,
   "metadata": {
    "ExecuteTime": {
     "end_time": "2019-04-11T02:56:27.739050Z",
     "start_time": "2019-04-11T02:56:27.736064Z"
    }
   },
   "outputs": [],
   "source": [
    "import numpy as np"
   ]
  },
  {
   "cell_type": "code",
   "execution_count": 2,
   "metadata": {
    "ExecuteTime": {
     "end_time": "2019-04-11T02:57:29.082570Z",
     "start_time": "2019-04-11T02:57:29.078567Z"
    }
   },
   "outputs": [],
   "source": [
    "x = np.array([[1., 2., 3.],\n",
    "              [4., 5., 6.]])"
   ]
  },
  {
   "cell_type": "code",
   "execution_count": 3,
   "metadata": {
    "ExecuteTime": {
     "end_time": "2019-04-11T02:57:30.402792Z",
     "start_time": "2019-04-11T02:57:30.397807Z"
    }
   },
   "outputs": [],
   "source": [
    "y = np.array([[6., 23.],\n",
    "              [-1, 7],\n",
    "              [8, 9]])"
   ]
  },
  {
   "cell_type": "code",
   "execution_count": 4,
   "metadata": {
    "ExecuteTime": {
     "end_time": "2019-04-11T02:57:33.058666Z",
     "start_time": "2019-04-11T02:57:33.046658Z"
    }
   },
   "outputs": [
    {
     "data": {
      "text/plain": [
       "array([[1., 2., 3.],\n",
       "       [4., 5., 6.]])"
      ]
     },
     "execution_count": 4,
     "metadata": {},
     "output_type": "execute_result"
    }
   ],
   "source": [
    "x"
   ]
  },
  {
   "cell_type": "code",
   "execution_count": 5,
   "metadata": {
    "ExecuteTime": {
     "end_time": "2019-04-11T02:57:35.188600Z",
     "start_time": "2019-04-11T02:57:35.181615Z"
    }
   },
   "outputs": [
    {
     "data": {
      "text/plain": [
       "array([[ 6., 23.],\n",
       "       [-1.,  7.],\n",
       "       [ 8.,  9.]])"
      ]
     },
     "execution_count": 5,
     "metadata": {},
     "output_type": "execute_result"
    }
   ],
   "source": [
    "y"
   ]
  },
  {
   "cell_type": "code",
   "execution_count": 6,
   "metadata": {
    "ExecuteTime": {
     "end_time": "2019-04-11T02:58:06.543391Z",
     "start_time": "2019-04-11T02:58:06.505381Z"
    }
   },
   "outputs": [
    {
     "data": {
      "text/plain": [
       "array([[ 28.,  64.],\n",
       "       [ 67., 181.]])"
      ]
     },
     "execution_count": 6,
     "metadata": {},
     "output_type": "execute_result"
    }
   ],
   "source": [
    "x.dot(y) # x·y 矩阵乘法"
   ]
  },
  {
   "cell_type": "code",
   "execution_count": 7,
   "metadata": {
    "ExecuteTime": {
     "end_time": "2019-04-11T02:58:24.674907Z",
     "start_time": "2019-04-11T02:58:24.669904Z"
    }
   },
   "outputs": [
    {
     "data": {
      "text/plain": [
       "array([[ 28.,  64.],\n",
       "       [ 67., 181.]])"
      ]
     },
     "execution_count": 7,
     "metadata": {},
     "output_type": "execute_result"
    }
   ],
   "source": [
    "np.dot(x, y)"
   ]
  },
  {
   "cell_type": "code",
   "execution_count": 8,
   "metadata": {
    "ExecuteTime": {
     "end_time": "2019-04-11T02:58:43.989245Z",
     "start_time": "2019-04-11T02:58:43.978238Z"
    }
   },
   "outputs": [
    {
     "data": {
      "text/plain": [
       "array([ 6., 15.])"
      ]
     },
     "execution_count": 8,
     "metadata": {},
     "output_type": "execute_result"
    }
   ],
   "source": [
    "np.dot(x, np.ones(3))"
   ]
  },
  {
   "cell_type": "code",
   "execution_count": 9,
   "metadata": {
    "ExecuteTime": {
     "end_time": "2019-04-11T02:58:58.922659Z",
     "start_time": "2019-04-11T02:58:58.916654Z"
    }
   },
   "outputs": [
    {
     "data": {
      "text/plain": [
       "array([ 6., 15.])"
      ]
     },
     "execution_count": 9,
     "metadata": {},
     "output_type": "execute_result"
    }
   ],
   "source": [
    "x @ np.ones(3)"
   ]
  },
  {
   "cell_type": "code",
   "execution_count": 10,
   "metadata": {
    "ExecuteTime": {
     "end_time": "2019-04-11T02:59:29.975172Z",
     "start_time": "2019-04-11T02:59:29.972170Z"
    }
   },
   "outputs": [],
   "source": [
    "from numpy.linalg import inv, qr"
   ]
  },
  {
   "cell_type": "code",
   "execution_count": 11,
   "metadata": {
    "ExecuteTime": {
     "end_time": "2019-04-11T02:59:48.293589Z",
     "start_time": "2019-04-11T02:59:48.289586Z"
    }
   },
   "outputs": [],
   "source": [
    "X = np.random.randn(5, 5)"
   ]
  },
  {
   "cell_type": "code",
   "execution_count": 12,
   "metadata": {
    "ExecuteTime": {
     "end_time": "2019-04-11T03:00:23.113125Z",
     "start_time": "2019-04-11T03:00:23.100114Z"
    }
   },
   "outputs": [],
   "source": [
    "mat = X.T.dot(X) # X.T·X"
   ]
  },
  {
   "cell_type": "code",
   "execution_count": 13,
   "metadata": {
    "ExecuteTime": {
     "end_time": "2019-04-11T03:00:32.424428Z",
     "start_time": "2019-04-11T03:00:32.405414Z"
    }
   },
   "outputs": [
    {
     "data": {
      "text/plain": [
       "array([[  92.50802841,  147.73938741,  -31.6624613 , -190.54580929,\n",
       "         120.90098936],\n",
       "       [ 147.73938741,  238.78559219,  -51.06638369, -307.57531557,\n",
       "         195.4904419 ],\n",
       "       [ -31.6624613 ,  -51.06638369,   11.22397802,   65.78426841,\n",
       "         -41.88742174],\n",
       "       [-190.54580929, -307.57531557,   65.78426841,  396.59492589,\n",
       "        -251.80105103],\n",
       "       [ 120.90098936,  195.4904419 ,  -41.88742174, -251.80105103,\n",
       "         160.41731547]])"
      ]
     },
     "execution_count": 13,
     "metadata": {},
     "output_type": "execute_result"
    }
   ],
   "source": [
    "inv(mat) # 求逆"
   ]
  },
  {
   "cell_type": "code",
   "execution_count": 14,
   "metadata": {
    "ExecuteTime": {
     "end_time": "2019-04-11T03:01:06.499012Z",
     "start_time": "2019-04-11T03:01:06.491003Z"
    }
   },
   "outputs": [
    {
     "data": {
      "text/plain": [
       "array([[ 1.00000000e+00, -3.13717241e-15, -1.07067585e-15,\n",
       "         1.35377040e-14,  1.44355429e-14],\n",
       "       [ 8.64218738e-14,  1.00000000e+00, -3.15918408e-14,\n",
       "        -5.29468911e-13, -4.45440205e-14],\n",
       "       [ 1.30796855e-14,  1.55637529e-14,  1.00000000e+00,\n",
       "         1.84661058e-14,  2.05516952e-14],\n",
       "       [-9.98566482e-14,  1.58490968e-14,  1.96200618e-14,\n",
       "         1.00000000e+00, -9.74488352e-14],\n",
       "       [-2.36063350e-14,  8.06814200e-14, -1.30860438e-14,\n",
       "        -1.65719984e-14,  1.00000000e+00]])"
      ]
     },
     "execution_count": 14,
     "metadata": {},
     "output_type": "execute_result"
    }
   ],
   "source": [
    "mat.dot(inv(mat)) # mat·(mat)-1"
   ]
  },
  {
   "cell_type": "code",
   "execution_count": 15,
   "metadata": {
    "ExecuteTime": {
     "end_time": "2019-04-11T03:01:28.662351Z",
     "start_time": "2019-04-11T03:01:28.646340Z"
    }
   },
   "outputs": [],
   "source": [
    "q, r = qr(mat) # QR分解"
   ]
  },
  {
   "cell_type": "code",
   "execution_count": 16,
   "metadata": {
    "ExecuteTime": {
     "end_time": "2019-04-11T03:01:34.690822Z",
     "start_time": "2019-04-11T03:01:34.684816Z"
    }
   },
   "outputs": [
    {
     "data": {
      "text/plain": [
       "array([[-1.29427044e+00, -1.47992100e+00, -1.16345157e+00,\n",
       "        -2.03551527e+00, -7.20880116e-01],\n",
       "       [ 0.00000000e+00, -6.92788818e+00,  3.88018495e-01,\n",
       "        -3.55527394e+00,  2.96553313e+00],\n",
       "       [ 0.00000000e+00,  0.00000000e+00, -3.46354206e+00,\n",
       "        -2.71663233e-03, -9.09531708e-01],\n",
       "       [ 0.00000000e+00,  0.00000000e+00,  0.00000000e+00,\n",
       "        -1.25471885e+00, -1.97451642e+00],\n",
       "       [ 0.00000000e+00,  0.00000000e+00,  0.00000000e+00,\n",
       "         0.00000000e+00,  2.63774574e-03]])"
      ]
     },
     "execution_count": 16,
     "metadata": {},
     "output_type": "execute_result"
    }
   ],
   "source": [
    "r"
   ]
  }
 ],
 "metadata": {
  "kernelspec": {
   "display_name": "Python 3",
   "language": "python",
   "name": "python3"
  },
  "language_info": {
   "codemirror_mode": {
    "name": "ipython",
    "version": 3
   },
   "file_extension": ".py",
   "mimetype": "text/x-python",
   "name": "python",
   "nbconvert_exporter": "python",
   "pygments_lexer": "ipython3",
   "version": "3.7.1"
  },
  "toc": {
   "base_numbering": 1,
   "nav_menu": {},
   "number_sections": true,
   "sideBar": true,
   "skip_h1_title": false,
   "title_cell": "Table of Contents",
   "title_sidebar": "Contents",
   "toc_cell": true,
   "toc_position": {},
   "toc_section_display": true,
   "toc_window_display": false
  },
  "varInspector": {
   "cols": {
    "lenName": 16,
    "lenType": 16,
    "lenVar": 40
   },
   "kernels_config": {
    "python": {
     "delete_cmd_postfix": "",
     "delete_cmd_prefix": "del ",
     "library": "var_list.py",
     "varRefreshCmd": "print(var_dic_list())"
    },
    "r": {
     "delete_cmd_postfix": ") ",
     "delete_cmd_prefix": "rm(",
     "library": "var_list.r",
     "varRefreshCmd": "cat(var_dic_list()) "
    }
   },
   "types_to_exclude": [
    "module",
    "function",
    "builtin_function_or_method",
    "instance",
    "_Feature"
   ],
   "window_display": true
  }
 },
 "nbformat": 4,
 "nbformat_minor": 2
}
