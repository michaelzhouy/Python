{
 "cells": [
  {
   "cell_type": "markdown",
   "metadata": {
    "toc": true
   },
   "source": [
    "<h1>Table of Contents<span class=\"tocSkip\"></span></h1>\n",
    "<div class=\"toc\"><ul class=\"toc-item\"><li><span><a href=\"#tz_localize()-将简单时区转换到本地化时区\" data-toc-modified-id=\"tz_localize()-将简单时区转换到本地化时区-1\"><span class=\"toc-item-num\">1&nbsp;&nbsp;</span>tz_localize() 将简单时区转换到本地化时区</a></span></li><li><span><a href=\"#tz.convert()-时间序列被本地化为某个特定的时区，可通过tz_convert()将其转换为另一个时区\" data-toc-modified-id=\"tz.convert()-时间序列被本地化为某个特定的时区，可通过tz_convert()将其转换为另一个时区-2\"><span class=\"toc-item-num\">2&nbsp;&nbsp;</span>tz.convert() 时间序列被本地化为某个特定的时区，可通过tz_convert()将其转换为另一个时区</a></span></li><li><span><a href=\"#value属性\" data-toc-modified-id=\"value属性-3\"><span class=\"toc-item-num\">3&nbsp;&nbsp;</span>value属性</a></span></li><li><span><a href=\"#不同时区间的操作\" data-toc-modified-id=\"不同时区间的操作-4\"><span class=\"toc-item-num\">4&nbsp;&nbsp;</span>不同时区间的操作</a></span></li></ul></div>"
   ]
  },
  {
   "cell_type": "code",
   "execution_count": 1,
   "metadata": {
    "ExecuteTime": {
     "end_time": "2019-04-20T03:23:45.137433Z",
     "start_time": "2019-04-20T03:23:43.808492Z"
    }
   },
   "outputs": [],
   "source": [
    "import numpy as np\n",
    "import pandas as pd\n",
    "from pandas import Series, DataFrame\n",
    "import pytz"
   ]
  },
  {
   "cell_type": "code",
   "execution_count": 2,
   "metadata": {
    "ExecuteTime": {
     "end_time": "2019-04-20T03:23:48.535009Z",
     "start_time": "2019-04-20T03:23:45.144436Z"
    }
   },
   "outputs": [
    {
     "data": {
      "text/plain": [
       "['US/Eastern', 'US/Hawaii', 'US/Mountain', 'US/Pacific', 'UTC']"
      ]
     },
     "execution_count": 2,
     "metadata": {},
     "output_type": "execute_result"
    }
   ],
   "source": [
    "pytz.common_timezones[-5:]"
   ]
  },
  {
   "cell_type": "markdown",
   "metadata": {},
   "source": [
    "# tz_localize() 将简单时区转换到本地化时区"
   ]
  },
  {
   "cell_type": "code",
   "execution_count": 3,
   "metadata": {
    "ExecuteTime": {
     "end_time": "2019-04-20T03:23:48.554523Z",
     "start_time": "2019-04-20T03:23:48.537511Z"
    }
   },
   "outputs": [],
   "source": [
    "rng = pd.date_range('3/9/2012 9:30', \n",
    "                    periods=6, \n",
    "                    freq='D') # 频率，每天"
   ]
  },
  {
   "cell_type": "code",
   "execution_count": 4,
   "metadata": {
    "ExecuteTime": {
     "end_time": "2019-04-20T03:23:48.584044Z",
     "start_time": "2019-04-20T03:23:48.564031Z"
    }
   },
   "outputs": [],
   "source": [
    "ts = Series(np.random.randn(len(rng)), \n",
    "            index=rng)"
   ]
  },
  {
   "cell_type": "code",
   "execution_count": 5,
   "metadata": {
    "ExecuteTime": {
     "end_time": "2019-04-20T03:23:48.609572Z",
     "start_time": "2019-04-20T03:23:48.592550Z"
    }
   },
   "outputs": [
    {
     "data": {
      "text/plain": [
       "2012-03-09 09:30:00   -0.894090\n",
       "2012-03-10 09:30:00   -0.641087\n",
       "2012-03-11 09:30:00   -0.573347\n",
       "2012-03-12 09:30:00    0.722931\n",
       "2012-03-13 09:30:00   -1.206348\n",
       "2012-03-14 09:30:00    0.547765\n",
       "Freq: D, dtype: float64"
      ]
     },
     "execution_count": 5,
     "metadata": {},
     "output_type": "execute_result"
    }
   ],
   "source": [
    "ts"
   ]
  },
  {
   "cell_type": "code",
   "execution_count": 6,
   "metadata": {
    "ExecuteTime": {
     "end_time": "2019-04-20T03:23:48.662098Z",
     "start_time": "2019-04-20T03:23:48.615566Z"
    }
   },
   "outputs": [
    {
     "name": "stdout",
     "output_type": "stream",
     "text": [
      "None\n"
     ]
    }
   ],
   "source": [
    "# 索引的时区属性(tz)为None\n",
    "print(ts.index.tz)"
   ]
  },
  {
   "cell_type": "code",
   "execution_count": 7,
   "metadata": {
    "ExecuteTime": {
     "end_time": "2019-04-20T03:23:48.703128Z",
     "start_time": "2019-04-20T03:23:48.671605Z"
    }
   },
   "outputs": [
    {
     "data": {
      "text/plain": [
       "DatetimeIndex(['2012-03-09 09:30:00+00:00', '2012-03-10 09:30:00+00:00',\n",
       "               '2012-03-11 09:30:00+00:00', '2012-03-12 09:30:00+00:00',\n",
       "               '2012-03-13 09:30:00+00:00', '2012-03-14 09:30:00+00:00',\n",
       "               '2012-03-15 09:30:00+00:00', '2012-03-16 09:30:00+00:00',\n",
       "               '2012-03-17 09:30:00+00:00', '2012-03-18 09:30:00+00:00'],\n",
       "              dtype='datetime64[ns, UTC]', freq='D')"
      ]
     },
     "execution_count": 7,
     "metadata": {},
     "output_type": "execute_result"
    }
   ],
   "source": [
    "pd.date_range('3/9/2012 9:30', # 起始时间\n",
    "              periods=10, # 10个时间点\n",
    "              freq='D', # 频率\n",
    "              tz='UTC') # 时区"
   ]
  },
  {
   "cell_type": "code",
   "execution_count": 8,
   "metadata": {
    "ExecuteTime": {
     "end_time": "2019-04-20T03:23:48.731649Z",
     "start_time": "2019-04-20T03:23:48.710133Z"
    }
   },
   "outputs": [
    {
     "data": {
      "text/plain": [
       "2012-03-09 09:30:00   -0.894090\n",
       "2012-03-10 09:30:00   -0.641087\n",
       "2012-03-11 09:30:00   -0.573347\n",
       "2012-03-12 09:30:00    0.722931\n",
       "2012-03-13 09:30:00   -1.206348\n",
       "2012-03-14 09:30:00    0.547765\n",
       "Freq: D, dtype: float64"
      ]
     },
     "execution_count": 8,
     "metadata": {},
     "output_type": "execute_result"
    }
   ],
   "source": [
    "ts"
   ]
  },
  {
   "cell_type": "code",
   "execution_count": 9,
   "metadata": {
    "ExecuteTime": {
     "end_time": "2019-04-20T03:23:48.758176Z",
     "start_time": "2019-04-20T03:23:48.736151Z"
    }
   },
   "outputs": [],
   "source": [
    "# tz_localize() 将简单时区转换为本地化时区\n",
    "ts_utc = ts.tz_localize('UTC')"
   ]
  },
  {
   "cell_type": "code",
   "execution_count": 10,
   "metadata": {
    "ExecuteTime": {
     "end_time": "2019-04-20T03:23:48.780683Z",
     "start_time": "2019-04-20T03:23:48.762170Z"
    }
   },
   "outputs": [
    {
     "data": {
      "text/plain": [
       "2012-03-09 09:30:00+00:00   -0.894090\n",
       "2012-03-10 09:30:00+00:00   -0.641087\n",
       "2012-03-11 09:30:00+00:00   -0.573347\n",
       "2012-03-12 09:30:00+00:00    0.722931\n",
       "2012-03-13 09:30:00+00:00   -1.206348\n",
       "2012-03-14 09:30:00+00:00    0.547765\n",
       "Freq: D, dtype: float64"
      ]
     },
     "execution_count": 10,
     "metadata": {},
     "output_type": "execute_result"
    }
   ],
   "source": [
    "ts_utc"
   ]
  },
  {
   "cell_type": "code",
   "execution_count": 11,
   "metadata": {
    "ExecuteTime": {
     "end_time": "2019-04-20T03:23:48.832220Z",
     "start_time": "2019-04-20T03:23:48.785186Z"
    }
   },
   "outputs": [
    {
     "data": {
      "text/plain": [
       "DatetimeIndex(['2012-03-09 09:30:00+00:00', '2012-03-10 09:30:00+00:00',\n",
       "               '2012-03-11 09:30:00+00:00', '2012-03-12 09:30:00+00:00',\n",
       "               '2012-03-13 09:30:00+00:00', '2012-03-14 09:30:00+00:00'],\n",
       "              dtype='datetime64[ns, UTC]', freq='D')"
      ]
     },
     "execution_count": 11,
     "metadata": {},
     "output_type": "execute_result"
    }
   ],
   "source": [
    "# 索引\n",
    "ts_utc.index"
   ]
  },
  {
   "cell_type": "markdown",
   "metadata": {},
   "source": [
    "# tz.convert() 时间序列被本地化为某个特定的时区，可通过tz_convert()将其转换为另一个时区"
   ]
  },
  {
   "cell_type": "code",
   "execution_count": 12,
   "metadata": {
    "ExecuteTime": {
     "end_time": "2019-04-20T03:23:48.885257Z",
     "start_time": "2019-04-20T03:23:48.843728Z"
    }
   },
   "outputs": [
    {
     "data": {
      "text/plain": [
       "2012-03-09 04:30:00-05:00   -0.894090\n",
       "2012-03-10 04:30:00-05:00   -0.641087\n",
       "2012-03-11 05:30:00-04:00   -0.573347\n",
       "2012-03-12 05:30:00-04:00    0.722931\n",
       "2012-03-13 05:30:00-04:00   -1.206348\n",
       "2012-03-14 05:30:00-04:00    0.547765\n",
       "Freq: D, dtype: float64"
      ]
     },
     "execution_count": 12,
     "metadata": {},
     "output_type": "execute_result"
    }
   ],
   "source": [
    "# tz_convert() 转换时区\n",
    "ts_utc.tz_convert('America/New_York')"
   ]
  },
  {
   "cell_type": "code",
   "execution_count": 13,
   "metadata": {
    "ExecuteTime": {
     "end_time": "2019-04-20T03:23:48.916278Z",
     "start_time": "2019-04-20T03:23:48.888259Z"
    }
   },
   "outputs": [],
   "source": [
    "ts_eastern = ts.tz_localize('America/New_York')"
   ]
  },
  {
   "cell_type": "code",
   "execution_count": 14,
   "metadata": {
    "ExecuteTime": {
     "end_time": "2019-04-20T03:23:48.951803Z",
     "start_time": "2019-04-20T03:23:48.922283Z"
    }
   },
   "outputs": [
    {
     "data": {
      "text/plain": [
       "2012-03-09 09:30:00-05:00   -0.894090\n",
       "2012-03-10 09:30:00-05:00   -0.641087\n",
       "2012-03-11 09:30:00-04:00   -0.573347\n",
       "2012-03-12 09:30:00-04:00    0.722931\n",
       "2012-03-13 09:30:00-04:00   -1.206348\n",
       "2012-03-14 09:30:00-04:00    0.547765\n",
       "Freq: D, dtype: float64"
      ]
     },
     "execution_count": 14,
     "metadata": {},
     "output_type": "execute_result"
    }
   ],
   "source": [
    "ts_eastern"
   ]
  },
  {
   "cell_type": "code",
   "execution_count": 15,
   "metadata": {
    "ExecuteTime": {
     "end_time": "2019-04-20T03:23:48.986829Z",
     "start_time": "2019-04-20T03:23:48.961810Z"
    }
   },
   "outputs": [
    {
     "data": {
      "text/plain": [
       "2012-03-09 14:30:00+00:00   -0.894090\n",
       "2012-03-10 14:30:00+00:00   -0.641087\n",
       "2012-03-11 13:30:00+00:00   -0.573347\n",
       "2012-03-12 13:30:00+00:00    0.722931\n",
       "2012-03-13 13:30:00+00:00   -1.206348\n",
       "2012-03-14 13:30:00+00:00    0.547765\n",
       "Freq: D, dtype: float64"
      ]
     },
     "execution_count": 15,
     "metadata": {},
     "output_type": "execute_result"
    }
   ],
   "source": [
    "ts_eastern.tz_convert('UTC')"
   ]
  },
  {
   "cell_type": "code",
   "execution_count": 16,
   "metadata": {
    "ExecuteTime": {
     "end_time": "2019-04-20T03:23:49.030359Z",
     "start_time": "2019-04-20T03:23:48.989831Z"
    }
   },
   "outputs": [
    {
     "data": {
      "text/plain": [
       "2012-03-09 15:30:00+01:00   -0.894090\n",
       "2012-03-10 15:30:00+01:00   -0.641087\n",
       "2012-03-11 14:30:00+01:00   -0.573347\n",
       "2012-03-12 14:30:00+01:00    0.722931\n",
       "2012-03-13 14:30:00+01:00   -1.206348\n",
       "2012-03-14 14:30:00+01:00    0.547765\n",
       "Freq: D, dtype: float64"
      ]
     },
     "execution_count": 16,
     "metadata": {},
     "output_type": "execute_result"
    }
   ],
   "source": [
    "ts_eastern.tz_convert('Europe/Berlin')"
   ]
  },
  {
   "cell_type": "code",
   "execution_count": 17,
   "metadata": {
    "ExecuteTime": {
     "end_time": "2019-04-20T03:23:49.051875Z",
     "start_time": "2019-04-20T03:23:49.033862Z"
    }
   },
   "outputs": [
    {
     "data": {
      "text/plain": [
       "DatetimeIndex(['2012-03-09 09:30:00+08:00', '2012-03-10 09:30:00+08:00',\n",
       "               '2012-03-11 09:30:00+08:00', '2012-03-12 09:30:00+08:00',\n",
       "               '2012-03-13 09:30:00+08:00', '2012-03-14 09:30:00+08:00'],\n",
       "              dtype='datetime64[ns, Asia/Shanghai]', freq='D')"
      ]
     },
     "execution_count": 17,
     "metadata": {},
     "output_type": "execute_result"
    }
   ],
   "source": [
    "ts.index.tz_localize('Asia/Shanghai')"
   ]
  },
  {
   "cell_type": "markdown",
   "metadata": {},
   "source": [
    "# value属性"
   ]
  },
  {
   "cell_type": "code",
   "execution_count": 18,
   "metadata": {
    "ExecuteTime": {
     "end_time": "2019-04-20T03:23:49.065884Z",
     "start_time": "2019-04-20T03:23:49.054877Z"
    }
   },
   "outputs": [],
   "source": [
    "stamp = pd.Timestamp('2011-03-12 04:00')"
   ]
  },
  {
   "cell_type": "code",
   "execution_count": 19,
   "metadata": {
    "ExecuteTime": {
     "end_time": "2019-04-20T03:23:49.095407Z",
     "start_time": "2019-04-20T03:23:49.068386Z"
    }
   },
   "outputs": [],
   "source": [
    "stamp_utc = stamp.tz_localize('utc')"
   ]
  },
  {
   "cell_type": "code",
   "execution_count": 20,
   "metadata": {
    "ExecuteTime": {
     "end_time": "2019-04-20T03:23:49.139436Z",
     "start_time": "2019-04-20T03:23:49.099908Z"
    }
   },
   "outputs": [
    {
     "data": {
      "text/plain": [
       "Timestamp('2011-03-11 23:00:00-0500', tz='America/New_York')"
      ]
     },
     "execution_count": 20,
     "metadata": {},
     "output_type": "execute_result"
    }
   ],
   "source": [
    "stamp_utc.tz_convert('America/New_York')"
   ]
  },
  {
   "cell_type": "code",
   "execution_count": 21,
   "metadata": {
    "ExecuteTime": {
     "end_time": "2019-04-20T03:23:49.169957Z",
     "start_time": "2019-04-20T03:23:49.148443Z"
    }
   },
   "outputs": [],
   "source": [
    "stamp_moscow = pd.Timestamp('2011-03-12 04:00', tz='Europe/Moscow')"
   ]
  },
  {
   "cell_type": "code",
   "execution_count": 22,
   "metadata": {
    "ExecuteTime": {
     "end_time": "2019-04-20T03:23:49.212490Z",
     "start_time": "2019-04-20T03:23:49.201980Z"
    }
   },
   "outputs": [
    {
     "data": {
      "text/plain": [
       "Timestamp('2011-03-12 04:00:00+0300', tz='Europe/Moscow')"
      ]
     },
     "execution_count": 22,
     "metadata": {},
     "output_type": "execute_result"
    }
   ],
   "source": [
    "stamp_moscow"
   ]
  },
  {
   "cell_type": "code",
   "execution_count": 23,
   "metadata": {
    "ExecuteTime": {
     "end_time": "2019-04-20T03:23:49.256519Z",
     "start_time": "2019-04-20T03:23:49.230501Z"
    }
   },
   "outputs": [
    {
     "data": {
      "text/plain": [
       "1299902400000000000"
      ]
     },
     "execution_count": 23,
     "metadata": {},
     "output_type": "execute_result"
    }
   ],
   "source": [
    "stamp_utc.value"
   ]
  },
  {
   "cell_type": "code",
   "execution_count": 24,
   "metadata": {
    "ExecuteTime": {
     "end_time": "2019-04-20T03:23:49.280536Z",
     "start_time": "2019-04-20T03:23:49.262523Z"
    }
   },
   "outputs": [
    {
     "data": {
      "text/plain": [
       "1299902400000000000"
      ]
     },
     "execution_count": 24,
     "metadata": {},
     "output_type": "execute_result"
    }
   ],
   "source": [
    "stamp_utc.tz_convert('America/New_York').value"
   ]
  },
  {
   "cell_type": "code",
   "execution_count": 25,
   "metadata": {
    "ExecuteTime": {
     "end_time": "2019-04-20T03:23:49.318563Z",
     "start_time": "2019-04-20T03:23:49.287112Z"
    }
   },
   "outputs": [],
   "source": [
    "from pandas.tseries.offsets import Hour"
   ]
  },
  {
   "cell_type": "code",
   "execution_count": 26,
   "metadata": {
    "ExecuteTime": {
     "end_time": "2019-04-20T03:23:49.358092Z",
     "start_time": "2019-04-20T03:23:49.327569Z"
    }
   },
   "outputs": [],
   "source": [
    "stamp = pd.Timestamp('2012-03-12 01:30', tz='US/Eastern')"
   ]
  },
  {
   "cell_type": "code",
   "execution_count": 27,
   "metadata": {
    "ExecuteTime": {
     "end_time": "2019-04-20T03:23:49.385610Z",
     "start_time": "2019-04-20T03:23:49.363594Z"
    }
   },
   "outputs": [
    {
     "data": {
      "text/plain": [
       "Timestamp('2012-03-12 01:30:00-0400', tz='US/Eastern')"
      ]
     },
     "execution_count": 27,
     "metadata": {},
     "output_type": "execute_result"
    }
   ],
   "source": [
    "stamp"
   ]
  },
  {
   "cell_type": "code",
   "execution_count": 28,
   "metadata": {
    "ExecuteTime": {
     "end_time": "2019-04-20T03:23:49.411629Z",
     "start_time": "2019-04-20T03:23:49.389112Z"
    }
   },
   "outputs": [
    {
     "data": {
      "text/plain": [
       "Timestamp('2012-03-12 02:30:00-0400', tz='US/Eastern')"
      ]
     },
     "execution_count": 28,
     "metadata": {},
     "output_type": "execute_result"
    }
   ],
   "source": [
    "stamp + Hour()"
   ]
  },
  {
   "cell_type": "code",
   "execution_count": 29,
   "metadata": {
    "ExecuteTime": {
     "end_time": "2019-04-20T03:23:49.438647Z",
     "start_time": "2019-04-20T03:23:49.420634Z"
    }
   },
   "outputs": [],
   "source": [
    "stamp = pd.Timestamp('2012-11-04 00:30', tz='US/Eastern')"
   ]
  },
  {
   "cell_type": "code",
   "execution_count": 30,
   "metadata": {
    "ExecuteTime": {
     "end_time": "2019-04-20T03:23:49.469670Z",
     "start_time": "2019-04-20T03:23:49.444150Z"
    }
   },
   "outputs": [
    {
     "data": {
      "text/plain": [
       "Timestamp('2012-11-04 00:30:00-0400', tz='US/Eastern')"
      ]
     },
     "execution_count": 30,
     "metadata": {},
     "output_type": "execute_result"
    }
   ],
   "source": [
    "stamp"
   ]
  },
  {
   "cell_type": "code",
   "execution_count": 31,
   "metadata": {
    "ExecuteTime": {
     "end_time": "2019-04-20T03:23:49.503694Z",
     "start_time": "2019-04-20T03:23:49.472671Z"
    }
   },
   "outputs": [
    {
     "data": {
      "text/plain": [
       "Timestamp('2012-11-04 01:30:00-0500', tz='US/Eastern')"
      ]
     },
     "execution_count": 31,
     "metadata": {},
     "output_type": "execute_result"
    }
   ],
   "source": [
    "stamp + 2 * Hour()"
   ]
  },
  {
   "cell_type": "markdown",
   "metadata": {},
   "source": [
    "# 不同时区间的操作"
   ]
  },
  {
   "cell_type": "code",
   "execution_count": 32,
   "metadata": {
    "ExecuteTime": {
     "end_time": "2019-04-20T03:23:49.527711Z",
     "start_time": "2019-04-20T03:23:49.508196Z"
    }
   },
   "outputs": [],
   "source": [
    "rng = pd.date_range('3/7/2012 9:30', \n",
    "                    periods=10, \n",
    "                    freq='B') # 频率，工作日"
   ]
  },
  {
   "cell_type": "code",
   "execution_count": 33,
   "metadata": {
    "ExecuteTime": {
     "end_time": "2019-04-20T03:23:49.549727Z",
     "start_time": "2019-04-20T03:23:49.530713Z"
    }
   },
   "outputs": [],
   "source": [
    "ts = Series(np.random.randn(len(rng)), index=rng)"
   ]
  },
  {
   "cell_type": "code",
   "execution_count": 34,
   "metadata": {
    "ExecuteTime": {
     "end_time": "2019-04-20T03:23:49.572241Z",
     "start_time": "2019-04-20T03:23:49.552728Z"
    }
   },
   "outputs": [
    {
     "data": {
      "text/plain": [
       "2012-03-07 09:30:00    0.345248\n",
       "2012-03-08 09:30:00   -0.810611\n",
       "2012-03-09 09:30:00   -0.179275\n",
       "2012-03-12 09:30:00   -1.076657\n",
       "2012-03-13 09:30:00   -0.305036\n",
       "2012-03-14 09:30:00    0.218517\n",
       "2012-03-15 09:30:00   -1.629414\n",
       "2012-03-16 09:30:00   -0.844352\n",
       "2012-03-19 09:30:00    0.528831\n",
       "2012-03-20 09:30:00   -0.414883\n",
       "Freq: B, dtype: float64"
      ]
     },
     "execution_count": 34,
     "metadata": {},
     "output_type": "execute_result"
    }
   ],
   "source": [
    "ts"
   ]
  },
  {
   "cell_type": "code",
   "execution_count": 35,
   "metadata": {
    "ExecuteTime": {
     "end_time": "2019-04-20T03:23:49.606767Z",
     "start_time": "2019-04-20T03:23:49.580248Z"
    }
   },
   "outputs": [],
   "source": [
    "ts1 = ts[:7].tz_localize('Europe/London')"
   ]
  },
  {
   "cell_type": "code",
   "execution_count": 36,
   "metadata": {
    "ExecuteTime": {
     "end_time": "2019-04-20T03:23:49.625279Z",
     "start_time": "2019-04-20T03:23:49.611769Z"
    }
   },
   "outputs": [],
   "source": [
    "ts2 = ts1[2:].tz_convert('Europe/Moscow')"
   ]
  },
  {
   "cell_type": "code",
   "execution_count": 37,
   "metadata": {
    "ExecuteTime": {
     "end_time": "2019-04-20T03:23:49.789686Z",
     "start_time": "2019-04-20T03:23:49.630283Z"
    }
   },
   "outputs": [],
   "source": [
    "result = ts1 + ts2"
   ]
  },
  {
   "cell_type": "code",
   "execution_count": 38,
   "metadata": {
    "ExecuteTime": {
     "end_time": "2019-04-20T03:23:49.811701Z",
     "start_time": "2019-04-20T03:23:49.798192Z"
    }
   },
   "outputs": [
    {
     "data": {
      "text/plain": [
       "DatetimeIndex(['2012-03-07 09:30:00+00:00', '2012-03-08 09:30:00+00:00',\n",
       "               '2012-03-09 09:30:00+00:00', '2012-03-12 09:30:00+00:00',\n",
       "               '2012-03-13 09:30:00+00:00', '2012-03-14 09:30:00+00:00',\n",
       "               '2012-03-15 09:30:00+00:00'],\n",
       "              dtype='datetime64[ns, UTC]', freq='B')"
      ]
     },
     "execution_count": 38,
     "metadata": {},
     "output_type": "execute_result"
    }
   ],
   "source": [
    "result.index"
   ]
  }
 ],
 "metadata": {
  "kernelspec": {
   "display_name": "Python 3",
   "language": "python",
   "name": "python3"
  },
  "toc": {
   "base_numbering": 1,
   "nav_menu": {},
   "number_sections": true,
   "sideBar": true,
   "skip_h1_title": false,
   "title_cell": "Table of Contents",
   "title_sidebar": "Contents",
   "toc_cell": true,
   "toc_position": {},
   "toc_section_display": true,
   "toc_window_display": false
  },
  "varInspector": {
   "cols": {
    "lenName": 16,
    "lenType": 16,
    "lenVar": 40
   },
   "kernels_config": {
    "python": {
     "delete_cmd_postfix": "",
     "delete_cmd_prefix": "del ",
     "library": "var_list.py",
     "varRefreshCmd": "print(var_dic_list())"
    },
    "r": {
     "delete_cmd_postfix": ") ",
     "delete_cmd_prefix": "rm(",
     "library": "var_list.r",
     "varRefreshCmd": "cat(var_dic_list()) "
    }
   },
   "oldHeight": 122.66666599999999,
   "position": {
    "height": "40px",
    "left": "582px",
    "right": "20px",
    "top": "120px",
    "width": "250px"
   },
   "types_to_exclude": [
    "module",
    "function",
    "builtin_function_or_method",
    "instance",
    "_Feature"
   ],
   "varInspector_section_display": "none",
   "window_display": true
  }
 },
 "nbformat": 4,
 "nbformat_minor": 2
}
