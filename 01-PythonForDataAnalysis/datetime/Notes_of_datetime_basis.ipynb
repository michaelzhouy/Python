{
 "cells": [
  {
   "cell_type": "markdown",
   "metadata": {
    "toc": true
   },
   "source": [
    "<h1>Table of Contents<span class=\"tocSkip\"></span></h1>\n",
    "<div class=\"toc\"><ul class=\"toc-item\"><li><span><a href=\"#索引、选择、子集\" data-toc-modified-id=\"索引、选择、子集-1\"><span class=\"toc-item-num\">1&nbsp;&nbsp;</span>索引、选择、子集</a></span><ul class=\"toc-item\"><li><span><a href=\"#索引\" data-toc-modified-id=\"索引-1.1\"><span class=\"toc-item-num\">1.1&nbsp;&nbsp;</span>索引</a></span></li><li><span><a href=\"#切片\" data-toc-modified-id=\"切片-1.2\"><span class=\"toc-item-num\">1.2&nbsp;&nbsp;</span>切片</a></span></li><li><span><a href=\"#truncate()在两个日期间对Series进行切片\" data-toc-modified-id=\"truncate()在两个日期间对Series进行切片-1.3\"><span class=\"toc-item-num\">1.3&nbsp;&nbsp;</span>truncate()在两个日期间对Series进行切片</a></span></li></ul></li><li><span><a href=\"#含有重复索引的时间序列\" data-toc-modified-id=\"含有重复索引的时间序列-2\"><span class=\"toc-item-num\">2&nbsp;&nbsp;</span>含有重复索引的时间序列</a></span></li></ul></div>"
   ]
  },
  {
   "cell_type": "code",
   "execution_count": 1,
   "metadata": {
    "ExecuteTime": {
     "end_time": "2019-04-12T09:33:23.641803Z",
     "start_time": "2019-04-12T09:33:22.638097Z"
    }
   },
   "outputs": [],
   "source": [
    "import numpy as np\n",
    "import pandas as pd\n",
    "from pandas import Series, DataFrame\n",
    "from datetime import datetime"
   ]
  },
  {
   "cell_type": "code",
   "execution_count": 2,
   "metadata": {
    "ExecuteTime": {
     "end_time": "2019-04-12T09:33:23.652491Z",
     "start_time": "2019-04-12T09:33:23.641803Z"
    }
   },
   "outputs": [],
   "source": [
    "# datetime对象的列表\n",
    "dates = [datetime(2011, 1, 2), datetime(2011, 1, 5),\n",
    "         datetime(2011, 1, 7), datetime(2011, 1, 8),\n",
    "         datetime(2011, 1, 10), datetime(2011, 1, 12)]"
   ]
  },
  {
   "cell_type": "code",
   "execution_count": 3,
   "metadata": {
    "ExecuteTime": {
     "end_time": "2019-04-12T09:33:23.668502Z",
     "start_time": "2019-04-12T09:33:23.655493Z"
    }
   },
   "outputs": [],
   "source": [
    "ts = Series(np.random.randn(6), \n",
    "            index=dates)"
   ]
  },
  {
   "cell_type": "code",
   "execution_count": 4,
   "metadata": {
    "ExecuteTime": {
     "end_time": "2019-04-12T09:33:23.700527Z",
     "start_time": "2019-04-12T09:33:23.674506Z"
    }
   },
   "outputs": [
    {
     "data": {
      "text/plain": [
       "2011-01-02    1.176859\n",
       "2011-01-05    0.801294\n",
       "2011-01-07    1.510715\n",
       "2011-01-08    0.278202\n",
       "2011-01-10    0.311886\n",
       "2011-01-12    0.704061\n",
       "dtype: float64"
      ]
     },
     "execution_count": 4,
     "metadata": {},
     "output_type": "execute_result"
    }
   ],
   "source": [
    "ts"
   ]
  },
  {
   "cell_type": "code",
   "execution_count": 5,
   "metadata": {
    "ExecuteTime": {
     "end_time": "2019-04-12T09:33:23.738551Z",
     "start_time": "2019-04-12T09:33:23.707530Z"
    }
   },
   "outputs": [
    {
     "data": {
      "text/plain": [
       "DatetimeIndex(['2011-01-02', '2011-01-05', '2011-01-07', '2011-01-08',\n",
       "               '2011-01-10', '2011-01-12'],\n",
       "              dtype='datetime64[ns]', freq=None)"
      ]
     },
     "execution_count": 5,
     "metadata": {},
     "output_type": "execute_result"
    }
   ],
   "source": [
    "ts.index"
   ]
  },
  {
   "cell_type": "code",
   "execution_count": 6,
   "metadata": {
    "ExecuteTime": {
     "end_time": "2019-04-12T09:33:23.775577Z",
     "start_time": "2019-04-12T09:33:23.741555Z"
    }
   },
   "outputs": [
    {
     "data": {
      "text/plain": [
       "2011-01-02    2.353718\n",
       "2011-01-05         NaN\n",
       "2011-01-07    3.021429\n",
       "2011-01-08         NaN\n",
       "2011-01-10    0.623773\n",
       "2011-01-12         NaN\n",
       "dtype: float64"
      ]
     },
     "execution_count": 6,
     "metadata": {},
     "output_type": "execute_result"
    }
   ],
   "source": [
    "# 在日期上自动对齐\n",
    "ts + ts[::2] "
   ]
  },
  {
   "cell_type": "code",
   "execution_count": 7,
   "metadata": {
    "ExecuteTime": {
     "end_time": "2019-04-12T09:33:23.790588Z",
     "start_time": "2019-04-12T09:33:23.778581Z"
    }
   },
   "outputs": [
    {
     "data": {
      "text/plain": [
       "dtype('<M8[ns]')"
      ]
     },
     "execution_count": 7,
     "metadata": {},
     "output_type": "execute_result"
    }
   ],
   "source": [
    "ts.index.dtype"
   ]
  },
  {
   "cell_type": "code",
   "execution_count": 8,
   "metadata": {
    "ExecuteTime": {
     "end_time": "2019-04-12T09:33:23.809601Z",
     "start_time": "2019-04-12T09:33:23.795593Z"
    }
   },
   "outputs": [],
   "source": [
    "stamp = ts.index[0]"
   ]
  },
  {
   "cell_type": "code",
   "execution_count": 9,
   "metadata": {
    "ExecuteTime": {
     "end_time": "2019-04-12T09:33:23.824613Z",
     "start_time": "2019-04-12T09:33:23.811602Z"
    }
   },
   "outputs": [
    {
     "data": {
      "text/plain": [
       "Timestamp('2011-01-02 00:00:00')"
      ]
     },
     "execution_count": 9,
     "metadata": {},
     "output_type": "execute_result"
    }
   ],
   "source": [
    "stamp"
   ]
  },
  {
   "cell_type": "markdown",
   "metadata": {},
   "source": [
    "# 索引、选择、子集"
   ]
  },
  {
   "cell_type": "markdown",
   "metadata": {},
   "source": [
    "## 索引"
   ]
  },
  {
   "cell_type": "code",
   "execution_count": 10,
   "metadata": {
    "ExecuteTime": {
     "end_time": "2019-04-12T09:33:23.839623Z",
     "start_time": "2019-04-12T09:33:23.828614Z"
    }
   },
   "outputs": [],
   "source": [
    "stamp = ts.index[2]"
   ]
  },
  {
   "cell_type": "code",
   "execution_count": 11,
   "metadata": {
    "ExecuteTime": {
     "end_time": "2019-04-12T09:33:23.863640Z",
     "start_time": "2019-04-12T09:33:23.842625Z"
    }
   },
   "outputs": [
    {
     "data": {
      "text/plain": [
       "1.5107147282201125"
      ]
     },
     "execution_count": 11,
     "metadata": {},
     "output_type": "execute_result"
    }
   ],
   "source": [
    "ts[stamp]"
   ]
  },
  {
   "cell_type": "code",
   "execution_count": 12,
   "metadata": {
    "ExecuteTime": {
     "end_time": "2019-04-12T09:33:23.883655Z",
     "start_time": "2019-04-12T09:33:23.866641Z"
    }
   },
   "outputs": [
    {
     "data": {
      "text/plain": [
       "0.31188644905117613"
      ]
     },
     "execution_count": 12,
     "metadata": {},
     "output_type": "execute_result"
    }
   ],
   "source": [
    "ts['1/10/2011']"
   ]
  },
  {
   "cell_type": "code",
   "execution_count": 13,
   "metadata": {
    "ExecuteTime": {
     "end_time": "2019-04-12T09:33:23.899665Z",
     "start_time": "2019-04-12T09:33:23.885655Z"
    }
   },
   "outputs": [
    {
     "data": {
      "text/plain": [
       "0.31188644905117613"
      ]
     },
     "execution_count": 13,
     "metadata": {},
     "output_type": "execute_result"
    }
   ],
   "source": [
    "ts['20110110']"
   ]
  },
  {
   "cell_type": "markdown",
   "metadata": {},
   "source": [
    "## 切片"
   ]
  },
  {
   "cell_type": "code",
   "execution_count": 14,
   "metadata": {
    "ExecuteTime": {
     "end_time": "2019-04-12T09:33:23.918680Z",
     "start_time": "2019-04-12T09:33:23.904670Z"
    }
   },
   "outputs": [],
   "source": [
    "longer_ts = Series(np.random.randn(1000),\n",
    "                   index=pd.date_range('1/1/2000', periods=1000))"
   ]
  },
  {
   "cell_type": "code",
   "execution_count": 15,
   "metadata": {
    "ExecuteTime": {
     "end_time": "2019-04-12T09:33:23.979721Z",
     "start_time": "2019-04-12T09:33:23.920679Z"
    }
   },
   "outputs": [
    {
     "data": {
      "text/plain": [
       "2000-01-01   -0.908771\n",
       "2000-01-02   -0.846267\n",
       "2000-01-03    0.076953\n",
       "2000-01-04   -1.550801\n",
       "2000-01-05    0.356770\n",
       "2000-01-06    0.030539\n",
       "2000-01-07   -0.070768\n",
       "2000-01-08   -0.998065\n",
       "2000-01-09    1.767261\n",
       "2000-01-10   -1.004697\n",
       "2000-01-11   -0.234648\n",
       "2000-01-12   -0.732230\n",
       "2000-01-13    0.405589\n",
       "2000-01-14    0.918054\n",
       "2000-01-15   -0.786640\n",
       "2000-01-16   -1.170690\n",
       "2000-01-17    1.064809\n",
       "2000-01-18   -0.201063\n",
       "2000-01-19   -0.900586\n",
       "2000-01-20    0.139329\n",
       "2000-01-21   -0.099023\n",
       "2000-01-22    0.143570\n",
       "2000-01-23   -2.581573\n",
       "2000-01-24    0.552990\n",
       "2000-01-25    0.781726\n",
       "2000-01-26   -0.729891\n",
       "2000-01-27    0.610920\n",
       "2000-01-28   -1.327901\n",
       "2000-01-29    0.704385\n",
       "2000-01-30    0.673024\n",
       "                ...   \n",
       "2002-08-28   -0.115112\n",
       "2002-08-29    1.130277\n",
       "2002-08-30    0.161417\n",
       "2002-08-31   -0.295266\n",
       "2002-09-01   -1.284625\n",
       "2002-09-02   -0.570006\n",
       "2002-09-03   -0.086155\n",
       "2002-09-04   -0.549062\n",
       "2002-09-05   -0.717255\n",
       "2002-09-06    0.373191\n",
       "2002-09-07    1.347899\n",
       "2002-09-08   -0.345836\n",
       "2002-09-09    0.269193\n",
       "2002-09-10   -2.444603\n",
       "2002-09-11   -0.504051\n",
       "2002-09-12   -1.214802\n",
       "2002-09-13   -0.470911\n",
       "2002-09-14   -1.432692\n",
       "2002-09-15    0.744379\n",
       "2002-09-16    1.066646\n",
       "2002-09-17    1.344273\n",
       "2002-09-18   -0.127807\n",
       "2002-09-19    0.368527\n",
       "2002-09-20    0.010965\n",
       "2002-09-21    0.103829\n",
       "2002-09-22    1.210425\n",
       "2002-09-23   -0.566330\n",
       "2002-09-24   -0.564703\n",
       "2002-09-25   -0.362959\n",
       "2002-09-26   -1.834790\n",
       "Freq: D, Length: 1000, dtype: float64"
      ]
     },
     "execution_count": 15,
     "metadata": {},
     "output_type": "execute_result"
    }
   ],
   "source": [
    "longer_ts"
   ]
  },
  {
   "cell_type": "code",
   "execution_count": 16,
   "metadata": {
    "ExecuteTime": {
     "end_time": "2019-04-12T09:33:24.001738Z",
     "start_time": "2019-04-12T09:33:23.981725Z"
    }
   },
   "outputs": [
    {
     "data": {
      "text/plain": [
       "2001-01-01   -0.564653\n",
       "2001-01-02   -0.189111\n",
       "2001-01-03   -1.058190\n",
       "2001-01-04   -0.661730\n",
       "2001-01-05   -0.047993\n",
       "2001-01-06    0.877221\n",
       "2001-01-07    0.818494\n",
       "2001-01-08   -0.737753\n",
       "2001-01-09    0.009804\n",
       "2001-01-10   -0.349290\n",
       "2001-01-11    1.649995\n",
       "2001-01-12   -0.476898\n",
       "2001-01-13    0.424494\n",
       "2001-01-14    1.905486\n",
       "2001-01-15   -0.700203\n",
       "2001-01-16    1.806102\n",
       "2001-01-17    1.335057\n",
       "2001-01-18    0.426083\n",
       "2001-01-19    1.140479\n",
       "2001-01-20   -0.247879\n",
       "2001-01-21   -0.233762\n",
       "2001-01-22    0.803493\n",
       "2001-01-23    0.998596\n",
       "2001-01-24   -0.601827\n",
       "2001-01-25   -0.053225\n",
       "2001-01-26    1.582683\n",
       "2001-01-27    0.640640\n",
       "2001-01-28   -0.401563\n",
       "2001-01-29    1.147557\n",
       "2001-01-30   -0.796399\n",
       "                ...   \n",
       "2001-12-02   -0.236384\n",
       "2001-12-03    1.480681\n",
       "2001-12-04    0.516838\n",
       "2001-12-05    0.331966\n",
       "2001-12-06   -0.270555\n",
       "2001-12-07   -0.431708\n",
       "2001-12-08    0.093454\n",
       "2001-12-09   -0.318764\n",
       "2001-12-10    0.668562\n",
       "2001-12-11    0.644477\n",
       "2001-12-12   -0.381953\n",
       "2001-12-13   -1.604090\n",
       "2001-12-14    1.718176\n",
       "2001-12-15    0.182217\n",
       "2001-12-16    0.025077\n",
       "2001-12-17    0.956371\n",
       "2001-12-18   -0.435588\n",
       "2001-12-19    1.134396\n",
       "2001-12-20   -0.180039\n",
       "2001-12-21    1.115496\n",
       "2001-12-22   -1.094125\n",
       "2001-12-23    0.114958\n",
       "2001-12-24   -0.102754\n",
       "2001-12-25    0.156424\n",
       "2001-12-26    0.027811\n",
       "2001-12-27    0.656852\n",
       "2001-12-28    0.665884\n",
       "2001-12-29    0.442617\n",
       "2001-12-30   -1.285426\n",
       "2001-12-31    0.584341\n",
       "Freq: D, Length: 365, dtype: float64"
      ]
     },
     "execution_count": 16,
     "metadata": {},
     "output_type": "execute_result"
    }
   ],
   "source": [
    "longer_ts['2001'] # 年份"
   ]
  },
  {
   "cell_type": "code",
   "execution_count": 17,
   "metadata": {
    "ExecuteTime": {
     "end_time": "2019-04-12T09:33:24.018749Z",
     "start_time": "2019-04-12T09:33:24.007741Z"
    }
   },
   "outputs": [
    {
     "data": {
      "text/plain": [
       "2001-05-01    1.396730\n",
       "2001-05-02    0.744836\n",
       "2001-05-03   -2.128373\n",
       "2001-05-04    0.383568\n",
       "2001-05-05    0.548217\n",
       "2001-05-06    0.486627\n",
       "2001-05-07   -0.336008\n",
       "2001-05-08    2.136047\n",
       "2001-05-09    0.683803\n",
       "2001-05-10   -1.058232\n",
       "2001-05-11   -0.631415\n",
       "2001-05-12   -2.664435\n",
       "2001-05-13    1.189119\n",
       "2001-05-14    0.805148\n",
       "2001-05-15    0.399951\n",
       "2001-05-16    0.766418\n",
       "2001-05-17   -0.534995\n",
       "2001-05-18   -1.644558\n",
       "2001-05-19   -0.900122\n",
       "2001-05-20   -0.829554\n",
       "2001-05-21    0.864471\n",
       "2001-05-22    2.022166\n",
       "2001-05-23    1.730548\n",
       "2001-05-24    1.136852\n",
       "2001-05-25   -1.373428\n",
       "2001-05-26    1.042300\n",
       "2001-05-27   -0.061669\n",
       "2001-05-28   -0.380293\n",
       "2001-05-29   -0.326230\n",
       "2001-05-30    0.066496\n",
       "2001-05-31   -0.460404\n",
       "Freq: D, dtype: float64"
      ]
     },
     "execution_count": 17,
     "metadata": {},
     "output_type": "execute_result"
    }
   ],
   "source": [
    "longer_ts['2001-05'] # 2001年5月"
   ]
  },
  {
   "cell_type": "code",
   "execution_count": 18,
   "metadata": {
    "ExecuteTime": {
     "end_time": "2019-04-12T09:33:24.035761Z",
     "start_time": "2019-04-12T09:33:24.029757Z"
    }
   },
   "outputs": [
    {
     "data": {
      "text/plain": [
       "2011-01-02    1.176859\n",
       "2011-01-05    0.801294\n",
       "2011-01-07    1.510715\n",
       "2011-01-08    0.278202\n",
       "2011-01-10    0.311886\n",
       "2011-01-12    0.704061\n",
       "dtype: float64"
      ]
     },
     "execution_count": 18,
     "metadata": {},
     "output_type": "execute_result"
    }
   ],
   "source": [
    "ts"
   ]
  },
  {
   "cell_type": "code",
   "execution_count": 19,
   "metadata": {
    "ExecuteTime": {
     "end_time": "2019-04-12T09:33:24.072787Z",
     "start_time": "2019-04-12T09:33:24.053775Z"
    }
   },
   "outputs": [
    {
     "data": {
      "text/plain": [
       "2011-01-07    1.510715\n",
       "2011-01-08    0.278202\n",
       "2011-01-10    0.311886\n",
       "2011-01-12    0.704061\n",
       "dtype: float64"
      ]
     },
     "execution_count": 19,
     "metadata": {},
     "output_type": "execute_result"
    }
   ],
   "source": [
    "ts[datetime(2011, 1, 7):]"
   ]
  },
  {
   "cell_type": "code",
   "execution_count": 20,
   "metadata": {
    "ExecuteTime": {
     "end_time": "2019-04-12T09:33:24.090801Z",
     "start_time": "2019-04-12T09:33:24.074789Z"
    }
   },
   "outputs": [
    {
     "data": {
      "text/plain": [
       "2011-01-07    1.510715\n",
       "2011-01-08    0.278202\n",
       "2011-01-10    0.311886\n",
       "dtype: float64"
      ]
     },
     "execution_count": 20,
     "metadata": {},
     "output_type": "execute_result"
    }
   ],
   "source": [
    "ts['1/6/2011': '1/11/2011']"
   ]
  },
  {
   "cell_type": "markdown",
   "metadata": {},
   "source": [
    "## truncate()在两个日期间对Series进行切片"
   ]
  },
  {
   "cell_type": "code",
   "execution_count": 21,
   "metadata": {
    "ExecuteTime": {
     "end_time": "2019-04-12T09:33:24.105811Z",
     "start_time": "2019-04-12T09:33:24.093802Z"
    }
   },
   "outputs": [
    {
     "data": {
      "text/plain": [
       "2011-01-02    1.176859\n",
       "2011-01-05    0.801294\n",
       "2011-01-07    1.510715\n",
       "2011-01-08    0.278202\n",
       "dtype: float64"
      ]
     },
     "execution_count": 21,
     "metadata": {},
     "output_type": "execute_result"
    }
   ],
   "source": [
    "ts.truncate(after='1/9/2011')"
   ]
  },
  {
   "cell_type": "code",
   "execution_count": 22,
   "metadata": {
    "ExecuteTime": {
     "end_time": "2019-04-12T09:33:24.124824Z",
     "start_time": "2019-04-12T09:33:24.108813Z"
    }
   },
   "outputs": [
    {
     "data": {
      "text/plain": [
       "2011-01-10    0.311886\n",
       "2011-01-12    0.704061\n",
       "dtype: float64"
      ]
     },
     "execution_count": 22,
     "metadata": {},
     "output_type": "execute_result"
    }
   ],
   "source": [
    "ts.truncate(before='2011-1-9')"
   ]
  },
  {
   "cell_type": "code",
   "execution_count": 23,
   "metadata": {
    "ExecuteTime": {
     "end_time": "2019-04-12T09:33:24.139835Z",
     "start_time": "2019-04-12T09:33:24.127826Z"
    }
   },
   "outputs": [],
   "source": [
    "dates = pd.date_range('1/1/2000', \n",
    "                      periods=100, # 100个数据\n",
    "                      freq='W-WED') # 每周的周三"
   ]
  },
  {
   "cell_type": "code",
   "execution_count": 24,
   "metadata": {
    "ExecuteTime": {
     "end_time": "2019-04-12T09:33:24.152844Z",
     "start_time": "2019-04-12T09:33:24.141836Z"
    }
   },
   "outputs": [],
   "source": [
    "long_df = DataFrame(np.random.randn(100, 4),\n",
    "                    index=dates,\n",
    "                    columns=['Colorado', 'Texas', 'New York', 'Ohio'])"
   ]
  },
  {
   "cell_type": "code",
   "execution_count": 25,
   "metadata": {
    "ExecuteTime": {
     "end_time": "2019-04-12T09:33:24.193872Z",
     "start_time": "2019-04-12T09:33:24.154845Z"
    }
   },
   "outputs": [
    {
     "data": {
      "text/html": [
       "<div>\n",
       "<style scoped>\n",
       "    .dataframe tbody tr th:only-of-type {\n",
       "        vertical-align: middle;\n",
       "    }\n",
       "\n",
       "    .dataframe tbody tr th {\n",
       "        vertical-align: top;\n",
       "    }\n",
       "\n",
       "    .dataframe thead th {\n",
       "        text-align: right;\n",
       "    }\n",
       "</style>\n",
       "<table border=\"1\" class=\"dataframe\">\n",
       "  <thead>\n",
       "    <tr style=\"text-align: right;\">\n",
       "      <th></th>\n",
       "      <th>Colorado</th>\n",
       "      <th>Texas</th>\n",
       "      <th>New York</th>\n",
       "      <th>Ohio</th>\n",
       "    </tr>\n",
       "  </thead>\n",
       "  <tbody>\n",
       "    <tr>\n",
       "      <th>2001-05-02</th>\n",
       "      <td>0.606577</td>\n",
       "      <td>-1.063535</td>\n",
       "      <td>-0.331768</td>\n",
       "      <td>-0.111828</td>\n",
       "    </tr>\n",
       "    <tr>\n",
       "      <th>2001-05-09</th>\n",
       "      <td>-0.386493</td>\n",
       "      <td>1.579603</td>\n",
       "      <td>-0.320094</td>\n",
       "      <td>-1.306896</td>\n",
       "    </tr>\n",
       "    <tr>\n",
       "      <th>2001-05-16</th>\n",
       "      <td>0.656911</td>\n",
       "      <td>-1.344983</td>\n",
       "      <td>0.745489</td>\n",
       "      <td>-1.169463</td>\n",
       "    </tr>\n",
       "    <tr>\n",
       "      <th>2001-05-23</th>\n",
       "      <td>0.593128</td>\n",
       "      <td>0.486673</td>\n",
       "      <td>-0.009710</td>\n",
       "      <td>-1.538357</td>\n",
       "    </tr>\n",
       "    <tr>\n",
       "      <th>2001-05-30</th>\n",
       "      <td>1.772744</td>\n",
       "      <td>-0.288534</td>\n",
       "      <td>-0.242243</td>\n",
       "      <td>-1.476706</td>\n",
       "    </tr>\n",
       "  </tbody>\n",
       "</table>\n",
       "</div>"
      ],
      "text/plain": [
       "            Colorado     Texas  New York      Ohio\n",
       "2001-05-02  0.606577 -1.063535 -0.331768 -0.111828\n",
       "2001-05-09 -0.386493  1.579603 -0.320094 -1.306896\n",
       "2001-05-16  0.656911 -1.344983  0.745489 -1.169463\n",
       "2001-05-23  0.593128  0.486673 -0.009710 -1.538357\n",
       "2001-05-30  1.772744 -0.288534 -0.242243 -1.476706"
      ]
     },
     "execution_count": 25,
     "metadata": {},
     "output_type": "execute_result"
    }
   ],
   "source": [
    "long_df.loc['5-2001'] # 2001年5月"
   ]
  },
  {
   "cell_type": "markdown",
   "metadata": {},
   "source": [
    "# 含有重复索引的时间序列"
   ]
  },
  {
   "cell_type": "code",
   "execution_count": 26,
   "metadata": {
    "ExecuteTime": {
     "end_time": "2019-04-12T09:33:24.200879Z",
     "start_time": "2019-04-12T09:33:24.195875Z"
    }
   },
   "outputs": [],
   "source": [
    "dates = pd.DatetimeIndex(['1/1/2000', '1/2/2000', '1/2/2000', \n",
    "                          '1/2/2000', '1/3/2000'])"
   ]
  },
  {
   "cell_type": "code",
   "execution_count": 27,
   "metadata": {
    "ExecuteTime": {
     "end_time": "2019-04-12T09:33:24.214887Z",
     "start_time": "2019-04-12T09:33:24.203881Z"
    }
   },
   "outputs": [],
   "source": [
    "dup_ts = Series(np.arange(5), \n",
    "              index=dates)"
   ]
  },
  {
   "cell_type": "code",
   "execution_count": 28,
   "metadata": {
    "ExecuteTime": {
     "end_time": "2019-04-12T09:33:24.237904Z",
     "start_time": "2019-04-12T09:33:24.216889Z"
    }
   },
   "outputs": [
    {
     "data": {
      "text/plain": [
       "2000-01-01    0\n",
       "2000-01-02    1\n",
       "2000-01-02    2\n",
       "2000-01-02    3\n",
       "2000-01-03    4\n",
       "dtype: int32"
      ]
     },
     "execution_count": 28,
     "metadata": {},
     "output_type": "execute_result"
    }
   ],
   "source": [
    "dup_ts"
   ]
  },
  {
   "cell_type": "code",
   "execution_count": 29,
   "metadata": {
    "ExecuteTime": {
     "end_time": "2019-04-12T09:33:24.254917Z",
     "start_time": "2019-04-12T09:33:24.241907Z"
    }
   },
   "outputs": [
    {
     "data": {
      "text/plain": [
       "False"
      ]
     },
     "execution_count": 29,
     "metadata": {},
     "output_type": "execute_result"
    }
   ],
   "source": [
    "# 查看索引是否唯一\n",
    "dup_ts.index.is_unique"
   ]
  },
  {
   "cell_type": "code",
   "execution_count": 30,
   "metadata": {
    "ExecuteTime": {
     "end_time": "2019-04-12T09:33:24.269926Z",
     "start_time": "2019-04-12T09:33:24.256918Z"
    }
   },
   "outputs": [
    {
     "data": {
      "text/plain": [
       "4"
      ]
     },
     "execution_count": 30,
     "metadata": {},
     "output_type": "execute_result"
    }
   ],
   "source": [
    "dup_ts['1/3/2000'] # 不重复"
   ]
  },
  {
   "cell_type": "code",
   "execution_count": 31,
   "metadata": {
    "ExecuteTime": {
     "end_time": "2019-04-12T09:33:24.289940Z",
     "start_time": "2019-04-12T09:33:24.272929Z"
    }
   },
   "outputs": [
    {
     "data": {
      "text/plain": [
       "2000-01-02    1\n",
       "2000-01-02    2\n",
       "2000-01-02    3\n",
       "dtype: int32"
      ]
     },
     "execution_count": 31,
     "metadata": {},
     "output_type": "execute_result"
    }
   ],
   "source": [
    "dup_ts['1/2/2000']"
   ]
  },
  {
   "cell_type": "code",
   "execution_count": 32,
   "metadata": {
    "ExecuteTime": {
     "end_time": "2019-04-12T09:33:24.301950Z",
     "start_time": "2019-04-12T09:33:24.291943Z"
    }
   },
   "outputs": [],
   "source": [
    "# 聚合含有重复时间戳的数据\n",
    "grouped = dup_ts.groupby(level=0)"
   ]
  },
  {
   "cell_type": "code",
   "execution_count": 33,
   "metadata": {
    "ExecuteTime": {
     "end_time": "2019-04-12T09:33:24.325966Z",
     "start_time": "2019-04-12T09:33:24.303951Z"
    }
   },
   "outputs": [
    {
     "data": {
      "text/plain": [
       "2000-01-01    0\n",
       "2000-01-02    2\n",
       "2000-01-03    4\n",
       "dtype: int32"
      ]
     },
     "execution_count": 33,
     "metadata": {},
     "output_type": "execute_result"
    }
   ],
   "source": [
    "grouped.mean()"
   ]
  },
  {
   "cell_type": "code",
   "execution_count": 34,
   "metadata": {
    "ExecuteTime": {
     "end_time": "2019-04-12T09:33:24.340977Z",
     "start_time": "2019-04-12T09:33:24.327968Z"
    }
   },
   "outputs": [
    {
     "data": {
      "text/plain": [
       "2000-01-01    1\n",
       "2000-01-02    3\n",
       "2000-01-03    1\n",
       "dtype: int64"
      ]
     },
     "execution_count": 34,
     "metadata": {},
     "output_type": "execute_result"
    }
   ],
   "source": [
    "grouped.count()"
   ]
  }
 ],
 "metadata": {
  "kernelspec": {
   "display_name": "Python 3",
   "language": "python",
   "name": "python3"
  },
  "language_info": {
   "codemirror_mode": {
    "name": "ipython",
    "version": 3
   },
   "file_extension": ".py",
   "mimetype": "text/x-python",
   "name": "python",
   "nbconvert_exporter": "python",
   "pygments_lexer": "ipython3",
   "version": "3.7.1"
  },
  "toc": {
   "base_numbering": 1,
   "nav_menu": {},
   "number_sections": true,
   "sideBar": true,
   "skip_h1_title": false,
   "title_cell": "Table of Contents",
   "title_sidebar": "Contents",
   "toc_cell": true,
   "toc_position": {},
   "toc_section_display": true,
   "toc_window_display": false
  },
  "varInspector": {
   "cols": {
    "lenName": 16,
    "lenType": 16,
    "lenVar": 40
   },
   "kernels_config": {
    "python": {
     "delete_cmd_postfix": "",
     "delete_cmd_prefix": "del ",
     "library": "var_list.py",
     "varRefreshCmd": "print(var_dic_list())"
    },
    "r": {
     "delete_cmd_postfix": ") ",
     "delete_cmd_prefix": "rm(",
     "library": "var_list.r",
     "varRefreshCmd": "cat(var_dic_list()) "
    }
   },
   "types_to_exclude": [
    "module",
    "function",
    "builtin_function_or_method",
    "instance",
    "_Feature"
   ],
   "window_display": true
  }
 },
 "nbformat": 4,
 "nbformat_minor": 2
}
