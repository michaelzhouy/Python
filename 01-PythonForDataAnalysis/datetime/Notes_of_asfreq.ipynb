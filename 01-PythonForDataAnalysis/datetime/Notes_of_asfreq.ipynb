{
 "cells": [
  {
   "cell_type": "markdown",
   "metadata": {
    "toc": true
   },
   "source": [
    "<h1>Table of Contents<span class=\"tocSkip\"></span></h1>\n",
    "<div class=\"toc\"><ul class=\"toc-item\"><li><span><a href=\"#asfreq\" data-toc-modified-id=\"asfreq-1\"><span class=\"toc-item-num\">1&nbsp;&nbsp;</span>asfreq</a></span></li><li><span><a href=\"#季度区间频率\" data-toc-modified-id=\"季度区间频率-2\"><span class=\"toc-item-num\">2&nbsp;&nbsp;</span>季度区间频率</a></span></li></ul></div>"
   ]
  },
  {
   "cell_type": "code",
   "execution_count": 1,
   "metadata": {
    "ExecuteTime": {
     "end_time": "2019-04-20T13:57:01.719331Z",
     "start_time": "2019-04-20T13:57:00.697101Z"
    }
   },
   "outputs": [],
   "source": [
    "import numpy as np\n",
    "import pandas as pd\n",
    "from pandas import Series, DataFrame"
   ]
  },
  {
   "cell_type": "code",
   "execution_count": 2,
   "metadata": {
    "ExecuteTime": {
     "end_time": "2019-04-20T13:57:01.728838Z",
     "start_time": "2019-04-20T13:57:01.722833Z"
    }
   },
   "outputs": [],
   "source": [
    "p = pd.Period(2007, freq='A-DEC')"
   ]
  },
  {
   "cell_type": "code",
   "execution_count": 3,
   "metadata": {
    "ExecuteTime": {
     "end_time": "2019-04-20T13:57:01.768867Z",
     "start_time": "2019-04-20T13:57:01.732841Z"
    }
   },
   "outputs": [
    {
     "data": {
      "text/plain": [
       "Period('2007', 'A-DEC')"
      ]
     },
     "execution_count": 3,
     "metadata": {},
     "output_type": "execute_result"
    }
   ],
   "source": [
    "p"
   ]
  },
  {
   "cell_type": "code",
   "execution_count": 4,
   "metadata": {
    "ExecuteTime": {
     "end_time": "2019-04-20T13:57:01.810396Z",
     "start_time": "2019-04-20T13:57:01.801390Z"
    }
   },
   "outputs": [
    {
     "data": {
      "text/plain": [
       "Period('2012', 'A-DEC')"
      ]
     },
     "execution_count": 4,
     "metadata": {},
     "output_type": "execute_result"
    }
   ],
   "source": [
    "p + 5"
   ]
  },
  {
   "cell_type": "code",
   "execution_count": 5,
   "metadata": {
    "ExecuteTime": {
     "end_time": "2019-04-20T13:57:01.851425Z",
     "start_time": "2019-04-20T13:57:01.815900Z"
    }
   },
   "outputs": [
    {
     "data": {
      "text/plain": [
       "Period('2005', 'A-DEC')"
      ]
     },
     "execution_count": 5,
     "metadata": {},
     "output_type": "execute_result"
    }
   ],
   "source": [
    "p - 2"
   ]
  },
  {
   "cell_type": "code",
   "execution_count": 6,
   "metadata": {
    "ExecuteTime": {
     "end_time": "2019-04-20T13:57:01.882446Z",
     "start_time": "2019-04-20T13:57:01.856928Z"
    }
   },
   "outputs": [
    {
     "data": {
      "text/plain": [
       "Period('2014', 'A-DEC')"
      ]
     },
     "execution_count": 6,
     "metadata": {},
     "output_type": "execute_result"
    }
   ],
   "source": [
    "pd.Period('2014', freq='A-DEC')"
   ]
  },
  {
   "cell_type": "code",
   "execution_count": 7,
   "metadata": {
    "ExecuteTime": {
     "end_time": "2019-04-20T13:57:01.907464Z",
     "start_time": "2019-04-20T13:57:01.885449Z"
    }
   },
   "outputs": [],
   "source": [
    "rng = pd.period_range('2000-01-01', # 起始日期\n",
    "                    '2000-06-30', # 终止日期\n",
    "                    freq='M') # 月底日期"
   ]
  },
  {
   "cell_type": "code",
   "execution_count": 8,
   "metadata": {
    "ExecuteTime": {
     "end_time": "2019-04-20T13:57:01.957499Z",
     "start_time": "2019-04-20T13:57:01.910467Z"
    }
   },
   "outputs": [
    {
     "data": {
      "text/plain": [
       "PeriodIndex(['2000-01', '2000-02', '2000-03', '2000-04', '2000-05', '2000-06'], dtype='period[M]', freq='M')"
      ]
     },
     "execution_count": 8,
     "metadata": {},
     "output_type": "execute_result"
    }
   ],
   "source": [
    "rng"
   ]
  },
  {
   "cell_type": "code",
   "execution_count": 9,
   "metadata": {
    "ExecuteTime": {
     "end_time": "2019-04-20T13:57:01.984019Z",
     "start_time": "2019-04-20T13:57:01.960502Z"
    }
   },
   "outputs": [
    {
     "data": {
      "text/plain": [
       "2000-01    0.346057\n",
       "2000-02    2.049855\n",
       "2000-03    1.039267\n",
       "2000-04   -0.578777\n",
       "2000-05    1.103468\n",
       "2000-06    0.444556\n",
       "Freq: M, dtype: float64"
      ]
     },
     "execution_count": 9,
     "metadata": {},
     "output_type": "execute_result"
    }
   ],
   "source": [
    "Series(np.random.randn(6), \n",
    "       index=rng)"
   ]
  },
  {
   "cell_type": "code",
   "execution_count": 10,
   "metadata": {
    "ExecuteTime": {
     "end_time": "2019-04-20T13:57:02.001531Z",
     "start_time": "2019-04-20T13:57:01.987020Z"
    }
   },
   "outputs": [],
   "source": [
    "values = ['2001Q3', '2002Q2', '2003Q1']"
   ]
  },
  {
   "cell_type": "code",
   "execution_count": 11,
   "metadata": {
    "ExecuteTime": {
     "end_time": "2019-04-20T13:57:02.026048Z",
     "start_time": "2019-04-20T13:57:02.005533Z"
    }
   },
   "outputs": [],
   "source": [
    "index = pd.PeriodIndex(values, freq='Q-DEC')"
   ]
  },
  {
   "cell_type": "code",
   "execution_count": 12,
   "metadata": {
    "ExecuteTime": {
     "end_time": "2019-04-20T13:57:02.050565Z",
     "start_time": "2019-04-20T13:57:02.036555Z"
    }
   },
   "outputs": [
    {
     "data": {
      "text/plain": [
       "PeriodIndex(['2001Q3', '2002Q2', '2003Q1'], dtype='period[Q-DEC]', freq='Q-DEC')"
      ]
     },
     "execution_count": 12,
     "metadata": {},
     "output_type": "execute_result"
    }
   ],
   "source": [
    "index"
   ]
  },
  {
   "cell_type": "markdown",
   "metadata": {},
   "source": [
    "# asfreq"
   ]
  },
  {
   "cell_type": "code",
   "execution_count": 13,
   "metadata": {
    "ExecuteTime": {
     "end_time": "2019-04-20T13:57:02.067578Z",
     "start_time": "2019-04-20T13:57:02.055076Z"
    }
   },
   "outputs": [],
   "source": [
    "p = pd.Period('2007', freq='A-DEC') # 年度区间"
   ]
  },
  {
   "cell_type": "code",
   "execution_count": 14,
   "metadata": {
    "ExecuteTime": {
     "end_time": "2019-04-20T13:57:02.089593Z",
     "start_time": "2019-04-20T13:57:02.071080Z"
    }
   },
   "outputs": [
    {
     "data": {
      "text/plain": [
       "Period('2007', 'A-DEC')"
      ]
     },
     "execution_count": 14,
     "metadata": {},
     "output_type": "execute_result"
    }
   ],
   "source": [
    "p"
   ]
  },
  {
   "cell_type": "code",
   "execution_count": 15,
   "metadata": {
    "ExecuteTime": {
     "end_time": "2019-04-20T13:57:02.107605Z",
     "start_time": "2019-04-20T13:57:02.093096Z"
    }
   },
   "outputs": [
    {
     "data": {
      "text/plain": [
       "Period('2007-01', 'M')"
      ]
     },
     "execution_count": 15,
     "metadata": {},
     "output_type": "execute_result"
    }
   ],
   "source": [
    "p.asfreq('M', # 转换为月度区间\n",
    "         how='start') # 月度的开始"
   ]
  },
  {
   "cell_type": "code",
   "execution_count": 16,
   "metadata": {
    "ExecuteTime": {
     "end_time": "2019-04-20T13:57:02.128121Z",
     "start_time": "2019-04-20T13:57:02.110107Z"
    }
   },
   "outputs": [
    {
     "data": {
      "text/plain": [
       "Period('2007-12', 'M')"
      ]
     },
     "execution_count": 16,
     "metadata": {},
     "output_type": "execute_result"
    }
   ],
   "source": [
    "p.asfreq('M', # 转换为月度区间\n",
    "         how='end') # 月度的结束"
   ]
  },
  {
   "cell_type": "code",
   "execution_count": 17,
   "metadata": {
    "ExecuteTime": {
     "end_time": "2019-04-20T13:57:02.182658Z",
     "start_time": "2019-04-20T13:57:02.132123Z"
    }
   },
   "outputs": [],
   "source": [
    "p = pd.Period('2007', freq='A-JUN') # 2007年6月"
   ]
  },
  {
   "cell_type": "code",
   "execution_count": 18,
   "metadata": {
    "ExecuteTime": {
     "end_time": "2019-04-20T13:57:02.241700Z",
     "start_time": "2019-04-20T13:57:02.195668Z"
    }
   },
   "outputs": [
    {
     "data": {
      "text/plain": [
       "Period('2007', 'A-JUN')"
      ]
     },
     "execution_count": 18,
     "metadata": {},
     "output_type": "execute_result"
    }
   ],
   "source": [
    "p"
   ]
  },
  {
   "cell_type": "code",
   "execution_count": 19,
   "metadata": {
    "ExecuteTime": {
     "end_time": "2019-04-20T13:57:02.263715Z",
     "start_time": "2019-04-20T13:57:02.253209Z"
    }
   },
   "outputs": [
    {
     "data": {
      "text/plain": [
       "Period('2006-07', 'M')"
      ]
     },
     "execution_count": 19,
     "metadata": {},
     "output_type": "execute_result"
    }
   ],
   "source": [
    "p.asfreq('M', 'start')"
   ]
  },
  {
   "cell_type": "code",
   "execution_count": 20,
   "metadata": {
    "ExecuteTime": {
     "end_time": "2019-04-20T13:57:02.296238Z",
     "start_time": "2019-04-20T13:57:02.267718Z"
    }
   },
   "outputs": [
    {
     "data": {
      "text/plain": [
       "Period('2007-06', 'M')"
      ]
     },
     "execution_count": 20,
     "metadata": {},
     "output_type": "execute_result"
    }
   ],
   "source": [
    "p.asfreq('M', 'end')"
   ]
  },
  {
   "cell_type": "code",
   "execution_count": 21,
   "metadata": {
    "ExecuteTime": {
     "end_time": "2019-04-20T13:57:02.316255Z",
     "start_time": "2019-04-20T13:57:02.299241Z"
    }
   },
   "outputs": [],
   "source": [
    "p = pd.Period('Aug-2007', 'M')"
   ]
  },
  {
   "cell_type": "code",
   "execution_count": 22,
   "metadata": {
    "ExecuteTime": {
     "end_time": "2019-04-20T13:57:02.341770Z",
     "start_time": "2019-04-20T13:57:02.319254Z"
    }
   },
   "outputs": [
    {
     "data": {
      "text/plain": [
       "Period('2007-08', 'M')"
      ]
     },
     "execution_count": 22,
     "metadata": {},
     "output_type": "execute_result"
    }
   ],
   "source": [
    "p"
   ]
  },
  {
   "cell_type": "code",
   "execution_count": 23,
   "metadata": {
    "ExecuteTime": {
     "end_time": "2019-04-20T13:57:02.356781Z",
     "start_time": "2019-04-20T13:57:02.344773Z"
    }
   },
   "outputs": [
    {
     "data": {
      "text/plain": [
       "Period('2008', 'A-JUN')"
      ]
     },
     "execution_count": 23,
     "metadata": {},
     "output_type": "execute_result"
    }
   ],
   "source": [
    "p.asfreq('A-JUN')"
   ]
  },
  {
   "cell_type": "code",
   "execution_count": 24,
   "metadata": {
    "ExecuteTime": {
     "end_time": "2019-04-20T13:57:02.374293Z",
     "start_time": "2019-04-20T13:57:02.360784Z"
    }
   },
   "outputs": [],
   "source": [
    "rng = pd.period_range('2006', '2009', freq='A-DEC')"
   ]
  },
  {
   "cell_type": "code",
   "execution_count": 25,
   "metadata": {
    "ExecuteTime": {
     "end_time": "2019-04-20T13:57:02.395308Z",
     "start_time": "2019-04-20T13:57:02.377296Z"
    }
   },
   "outputs": [],
   "source": [
    "ts = Series(np.random.randn(len(rng)), \n",
    "            index=rng)"
   ]
  },
  {
   "cell_type": "code",
   "execution_count": 26,
   "metadata": {
    "ExecuteTime": {
     "end_time": "2019-04-20T13:57:02.413322Z",
     "start_time": "2019-04-20T13:57:02.398811Z"
    }
   },
   "outputs": [
    {
     "data": {
      "text/plain": [
       "2006   -0.100284\n",
       "2007   -1.537044\n",
       "2008    0.725702\n",
       "2009   -0.880887\n",
       "Freq: A-DEC, dtype: float64"
      ]
     },
     "execution_count": 26,
     "metadata": {},
     "output_type": "execute_result"
    }
   ],
   "source": [
    "ts"
   ]
  },
  {
   "cell_type": "code",
   "execution_count": 27,
   "metadata": {
    "ExecuteTime": {
     "end_time": "2019-04-20T13:57:02.495379Z",
     "start_time": "2019-04-20T13:57:02.415823Z"
    }
   },
   "outputs": [
    {
     "data": {
      "text/plain": [
       "2006-01   -0.100284\n",
       "2007-01   -1.537044\n",
       "2008-01    0.725702\n",
       "2009-01   -0.880887\n",
       "Freq: M, dtype: float64"
      ]
     },
     "execution_count": 27,
     "metadata": {},
     "output_type": "execute_result"
    }
   ],
   "source": [
    "ts.asfreq('M', # 月度区间\n",
    "          how='start') # 每年的开始月份"
   ]
  },
  {
   "cell_type": "code",
   "execution_count": 28,
   "metadata": {
    "ExecuteTime": {
     "end_time": "2019-04-20T13:57:02.516394Z",
     "start_time": "2019-04-20T13:57:02.497881Z"
    }
   },
   "outputs": [
    {
     "data": {
      "text/plain": [
       "2006-12-29   -0.100284\n",
       "2007-12-31   -1.537044\n",
       "2008-12-31    0.725702\n",
       "2009-12-31   -0.880887\n",
       "Freq: B, dtype: float64"
      ]
     },
     "execution_count": 28,
     "metadata": {},
     "output_type": "execute_result"
    }
   ],
   "source": [
    "ts.asfreq('B', # 工作日的每天\n",
    "          how='end') # 月末日期"
   ]
  },
  {
   "cell_type": "markdown",
   "metadata": {},
   "source": [
    "# 季度区间频率"
   ]
  },
  {
   "cell_type": "code",
   "execution_count": 29,
   "metadata": {
    "ExecuteTime": {
     "end_time": "2019-04-20T13:57:02.535908Z",
     "start_time": "2019-04-20T13:57:02.518896Z"
    }
   },
   "outputs": [],
   "source": [
    "p = pd.Period('2012Q4', \n",
    "              freq='Q-JAN')"
   ]
  },
  {
   "cell_type": "code",
   "execution_count": 30,
   "metadata": {
    "ExecuteTime": {
     "end_time": "2019-04-20T13:57:02.553921Z",
     "start_time": "2019-04-20T13:57:02.538910Z"
    }
   },
   "outputs": [
    {
     "data": {
      "text/plain": [
       "Period('2012Q4', 'Q-JAN')"
      ]
     },
     "execution_count": 30,
     "metadata": {},
     "output_type": "execute_result"
    }
   ],
   "source": [
    "p"
   ]
  },
  {
   "cell_type": "code",
   "execution_count": 31,
   "metadata": {
    "ExecuteTime": {
     "end_time": "2019-04-20T13:57:02.573934Z",
     "start_time": "2019-04-20T13:57:02.559424Z"
    }
   },
   "outputs": [
    {
     "data": {
      "text/plain": [
       "Period('2011-11-01', 'D')"
      ]
     },
     "execution_count": 31,
     "metadata": {},
     "output_type": "execute_result"
    }
   ],
   "source": [
    "p.asfreq('D', # 每天\n",
    "         'start') # 季度的开始"
   ]
  },
  {
   "cell_type": "code",
   "execution_count": 32,
   "metadata": {
    "ExecuteTime": {
     "end_time": "2019-04-20T13:57:02.595951Z",
     "start_time": "2019-04-20T13:57:02.588945Z"
    }
   },
   "outputs": [
    {
     "data": {
      "text/plain": [
       "Period('2012-01-31', 'D')"
      ]
     },
     "execution_count": 32,
     "metadata": {},
     "output_type": "execute_result"
    }
   ],
   "source": [
    "p.asfreq('D', # 每天\n",
    "         'end') # 季度的结束"
   ]
  },
  {
   "cell_type": "code",
   "execution_count": 33,
   "metadata": {
    "ExecuteTime": {
     "end_time": "2019-04-20T13:57:02.612462Z",
     "start_time": "2019-04-20T13:57:02.598952Z"
    }
   },
   "outputs": [
    {
     "data": {
      "text/plain": [
       "Period('2012-01-30', 'B')"
      ]
     },
     "execution_count": 33,
     "metadata": {},
     "output_type": "execute_result"
    }
   ],
   "source": [
    "p.asfreq('B', 'e') - 1"
   ]
  },
  {
   "cell_type": "code",
   "execution_count": 34,
   "metadata": {
    "ExecuteTime": {
     "end_time": "2019-04-20T13:57:02.628473Z",
     "start_time": "2019-04-20T13:57:02.615464Z"
    }
   },
   "outputs": [
    {
     "data": {
      "text/plain": [
       "Period('2012-01-30 00:00', 'T')"
      ]
     },
     "execution_count": 34,
     "metadata": {},
     "output_type": "execute_result"
    }
   ],
   "source": [
    "(p.asfreq('B', 'e') - 1).asfreq('T', 's')"
   ]
  },
  {
   "cell_type": "code",
   "execution_count": 35,
   "metadata": {
    "ExecuteTime": {
     "end_time": "2019-04-20T13:57:02.646486Z",
     "start_time": "2019-04-20T13:57:02.631976Z"
    }
   },
   "outputs": [],
   "source": [
    "p4pm = (p.asfreq('B', 'e') - 1).asfreq('T', 's') + 16 * 60"
   ]
  },
  {
   "cell_type": "code",
   "execution_count": 36,
   "metadata": {
    "ExecuteTime": {
     "end_time": "2019-04-20T13:57:02.666000Z",
     "start_time": "2019-04-20T13:57:02.649489Z"
    }
   },
   "outputs": [
    {
     "data": {
      "text/plain": [
       "Period('2012-01-30 16:00', 'T')"
      ]
     },
     "execution_count": 36,
     "metadata": {},
     "output_type": "execute_result"
    }
   ],
   "source": [
    "p4pm"
   ]
  },
  {
   "cell_type": "code",
   "execution_count": 37,
   "metadata": {
    "ExecuteTime": {
     "end_time": "2019-04-20T13:57:02.683512Z",
     "start_time": "2019-04-20T13:57:02.668502Z"
    }
   },
   "outputs": [
    {
     "data": {
      "text/plain": [
       "Timestamp('2012-01-30 16:00:00')"
      ]
     },
     "execution_count": 37,
     "metadata": {},
     "output_type": "execute_result"
    }
   ],
   "source": [
    "p4pm.to_timestamp()"
   ]
  },
  {
   "cell_type": "code",
   "execution_count": 38,
   "metadata": {
    "ExecuteTime": {
     "end_time": "2019-04-20T13:57:02.698522Z",
     "start_time": "2019-04-20T13:57:02.686514Z"
    }
   },
   "outputs": [],
   "source": [
    "rng = pd.period_range('2011Q3', '2012Q4', freq='Q-JAN')"
   ]
  },
  {
   "cell_type": "code",
   "execution_count": 39,
   "metadata": {
    "ExecuteTime": {
     "end_time": "2019-04-20T13:57:02.712532Z",
     "start_time": "2019-04-20T13:57:02.701525Z"
    }
   },
   "outputs": [],
   "source": [
    "ts = Series(np.arange(len(rng)), index=rng)"
   ]
  },
  {
   "cell_type": "code",
   "execution_count": 40,
   "metadata": {
    "ExecuteTime": {
     "end_time": "2019-04-20T13:57:02.740552Z",
     "start_time": "2019-04-20T13:57:02.716036Z"
    }
   },
   "outputs": [
    {
     "data": {
      "text/plain": [
       "2011Q3    0\n",
       "2011Q4    1\n",
       "2012Q1    2\n",
       "2012Q2    3\n",
       "2012Q3    4\n",
       "2012Q4    5\n",
       "Freq: Q-JAN, dtype: int32"
      ]
     },
     "execution_count": 40,
     "metadata": {},
     "output_type": "execute_result"
    }
   ],
   "source": [
    "ts"
   ]
  },
  {
   "cell_type": "code",
   "execution_count": 41,
   "metadata": {
    "ExecuteTime": {
     "end_time": "2019-04-20T13:57:02.783583Z",
     "start_time": "2019-04-20T13:57:02.743054Z"
    }
   },
   "outputs": [],
   "source": [
    "new_rng = (rng.asfreq('B', 'e') - 1).asfreq('T', 's') + 16 * 60"
   ]
  },
  {
   "cell_type": "code",
   "execution_count": 42,
   "metadata": {
    "ExecuteTime": {
     "end_time": "2019-04-20T13:57:02.809100Z",
     "start_time": "2019-04-20T13:57:02.786585Z"
    }
   },
   "outputs": [],
   "source": [
    "ts.index = new_rng.to_timestamp()"
   ]
  },
  {
   "cell_type": "code",
   "execution_count": 43,
   "metadata": {
    "ExecuteTime": {
     "end_time": "2019-04-20T13:57:11.349338Z",
     "start_time": "2019-04-20T13:57:11.342837Z"
    }
   },
   "outputs": [
    {
     "data": {
      "text/plain": [
       "2010-10-28 16:00:00    0\n",
       "2011-01-28 16:00:00    1\n",
       "2011-04-28 16:00:00    2\n",
       "2011-07-28 16:00:00    3\n",
       "2011-10-28 16:00:00    4\n",
       "2012-01-30 16:00:00    5\n",
       "dtype: int32"
      ]
     },
     "execution_count": 43,
     "metadata": {},
     "output_type": "execute_result"
    }
   ],
   "source": [
    "ts"
   ]
  }
 ],
 "metadata": {
  "kernelspec": {
   "display_name": "Python 3",
   "language": "python",
   "name": "python3"
  },
  "language_info": {
   "codemirror_mode": {
    "name": "ipython",
    "version": 3
   },
   "file_extension": ".py",
   "mimetype": "text/x-python",
   "name": "python",
   "nbconvert_exporter": "python",
   "pygments_lexer": "ipython3",
   "version": "3.7.1"
  },
  "toc": {
   "base_numbering": 1,
   "nav_menu": {},
   "number_sections": true,
   "sideBar": true,
   "skip_h1_title": false,
   "title_cell": "Table of Contents",
   "title_sidebar": "Contents",
   "toc_cell": true,
   "toc_position": {},
   "toc_section_display": true,
   "toc_window_display": false
  },
  "varInspector": {
   "cols": {
    "lenName": 16,
    "lenType": 16,
    "lenVar": 40
   },
   "kernels_config": {
    "python": {
     "delete_cmd_postfix": "",
     "delete_cmd_prefix": "del ",
     "library": "var_list.py",
     "varRefreshCmd": "print(var_dic_list())"
    },
    "r": {
     "delete_cmd_postfix": ") ",
     "delete_cmd_prefix": "rm(",
     "library": "var_list.r",
     "varRefreshCmd": "cat(var_dic_list()) "
    }
   },
   "oldHeight": 122.66666599999999,
   "position": {
    "height": "40px",
    "left": "582px",
    "right": "20px",
    "top": "120px",
    "width": "250px"
   },
   "types_to_exclude": [
    "module",
    "function",
    "builtin_function_or_method",
    "instance",
    "_Feature"
   ],
   "varInspector_section_display": "none",
   "window_display": true
  }
 },
 "nbformat": 4,
 "nbformat_minor": 2
}
