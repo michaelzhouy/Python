{
 "cells": [
  {
   "cell_type": "markdown",
   "metadata": {
    "toc": true
   },
   "source": [
    "<h1>Table of Contents<span class=\"tocSkip\"></span></h1>\n",
    "<div class=\"toc\"><ul class=\"toc-item\"><li><span><a href=\"#timedelta表示两个datetime对象的时间差\" data-toc-modified-id=\"timedelta表示两个datetime对象的时间差-1\"><span class=\"toc-item-num\">1&nbsp;&nbsp;</span>timedelta表示两个datetime对象的时间差</a></span></li><li><span><a href=\"#字符串与datetime互相转换\" data-toc-modified-id=\"字符串与datetime互相转换-2\"><span class=\"toc-item-num\">2&nbsp;&nbsp;</span>字符串与datetime互相转换</a></span><ul class=\"toc-item\"><li><span><a href=\"#str方法将datetime对象转换为字符串\" data-toc-modified-id=\"str方法将datetime对象转换为字符串-2.1\"><span class=\"toc-item-num\">2.1&nbsp;&nbsp;</span>str方法将datetime对象转换为字符串</a></span></li><li><span><a href=\"#strftime方法将datetime对象和pandas的Timestamp对象进行格式化\" data-toc-modified-id=\"strftime方法将datetime对象和pandas的Timestamp对象进行格式化-2.2\"><span class=\"toc-item-num\">2.2&nbsp;&nbsp;</span>strftime方法将datetime对象和pandas的Timestamp对象进行格式化</a></span></li><li><span><a href=\"#datetime.strptime-+-格式代码，将字符串转换为日期\" data-toc-modified-id=\"datetime.strptime-+-格式代码，将字符串转换为日期-2.3\"><span class=\"toc-item-num\">2.3&nbsp;&nbsp;</span>datetime.strptime + 格式代码，将字符串转换为日期</a></span></li><li><span><a href=\"#parse方法可以解析大部分人类可以理解的日期表示\" data-toc-modified-id=\"parse方法可以解析大部分人类可以理解的日期表示-2.4\"><span class=\"toc-item-num\">2.4&nbsp;&nbsp;</span>parse方法可以解析大部分人类可以理解的日期表示</a></span></li><li><span><a href=\"#pd.to_datetime()-可处理多种日期表示格式\" data-toc-modified-id=\"pd.to_datetime()-可处理多种日期表示格式-2.5\"><span class=\"toc-item-num\">2.5&nbsp;&nbsp;</span>pd.to_datetime() 可处理多种日期表示格式</a></span></li></ul></li></ul></div>"
   ]
  },
  {
   "cell_type": "code",
   "execution_count": 1,
   "metadata": {
    "ExecuteTime": {
     "end_time": "2019-04-12T07:25:52.132764Z",
     "start_time": "2019-04-12T07:25:52.127762Z"
    }
   },
   "outputs": [],
   "source": [
    "from datetime import datetime"
   ]
  },
  {
   "cell_type": "markdown",
   "metadata": {},
   "source": [
    "datetime模块中的类型\n",
    "\n",
    "类型 | 描述\n",
    "--- | --- \n",
    "date | 使用公历日历存储日历日期（年，月，日）\n",
    "time | 将时间存储为小时，分钟，秒和微妙\n",
    "datetime | 存储日期和时间\n",
    "timedelta | 表示两个datetime值之间的差（如日，秒和微秒）\n",
    "tzinfo | 用于存储时区信息的基本类型"
   ]
  },
  {
   "cell_type": "code",
   "execution_count": 2,
   "metadata": {
    "ExecuteTime": {
     "end_time": "2019-04-12T07:25:52.152777Z",
     "start_time": "2019-04-12T07:25:52.135766Z"
    }
   },
   "outputs": [],
   "source": [
    "# datetime既存储了日期，也存储了细化到微秒的时间\n",
    "now = datetime.now()"
   ]
  },
  {
   "cell_type": "code",
   "execution_count": 3,
   "metadata": {
    "ExecuteTime": {
     "end_time": "2019-04-12T07:25:52.195808Z",
     "start_time": "2019-04-12T07:25:52.155780Z"
    }
   },
   "outputs": [
    {
     "data": {
      "text/plain": [
       "datetime.datetime(2019, 4, 12, 15, 25, 52, 150776)"
      ]
     },
     "execution_count": 3,
     "metadata": {},
     "output_type": "execute_result"
    }
   ],
   "source": [
    "now"
   ]
  },
  {
   "cell_type": "code",
   "execution_count": 4,
   "metadata": {
    "ExecuteTime": {
     "end_time": "2019-04-12T07:25:52.219825Z",
     "start_time": "2019-04-12T07:25:52.200811Z"
    }
   },
   "outputs": [
    {
     "data": {
      "text/plain": [
       "(2019, 4, 12)"
      ]
     },
     "execution_count": 4,
     "metadata": {},
     "output_type": "execute_result"
    }
   ],
   "source": [
    "now.year, now.month, now.day"
   ]
  },
  {
   "cell_type": "code",
   "execution_count": 5,
   "metadata": {
    "ExecuteTime": {
     "end_time": "2019-04-12T07:25:52.235835Z",
     "start_time": "2019-04-12T07:25:52.223827Z"
    }
   },
   "outputs": [],
   "source": [
    "# 两个datetime对象直接相减\n",
    "delta = datetime(2011, 1, 7) - datetime(2008, 6, 24, 8, 15)"
   ]
  },
  {
   "cell_type": "code",
   "execution_count": 6,
   "metadata": {
    "ExecuteTime": {
     "end_time": "2019-04-12T07:25:52.268859Z",
     "start_time": "2019-04-12T07:25:52.242840Z"
    }
   },
   "outputs": [
    {
     "data": {
      "text/plain": [
       "datetime.timedelta(days=926, seconds=56700)"
      ]
     },
     "execution_count": 6,
     "metadata": {},
     "output_type": "execute_result"
    }
   ],
   "source": [
    "delta"
   ]
  },
  {
   "cell_type": "code",
   "execution_count": 7,
   "metadata": {
    "ExecuteTime": {
     "end_time": "2019-04-12T07:25:52.292876Z",
     "start_time": "2019-04-12T07:25:52.282871Z"
    }
   },
   "outputs": [
    {
     "data": {
      "text/plain": [
       "926"
      ]
     },
     "execution_count": 7,
     "metadata": {},
     "output_type": "execute_result"
    }
   ],
   "source": [
    "delta.days"
   ]
  },
  {
   "cell_type": "code",
   "execution_count": 8,
   "metadata": {
    "ExecuteTime": {
     "end_time": "2019-04-12T07:25:52.314892Z",
     "start_time": "2019-04-12T07:25:52.296878Z"
    }
   },
   "outputs": [
    {
     "data": {
      "text/plain": [
       "56700"
      ]
     },
     "execution_count": 8,
     "metadata": {},
     "output_type": "execute_result"
    }
   ],
   "source": [
    "delta.seconds"
   ]
  },
  {
   "cell_type": "markdown",
   "metadata": {},
   "source": [
    "# timedelta表示两个datetime对象的时间差"
   ]
  },
  {
   "cell_type": "code",
   "execution_count": 9,
   "metadata": {
    "ExecuteTime": {
     "end_time": "2019-04-12T07:25:52.335907Z",
     "start_time": "2019-04-12T07:25:52.318895Z"
    }
   },
   "outputs": [],
   "source": [
    "from datetime import timedelta"
   ]
  },
  {
   "cell_type": "code",
   "execution_count": 10,
   "metadata": {
    "ExecuteTime": {
     "end_time": "2019-04-12T07:25:52.352918Z",
     "start_time": "2019-04-12T07:25:52.339911Z"
    }
   },
   "outputs": [],
   "source": [
    "start = datetime(2011, 1, 7)"
   ]
  },
  {
   "cell_type": "code",
   "execution_count": 11,
   "metadata": {
    "ExecuteTime": {
     "end_time": "2019-04-12T07:25:52.380939Z",
     "start_time": "2019-04-12T07:25:52.356921Z"
    }
   },
   "outputs": [
    {
     "data": {
      "text/plain": [
       "datetime.datetime(2011, 1, 19, 0, 0)"
      ]
     },
     "execution_count": 11,
     "metadata": {},
     "output_type": "execute_result"
    }
   ],
   "source": [
    "start + timedelta(12) # 7 + 12"
   ]
  },
  {
   "cell_type": "code",
   "execution_count": 12,
   "metadata": {
    "ExecuteTime": {
     "end_time": "2019-04-12T07:25:52.396950Z",
     "start_time": "2019-04-12T07:25:52.384941Z"
    }
   },
   "outputs": [
    {
     "data": {
      "text/plain": [
       "datetime.datetime(2010, 12, 14, 0, 0)"
      ]
     },
     "execution_count": 12,
     "metadata": {},
     "output_type": "execute_result"
    }
   ],
   "source": [
    "start - 2 * timedelta(12) # 7 - 24"
   ]
  },
  {
   "cell_type": "markdown",
   "metadata": {},
   "source": [
    "# 字符串与datetime互相转换"
   ]
  },
  {
   "cell_type": "code",
   "execution_count": 13,
   "metadata": {
    "ExecuteTime": {
     "end_time": "2019-04-12T07:25:52.411960Z",
     "start_time": "2019-04-12T07:25:52.399952Z"
    }
   },
   "outputs": [],
   "source": [
    "# datetime对象\n",
    "stamp = datetime(2011, 1, 3)"
   ]
  },
  {
   "cell_type": "code",
   "execution_count": 14,
   "metadata": {
    "ExecuteTime": {
     "end_time": "2019-04-12T07:25:52.426971Z",
     "start_time": "2019-04-12T07:25:52.415963Z"
    }
   },
   "outputs": [
    {
     "data": {
      "text/plain": [
       "datetime.datetime(2011, 1, 3, 0, 0)"
      ]
     },
     "execution_count": 14,
     "metadata": {},
     "output_type": "execute_result"
    }
   ],
   "source": [
    "stamp"
   ]
  },
  {
   "cell_type": "markdown",
   "metadata": {},
   "source": [
    "## str方法将datetime对象转换为字符串"
   ]
  },
  {
   "cell_type": "code",
   "execution_count": 15,
   "metadata": {
    "ExecuteTime": {
     "end_time": "2019-04-12T07:25:52.442982Z",
     "start_time": "2019-04-12T07:25:52.429973Z"
    }
   },
   "outputs": [
    {
     "data": {
      "text/plain": [
       "'2011-01-03 00:00:00'"
      ]
     },
     "execution_count": 15,
     "metadata": {},
     "output_type": "execute_result"
    }
   ],
   "source": [
    "# str方法将datetime对象转换为字符串\n",
    "str(stamp)"
   ]
  },
  {
   "cell_type": "markdown",
   "metadata": {},
   "source": [
    "## strftime方法将datetime对象和pandas的Timestamp对象进行格式化"
   ]
  },
  {
   "cell_type": "code",
   "execution_count": 16,
   "metadata": {
    "ExecuteTime": {
     "end_time": "2019-04-12T07:25:52.474004Z",
     "start_time": "2019-04-12T07:25:52.446985Z"
    }
   },
   "outputs": [
    {
     "data": {
      "text/plain": [
       "'2011-01-03'"
      ]
     },
     "execution_count": 16,
     "metadata": {},
     "output_type": "execute_result"
    }
   ],
   "source": [
    "# strftime方法将datetime对象按照指定的格式输出\n",
    "stamp.strftime('%Y-%m-%d') # 2011-01-03"
   ]
  },
  {
   "cell_type": "markdown",
   "metadata": {},
   "source": [
    "datetime格式说明\n",
    "\n",
    "类型 | 描述\n",
    "--- | ---\n",
    "%Y | 四位的年份\n",
    "%y | 两位的年份\n",
    "%m | 两位的月份[01, 12]\n",
    "%d | 两位的日期号[01, 31]\n",
    "%H | 小时，24小时制[00, 23]\n",
    "%I | 小时，12小时制[01, 12]\n",
    "%M | 两位的分钟[00, 59]\n",
    "%S | 秒[00, 61] (60, 61是闰秒)\n",
    "%w | 星期日期[0 (星期天)， 6]\n",
    "%U | 一年中的星期数[00, 53]。以星期天为每周的第一天，一年中的第一个星期天前的日期作为“第0周”\n",
    "%W | 一年中的星期数[00, 53]。以星期一为每周的第一天，一年中的第一个星期一前的日期作为“第0周”\n",
    "%z | 格式为+HHMM或-HHMM的UTC时区偏移；如果没有时区则为空\n",
    "%F | %Y-%m-%d的简写（例如，2012-4-18）\n",
    "%D | %m/%d/%y的简写（例如，04/18/12）"
   ]
  },
  {
   "cell_type": "markdown",
   "metadata": {},
   "source": [
    "## datetime.strptime + 格式代码，将字符串转换为日期\n",
    "datetime.strptime() 是在已知格式的情况下转换日期"
   ]
  },
  {
   "cell_type": "code",
   "execution_count": 17,
   "metadata": {
    "ExecuteTime": {
     "end_time": "2019-04-12T07:25:52.488014Z",
     "start_time": "2019-04-12T07:25:52.478006Z"
    }
   },
   "outputs": [],
   "source": [
    "# 字符串\n",
    "value = '2011-01-03'"
   ]
  },
  {
   "cell_type": "code",
   "execution_count": 18,
   "metadata": {
    "ExecuteTime": {
     "end_time": "2019-04-12T07:25:52.502023Z",
     "start_time": "2019-04-12T07:25:52.491016Z"
    }
   },
   "outputs": [
    {
     "data": {
      "text/plain": [
       "datetime.datetime(2011, 1, 3, 0, 0)"
      ]
     },
     "execution_count": 18,
     "metadata": {},
     "output_type": "execute_result"
    }
   ],
   "source": [
    "# datetime.strptime将字符串转换为datetime，需要指定字符串的格式\n",
    "datetime.strptime(value, '%Y-%m-%d')"
   ]
  },
  {
   "cell_type": "code",
   "execution_count": 19,
   "metadata": {
    "ExecuteTime": {
     "end_time": "2019-04-12T07:25:52.522039Z",
     "start_time": "2019-04-12T07:25:52.504024Z"
    }
   },
   "outputs": [
    {
     "data": {
      "text/plain": [
       "[datetime.datetime(2011, 7, 6, 0, 0), datetime.datetime(2011, 8, 6, 0, 0)]"
      ]
     },
     "execution_count": 19,
     "metadata": {},
     "output_type": "execute_result"
    }
   ],
   "source": [
    "# 指定字符串格式\n",
    "datestrs = ['7/6/2011', '8/6/2011']\n",
    "[datetime.strptime(x, '%m/%d/%Y') for x in datestrs]"
   ]
  },
  {
   "cell_type": "markdown",
   "metadata": {},
   "source": [
    "## parse方法可以解析大部分人类可以理解的日期表示"
   ]
  },
  {
   "cell_type": "code",
   "execution_count": 20,
   "metadata": {
    "ExecuteTime": {
     "end_time": "2019-04-12T07:25:52.540052Z",
     "start_time": "2019-04-12T07:25:52.526041Z"
    }
   },
   "outputs": [],
   "source": [
    "from dateutil.parser import parse"
   ]
  },
  {
   "cell_type": "code",
   "execution_count": 21,
   "metadata": {
    "ExecuteTime": {
     "end_time": "2019-04-12T07:25:52.559064Z",
     "start_time": "2019-04-12T07:25:52.543053Z"
    }
   },
   "outputs": [
    {
     "data": {
      "text/plain": [
       "datetime.datetime(2011, 1, 3, 0, 0)"
      ]
     },
     "execution_count": 21,
     "metadata": {},
     "output_type": "execute_result"
    }
   ],
   "source": [
    "parse('2011-01-03')"
   ]
  },
  {
   "cell_type": "code",
   "execution_count": 22,
   "metadata": {
    "ExecuteTime": {
     "end_time": "2019-04-12T07:25:52.583082Z",
     "start_time": "2019-04-12T07:25:52.562066Z"
    }
   },
   "outputs": [
    {
     "data": {
      "text/plain": [
       "datetime.datetime(1997, 1, 31, 22, 45)"
      ]
     },
     "execution_count": 22,
     "metadata": {},
     "output_type": "execute_result"
    }
   ],
   "source": [
    "parse('Jan 31, 1997 10:45 PM')"
   ]
  },
  {
   "cell_type": "code",
   "execution_count": 23,
   "metadata": {
    "ExecuteTime": {
     "end_time": "2019-04-12T07:25:52.628113Z",
     "start_time": "2019-04-12T07:25:52.586083Z"
    }
   },
   "outputs": [
    {
     "data": {
      "text/plain": [
       "datetime.datetime(2011, 12, 6, 0, 0)"
      ]
     },
     "execution_count": 23,
     "metadata": {},
     "output_type": "execute_result"
    }
   ],
   "source": [
    "parse('6/12/2011', dayfirst=True) # dayfirst=True 表示日期在月份之前"
   ]
  },
  {
   "cell_type": "code",
   "execution_count": 24,
   "metadata": {
    "ExecuteTime": {
     "end_time": "2019-04-12T07:25:52.644125Z",
     "start_time": "2019-04-12T07:25:52.631116Z"
    }
   },
   "outputs": [],
   "source": [
    "datestrs = ['2011-07-06 12:00:00', '2011-08-06 00:00:00']"
   ]
  },
  {
   "cell_type": "markdown",
   "metadata": {},
   "source": [
    "## pd.to_datetime() 可处理多种日期表示格式"
   ]
  },
  {
   "cell_type": "code",
   "execution_count": 25,
   "metadata": {
    "ExecuteTime": {
     "end_time": "2019-04-12T07:25:55.297736Z",
     "start_time": "2019-04-12T07:25:52.648128Z"
    }
   },
   "outputs": [
    {
     "data": {
      "text/plain": [
       "DatetimeIndex(['2011-07-06 12:00:00', '2011-08-06 00:00:00'], dtype='datetime64[ns]', freq=None)"
      ]
     },
     "execution_count": 25,
     "metadata": {},
     "output_type": "execute_result"
    }
   ],
   "source": [
    "import pandas as pd\n",
    "pd.to_datetime(datestrs)"
   ]
  },
  {
   "cell_type": "code",
   "execution_count": 26,
   "metadata": {
    "ExecuteTime": {
     "end_time": "2019-04-12T07:25:55.306743Z",
     "start_time": "2019-04-12T07:25:55.300739Z"
    }
   },
   "outputs": [],
   "source": [
    "idx = pd.to_datetime(datestrs + [None])"
   ]
  },
  {
   "cell_type": "code",
   "execution_count": 27,
   "metadata": {
    "ExecuteTime": {
     "end_time": "2019-04-12T07:25:55.322754Z",
     "start_time": "2019-04-12T07:25:55.309745Z"
    }
   },
   "outputs": [
    {
     "data": {
      "text/plain": [
       "DatetimeIndex(['2011-07-06 12:00:00', '2011-08-06 00:00:00', 'NaT'], dtype='datetime64[ns]', freq=None)"
      ]
     },
     "execution_count": 27,
     "metadata": {},
     "output_type": "execute_result"
    }
   ],
   "source": [
    "idx"
   ]
  },
  {
   "cell_type": "code",
   "execution_count": 28,
   "metadata": {
    "ExecuteTime": {
     "end_time": "2019-04-12T07:25:55.342767Z",
     "start_time": "2019-04-12T07:25:55.326757Z"
    }
   },
   "outputs": [
    {
     "data": {
      "text/plain": [
       "NaT"
      ]
     },
     "execution_count": 28,
     "metadata": {},
     "output_type": "execute_result"
    }
   ],
   "source": [
    "idx[2]"
   ]
  },
  {
   "cell_type": "code",
   "execution_count": 29,
   "metadata": {
    "ExecuteTime": {
     "end_time": "2019-04-12T07:25:55.360781Z",
     "start_time": "2019-04-12T07:25:55.345770Z"
    }
   },
   "outputs": [
    {
     "data": {
      "text/plain": [
       "array([False, False,  True])"
      ]
     },
     "execution_count": 29,
     "metadata": {},
     "output_type": "execute_result"
    }
   ],
   "source": [
    "pd.isnull(idx)"
   ]
  }
 ],
 "metadata": {
  "kernelspec": {
   "display_name": "Python 3",
   "language": "python",
   "name": "python3"
  },
  "toc": {
   "base_numbering": 1,
   "nav_menu": {},
   "number_sections": true,
   "sideBar": true,
   "skip_h1_title": false,
   "title_cell": "Table of Contents",
   "title_sidebar": "Contents",
   "toc_cell": true,
   "toc_position": {},
   "toc_section_display": true,
   "toc_window_display": false
  },
  "varInspector": {
   "cols": {
    "lenName": 16,
    "lenType": 16,
    "lenVar": 40
   },
   "kernels_config": {
    "python": {
     "delete_cmd_postfix": "",
     "delete_cmd_prefix": "del ",
     "library": "var_list.py",
     "varRefreshCmd": "print(var_dic_list())"
    },
    "r": {
     "delete_cmd_postfix": ") ",
     "delete_cmd_prefix": "rm(",
     "library": "var_list.r",
     "varRefreshCmd": "cat(var_dic_list()) "
    }
   },
   "types_to_exclude": [
    "module",
    "function",
    "builtin_function_or_method",
    "instance",
    "_Feature"
   ],
   "window_display": true
  }
 },
 "nbformat": 4,
 "nbformat_minor": 2
}
