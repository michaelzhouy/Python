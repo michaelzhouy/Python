{
 "cells": [
  {
   "cell_type": "markdown",
   "metadata": {
    "toc": true
   },
   "source": [
    "<h1>Table of Contents<span class=\"tocSkip\"></span></h1>\n",
    "<div class=\"toc\"><ul class=\"toc-item\"><li><span><a href=\"#向下采样\" data-toc-modified-id=\"向下采样-1\"><span class=\"toc-item-num\">1&nbsp;&nbsp;</span>向下采样</a></span></li><li><span><a href=\"#向上采样与插值\" data-toc-modified-id=\"向上采样与插值-2\"><span class=\"toc-item-num\">2&nbsp;&nbsp;</span>向上采样与插值</a></span></li><li><span><a href=\"#使用区间进行重新采样\" data-toc-modified-id=\"使用区间进行重新采样-3\"><span class=\"toc-item-num\">3&nbsp;&nbsp;</span>使用区间进行重新采样</a></span></li></ul></div>"
   ]
  },
  {
   "cell_type": "code",
   "execution_count": 1,
   "metadata": {
    "ExecuteTime": {
     "end_time": "2019-04-21T02:45:11.299172Z",
     "start_time": "2019-04-21T02:45:10.512082Z"
    }
   },
   "outputs": [],
   "source": [
    "import numpy as np\n",
    "import pandas as pd\n",
    "from pandas import Series, DataFrame"
   ]
  },
  {
   "cell_type": "code",
   "execution_count": 2,
   "metadata": {
    "ExecuteTime": {
     "end_time": "2019-04-21T02:45:11.310649Z",
     "start_time": "2019-04-21T02:45:11.303142Z"
    }
   },
   "outputs": [],
   "source": [
    "rng = pd.date_range('2000-01-01', # 起始日期\n",
    "                    periods=100, # 时间点的个数\n",
    "                    freq='D') # 频率，每天"
   ]
  },
  {
   "cell_type": "code",
   "execution_count": 3,
   "metadata": {
    "ExecuteTime": {
     "end_time": "2019-04-21T02:45:11.326157Z",
     "start_time": "2019-04-21T02:45:11.315149Z"
    }
   },
   "outputs": [],
   "source": [
    "ts = Series(np.random.randn(len(rng)), \n",
    "            index=rng) # 索引"
   ]
  },
  {
   "cell_type": "code",
   "execution_count": 4,
   "metadata": {
    "ExecuteTime": {
     "end_time": "2019-04-21T02:45:11.360681Z",
     "start_time": "2019-04-21T02:45:11.331662Z"
    }
   },
   "outputs": [
    {
     "data": {
      "text/plain": [
       "2000-01-01    0.165914\n",
       "2000-01-02    1.701454\n",
       "2000-01-03   -0.230502\n",
       "2000-01-04   -0.704661\n",
       "2000-01-05    0.308662\n",
       "2000-01-06    0.070235\n",
       "2000-01-07   -1.114565\n",
       "2000-01-08   -1.033986\n",
       "2000-01-09    0.940699\n",
       "2000-01-10   -0.796636\n",
       "2000-01-11    0.005425\n",
       "2000-01-12    0.452792\n",
       "2000-01-13    0.530195\n",
       "2000-01-14    0.310744\n",
       "2000-01-15    0.456068\n",
       "2000-01-16   -1.487182\n",
       "2000-01-17    0.505272\n",
       "2000-01-18   -0.261878\n",
       "2000-01-19    1.464194\n",
       "2000-01-20   -0.368198\n",
       "2000-01-21   -0.006928\n",
       "2000-01-22    0.735924\n",
       "2000-01-23   -0.251471\n",
       "2000-01-24   -0.942872\n",
       "2000-01-25    0.562959\n",
       "2000-01-26   -0.144462\n",
       "2000-01-27    0.319910\n",
       "2000-01-28   -0.030146\n",
       "2000-01-29   -0.693563\n",
       "2000-01-30    1.089756\n",
       "                ...   \n",
       "2000-03-11   -0.460000\n",
       "2000-03-12   -0.421539\n",
       "2000-03-13    0.332769\n",
       "2000-03-14    0.271628\n",
       "2000-03-15   -1.036599\n",
       "2000-03-16    0.947106\n",
       "2000-03-17   -1.407054\n",
       "2000-03-18    0.654411\n",
       "2000-03-19   -0.456031\n",
       "2000-03-20   -0.261975\n",
       "2000-03-21    0.702271\n",
       "2000-03-22    3.323726\n",
       "2000-03-23   -0.358849\n",
       "2000-03-24    0.446374\n",
       "2000-03-25   -1.396880\n",
       "2000-03-26    0.647115\n",
       "2000-03-27    0.349836\n",
       "2000-03-28    0.152324\n",
       "2000-03-29   -0.766744\n",
       "2000-03-30   -0.486645\n",
       "2000-03-31   -0.192860\n",
       "2000-04-01   -0.472811\n",
       "2000-04-02    0.016244\n",
       "2000-04-03   -0.002731\n",
       "2000-04-04   -0.343712\n",
       "2000-04-05   -0.863472\n",
       "2000-04-06    0.053936\n",
       "2000-04-07   -0.031486\n",
       "2000-04-08    1.647673\n",
       "2000-04-09   -0.102663\n",
       "Freq: D, Length: 100, dtype: float64"
      ]
     },
     "execution_count": 4,
     "metadata": {},
     "output_type": "execute_result"
    }
   ],
   "source": [
    "ts"
   ]
  },
  {
   "cell_type": "code",
   "execution_count": 5,
   "metadata": {
    "ExecuteTime": {
     "end_time": "2019-04-21T02:45:11.392203Z",
     "start_time": "2019-04-21T02:45:11.364185Z"
    }
   },
   "outputs": [
    {
     "data": {
      "text/plain": [
       "2000-01-31    0.019204\n",
       "2000-02-29   -0.017022\n",
       "2000-03-31   -0.004152\n",
       "2000-04-30   -0.011003\n",
       "Freq: M, dtype: float64"
      ]
     },
     "execution_count": 5,
     "metadata": {},
     "output_type": "execute_result"
    }
   ],
   "source": [
    "# 'M' 月底日期\n",
    "ts.resample('M').mean() # 默认kind='timestamp'，对时间戳聚合"
   ]
  },
  {
   "cell_type": "code",
   "execution_count": 6,
   "metadata": {
    "ExecuteTime": {
     "end_time": "2019-04-21T02:45:11.411718Z",
     "start_time": "2019-04-21T02:45:11.394706Z"
    }
   },
   "outputs": [
    {
     "data": {
      "text/plain": [
       "2000-01-31    0.019204\n",
       "2000-02-29   -0.017022\n",
       "2000-03-31   -0.004152\n",
       "2000-04-30   -0.011003\n",
       "Freq: M, dtype: float64"
      ]
     },
     "execution_count": 6,
     "metadata": {},
     "output_type": "execute_result"
    }
   ],
   "source": [
    "ts.resample('M', kind='timestamp').mean() # 对时间戳聚合"
   ]
  },
  {
   "cell_type": "code",
   "execution_count": 7,
   "metadata": {
    "ExecuteTime": {
     "end_time": "2019-04-21T02:45:11.439237Z",
     "start_time": "2019-04-21T02:45:11.417222Z"
    }
   },
   "outputs": [
    {
     "data": {
      "text/plain": [
       "2000-01    0.019204\n",
       "2000-02   -0.017022\n",
       "2000-03   -0.004152\n",
       "2000-04   -0.011003\n",
       "Freq: M, dtype: float64"
      ]
     },
     "execution_count": 7,
     "metadata": {},
     "output_type": "execute_result"
    }
   ],
   "source": [
    "ts.resample('M', kind='period').mean() # 对区间聚合"
   ]
  },
  {
   "cell_type": "markdown",
   "metadata": {},
   "source": [
    "# 向下采样"
   ]
  },
  {
   "cell_type": "code",
   "execution_count": 8,
   "metadata": {
    "ExecuteTime": {
     "end_time": "2019-04-21T02:45:11.457250Z",
     "start_time": "2019-04-21T02:45:11.449244Z"
    }
   },
   "outputs": [],
   "source": [
    "rng = pd.date_range('2000-01-01', # 起始时间 \n",
    "                    periods=12, # 时间点的个数\n",
    "                    freq='T') # 频率，每分钟"
   ]
  },
  {
   "cell_type": "code",
   "execution_count": 9,
   "metadata": {
    "ExecuteTime": {
     "end_time": "2019-04-21T02:45:11.472761Z",
     "start_time": "2019-04-21T02:45:11.465257Z"
    }
   },
   "outputs": [],
   "source": [
    "ts = Series(np.arange(len(rng)), \n",
    "            index=rng) # 索引"
   ]
  },
  {
   "cell_type": "code",
   "execution_count": 10,
   "metadata": {
    "ExecuteTime": {
     "end_time": "2019-04-21T02:45:11.493275Z",
     "start_time": "2019-04-21T02:45:11.475762Z"
    }
   },
   "outputs": [
    {
     "data": {
      "text/plain": [
       "2000-01-01 00:00:00     0\n",
       "2000-01-01 00:01:00     1\n",
       "2000-01-01 00:02:00     2\n",
       "2000-01-01 00:03:00     3\n",
       "2000-01-01 00:04:00     4\n",
       "2000-01-01 00:05:00     5\n",
       "2000-01-01 00:06:00     6\n",
       "2000-01-01 00:07:00     7\n",
       "2000-01-01 00:08:00     8\n",
       "2000-01-01 00:09:00     9\n",
       "2000-01-01 00:10:00    10\n",
       "2000-01-01 00:11:00    11\n",
       "Freq: T, dtype: int32"
      ]
     },
     "execution_count": 10,
     "metadata": {},
     "output_type": "execute_result"
    }
   ],
   "source": [
    "ts"
   ]
  },
  {
   "cell_type": "code",
   "execution_count": 11,
   "metadata": {
    "ExecuteTime": {
     "end_time": "2019-04-21T02:45:11.517293Z",
     "start_time": "2019-04-21T02:45:11.495777Z"
    }
   },
   "outputs": [
    {
     "data": {
      "text/plain": [
       "2000-01-01 00:00:00    10\n",
       "2000-01-01 00:05:00    35\n",
       "2000-01-01 00:10:00    21\n",
       "Freq: 5T, dtype: int32"
      ]
     },
     "execution_count": 11,
     "metadata": {},
     "output_type": "execute_result"
    }
   ],
   "source": [
    "ts.resample('5min').sum() # 默认左闭右开，即[00:00, 00:05), [00:05, 00:10), [00:10, 00:15)"
   ]
  },
  {
   "cell_type": "code",
   "execution_count": 12,
   "metadata": {
    "ExecuteTime": {
     "end_time": "2019-04-21T02:45:11.548314Z",
     "start_time": "2019-04-21T02:45:11.521296Z"
    }
   },
   "outputs": [
    {
     "data": {
      "text/plain": [
       "1999-12-31 23:55:00     0\n",
       "2000-01-01 00:00:00    15\n",
       "2000-01-01 00:05:00    40\n",
       "2000-01-01 00:10:00    11\n",
       "Freq: 5T, dtype: int32"
      ]
     },
     "execution_count": 12,
     "metadata": {},
     "output_type": "execute_result"
    }
   ],
   "source": [
    "ts.resample('5min',closed='right').sum() # 左开又闭，即(55:00, 00:00], (00:00, 00:05], (00:05, 00:10], (00:10, 00:15]"
   ]
  },
  {
   "cell_type": "code",
   "execution_count": 13,
   "metadata": {
    "ExecuteTime": {
     "end_time": "2019-04-21T02:45:11.577835Z",
     "start_time": "2019-04-21T02:45:11.552317Z"
    }
   },
   "outputs": [
    {
     "data": {
      "text/plain": [
       "2000-01-01 00:00:00     0\n",
       "2000-01-01 00:05:00    15\n",
       "2000-01-01 00:10:00    40\n",
       "2000-01-01 00:15:00    11\n",
       "Freq: 5T, dtype: int32"
      ]
     },
     "execution_count": 13,
     "metadata": {},
     "output_type": "execute_result"
    }
   ],
   "source": [
    "# 传入label='right'可以使用右箱体边界标记时间序列\n",
    "ts.resample('5min', closed='right', label='right').sum()"
   ]
  },
  {
   "cell_type": "code",
   "execution_count": 14,
   "metadata": {
    "ExecuteTime": {
     "end_time": "2019-04-21T02:45:11.602856Z",
     "start_time": "2019-04-21T02:45:11.581337Z"
    }
   },
   "outputs": [
    {
     "data": {
      "text/plain": [
       "1999-12-31 23:59:59     0\n",
       "2000-01-01 00:04:59    15\n",
       "2000-01-01 00:09:59    40\n",
       "2000-01-01 00:14:59    11\n",
       "Freq: 5T, dtype: int32"
      ]
     },
     "execution_count": 14,
     "metadata": {},
     "output_type": "execute_result"
    }
   ],
   "source": [
    "ts.resample('5min', \n",
    "            closed='right', # 左开右闭\n",
    "            label='right', # 使用右箱体边界标记时间序列\n",
    "            loffset='-1s').sum() # 传入日期偏置"
   ]
  },
  {
   "cell_type": "code",
   "execution_count": 15,
   "metadata": {
    "ExecuteTime": {
     "end_time": "2019-04-21T02:45:11.681408Z",
     "start_time": "2019-04-21T02:45:11.605353Z"
    }
   },
   "outputs": [
    {
     "data": {
      "text/html": [
       "<div>\n",
       "<style scoped>\n",
       "    .dataframe tbody tr th:only-of-type {\n",
       "        vertical-align: middle;\n",
       "    }\n",
       "\n",
       "    .dataframe tbody tr th {\n",
       "        vertical-align: top;\n",
       "    }\n",
       "\n",
       "    .dataframe thead th {\n",
       "        text-align: right;\n",
       "    }\n",
       "</style>\n",
       "<table border=\"1\" class=\"dataframe\">\n",
       "  <thead>\n",
       "    <tr style=\"text-align: right;\">\n",
       "      <th></th>\n",
       "      <th>open</th>\n",
       "      <th>high</th>\n",
       "      <th>low</th>\n",
       "      <th>close</th>\n",
       "    </tr>\n",
       "  </thead>\n",
       "  <tbody>\n",
       "    <tr>\n",
       "      <th>2000-01-01 00:00:00</th>\n",
       "      <td>0</td>\n",
       "      <td>4</td>\n",
       "      <td>0</td>\n",
       "      <td>4</td>\n",
       "    </tr>\n",
       "    <tr>\n",
       "      <th>2000-01-01 00:05:00</th>\n",
       "      <td>5</td>\n",
       "      <td>9</td>\n",
       "      <td>5</td>\n",
       "      <td>9</td>\n",
       "    </tr>\n",
       "    <tr>\n",
       "      <th>2000-01-01 00:10:00</th>\n",
       "      <td>10</td>\n",
       "      <td>11</td>\n",
       "      <td>10</td>\n",
       "      <td>11</td>\n",
       "    </tr>\n",
       "  </tbody>\n",
       "</table>\n",
       "</div>"
      ],
      "text/plain": [
       "                     open  high  low  close\n",
       "2000-01-01 00:00:00     0     4    0      4\n",
       "2000-01-01 00:05:00     5     9    5      9\n",
       "2000-01-01 00:10:00    10    11   10     11"
      ]
     },
     "execution_count": 15,
     "metadata": {},
     "output_type": "execute_result"
    }
   ],
   "source": [
    "ts.resample('5min').ohlc()"
   ]
  },
  {
   "cell_type": "markdown",
   "metadata": {},
   "source": [
    "# 向上采样与插值"
   ]
  },
  {
   "cell_type": "code",
   "execution_count": 16,
   "metadata": {
    "ExecuteTime": {
     "end_time": "2019-04-21T02:45:11.696419Z",
     "start_time": "2019-04-21T02:45:11.683409Z"
    }
   },
   "outputs": [],
   "source": [
    "frame = DataFrame(np.random.randn(2, 4),\n",
    "                  index=pd.date_range('1/1/2000', \n",
    "                                      periods=2, \n",
    "                                      freq='W-WED'),\n",
    "                  columns=['Colorado', 'Texas', 'New York', 'Ohio'])"
   ]
  },
  {
   "cell_type": "code",
   "execution_count": 17,
   "metadata": {
    "ExecuteTime": {
     "end_time": "2019-04-21T02:45:11.724440Z",
     "start_time": "2019-04-21T02:45:11.701922Z"
    }
   },
   "outputs": [
    {
     "data": {
      "text/html": [
       "<div>\n",
       "<style scoped>\n",
       "    .dataframe tbody tr th:only-of-type {\n",
       "        vertical-align: middle;\n",
       "    }\n",
       "\n",
       "    .dataframe tbody tr th {\n",
       "        vertical-align: top;\n",
       "    }\n",
       "\n",
       "    .dataframe thead th {\n",
       "        text-align: right;\n",
       "    }\n",
       "</style>\n",
       "<table border=\"1\" class=\"dataframe\">\n",
       "  <thead>\n",
       "    <tr style=\"text-align: right;\">\n",
       "      <th></th>\n",
       "      <th>Colorado</th>\n",
       "      <th>Texas</th>\n",
       "      <th>New York</th>\n",
       "      <th>Ohio</th>\n",
       "    </tr>\n",
       "  </thead>\n",
       "  <tbody>\n",
       "    <tr>\n",
       "      <th>2000-01-05</th>\n",
       "      <td>1.193767</td>\n",
       "      <td>-0.493337</td>\n",
       "      <td>0.709608</td>\n",
       "      <td>-0.980933</td>\n",
       "    </tr>\n",
       "    <tr>\n",
       "      <th>2000-01-12</th>\n",
       "      <td>1.115139</td>\n",
       "      <td>-0.835155</td>\n",
       "      <td>0.870269</td>\n",
       "      <td>-0.069021</td>\n",
       "    </tr>\n",
       "  </tbody>\n",
       "</table>\n",
       "</div>"
      ],
      "text/plain": [
       "            Colorado     Texas  New York      Ohio\n",
       "2000-01-05  1.193767 -0.493337  0.709608 -0.980933\n",
       "2000-01-12  1.115139 -0.835155  0.870269 -0.069021"
      ]
     },
     "execution_count": 17,
     "metadata": {},
     "output_type": "execute_result"
    }
   ],
   "source": [
    "frame"
   ]
  },
  {
   "cell_type": "code",
   "execution_count": 18,
   "metadata": {
    "ExecuteTime": {
     "end_time": "2019-04-21T02:45:11.738449Z",
     "start_time": "2019-04-21T02:45:11.726940Z"
    }
   },
   "outputs": [],
   "source": [
    "df_daily = frame.resample('D')"
   ]
  },
  {
   "cell_type": "code",
   "execution_count": 19,
   "metadata": {
    "ExecuteTime": {
     "end_time": "2019-04-21T02:45:11.760964Z",
     "start_time": "2019-04-21T02:45:11.740950Z"
    }
   },
   "outputs": [
    {
     "data": {
      "text/plain": [
       "DatetimeIndexResampler [freq=<Day>, axis=0, closed=left, label=left, convention=start, base=0]"
      ]
     },
     "execution_count": 19,
     "metadata": {},
     "output_type": "execute_result"
    }
   ],
   "source": [
    "df_daily"
   ]
  },
  {
   "cell_type": "code",
   "execution_count": 20,
   "metadata": {
    "ExecuteTime": {
     "end_time": "2019-04-21T02:45:11.801492Z",
     "start_time": "2019-04-21T02:45:11.765968Z"
    }
   },
   "outputs": [
    {
     "data": {
      "text/html": [
       "<div>\n",
       "<style scoped>\n",
       "    .dataframe tbody tr th:only-of-type {\n",
       "        vertical-align: middle;\n",
       "    }\n",
       "\n",
       "    .dataframe tbody tr th {\n",
       "        vertical-align: top;\n",
       "    }\n",
       "\n",
       "    .dataframe thead th {\n",
       "        text-align: right;\n",
       "    }\n",
       "</style>\n",
       "<table border=\"1\" class=\"dataframe\">\n",
       "  <thead>\n",
       "    <tr style=\"text-align: right;\">\n",
       "      <th></th>\n",
       "      <th>Colorado</th>\n",
       "      <th>Texas</th>\n",
       "      <th>New York</th>\n",
       "      <th>Ohio</th>\n",
       "    </tr>\n",
       "  </thead>\n",
       "  <tbody>\n",
       "    <tr>\n",
       "      <th>2000-01-05</th>\n",
       "      <td>1.193767</td>\n",
       "      <td>-0.493337</td>\n",
       "      <td>0.709608</td>\n",
       "      <td>-0.980933</td>\n",
       "    </tr>\n",
       "    <tr>\n",
       "      <th>2000-01-06</th>\n",
       "      <td>NaN</td>\n",
       "      <td>NaN</td>\n",
       "      <td>NaN</td>\n",
       "      <td>NaN</td>\n",
       "    </tr>\n",
       "    <tr>\n",
       "      <th>2000-01-07</th>\n",
       "      <td>NaN</td>\n",
       "      <td>NaN</td>\n",
       "      <td>NaN</td>\n",
       "      <td>NaN</td>\n",
       "    </tr>\n",
       "    <tr>\n",
       "      <th>2000-01-08</th>\n",
       "      <td>NaN</td>\n",
       "      <td>NaN</td>\n",
       "      <td>NaN</td>\n",
       "      <td>NaN</td>\n",
       "    </tr>\n",
       "    <tr>\n",
       "      <th>2000-01-09</th>\n",
       "      <td>NaN</td>\n",
       "      <td>NaN</td>\n",
       "      <td>NaN</td>\n",
       "      <td>NaN</td>\n",
       "    </tr>\n",
       "    <tr>\n",
       "      <th>2000-01-10</th>\n",
       "      <td>NaN</td>\n",
       "      <td>NaN</td>\n",
       "      <td>NaN</td>\n",
       "      <td>NaN</td>\n",
       "    </tr>\n",
       "    <tr>\n",
       "      <th>2000-01-11</th>\n",
       "      <td>NaN</td>\n",
       "      <td>NaN</td>\n",
       "      <td>NaN</td>\n",
       "      <td>NaN</td>\n",
       "    </tr>\n",
       "    <tr>\n",
       "      <th>2000-01-12</th>\n",
       "      <td>1.115139</td>\n",
       "      <td>-0.835155</td>\n",
       "      <td>0.870269</td>\n",
       "      <td>-0.069021</td>\n",
       "    </tr>\n",
       "  </tbody>\n",
       "</table>\n",
       "</div>"
      ],
      "text/plain": [
       "            Colorado     Texas  New York      Ohio\n",
       "2000-01-05  1.193767 -0.493337  0.709608 -0.980933\n",
       "2000-01-06       NaN       NaN       NaN       NaN\n",
       "2000-01-07       NaN       NaN       NaN       NaN\n",
       "2000-01-08       NaN       NaN       NaN       NaN\n",
       "2000-01-09       NaN       NaN       NaN       NaN\n",
       "2000-01-10       NaN       NaN       NaN       NaN\n",
       "2000-01-11       NaN       NaN       NaN       NaN\n",
       "2000-01-12  1.115139 -0.835155  0.870269 -0.069021"
      ]
     },
     "execution_count": 20,
     "metadata": {},
     "output_type": "execute_result"
    }
   ],
   "source": [
    "df_daily.asfreq()"
   ]
  },
  {
   "cell_type": "code",
   "execution_count": 21,
   "metadata": {
    "ExecuteTime": {
     "end_time": "2019-04-21T02:45:11.826511Z",
     "start_time": "2019-04-21T02:45:11.804497Z"
    }
   },
   "outputs": [
    {
     "data": {
      "text/html": [
       "<div>\n",
       "<style scoped>\n",
       "    .dataframe tbody tr th:only-of-type {\n",
       "        vertical-align: middle;\n",
       "    }\n",
       "\n",
       "    .dataframe tbody tr th {\n",
       "        vertical-align: top;\n",
       "    }\n",
       "\n",
       "    .dataframe thead th {\n",
       "        text-align: right;\n",
       "    }\n",
       "</style>\n",
       "<table border=\"1\" class=\"dataframe\">\n",
       "  <thead>\n",
       "    <tr style=\"text-align: right;\">\n",
       "      <th></th>\n",
       "      <th>Colorado</th>\n",
       "      <th>Texas</th>\n",
       "      <th>New York</th>\n",
       "      <th>Ohio</th>\n",
       "    </tr>\n",
       "  </thead>\n",
       "  <tbody>\n",
       "    <tr>\n",
       "      <th>2000-01-05</th>\n",
       "      <td>1.193767</td>\n",
       "      <td>-0.493337</td>\n",
       "      <td>0.709608</td>\n",
       "      <td>-0.980933</td>\n",
       "    </tr>\n",
       "    <tr>\n",
       "      <th>2000-01-06</th>\n",
       "      <td>1.193767</td>\n",
       "      <td>-0.493337</td>\n",
       "      <td>0.709608</td>\n",
       "      <td>-0.980933</td>\n",
       "    </tr>\n",
       "    <tr>\n",
       "      <th>2000-01-07</th>\n",
       "      <td>1.193767</td>\n",
       "      <td>-0.493337</td>\n",
       "      <td>0.709608</td>\n",
       "      <td>-0.980933</td>\n",
       "    </tr>\n",
       "    <tr>\n",
       "      <th>2000-01-08</th>\n",
       "      <td>1.193767</td>\n",
       "      <td>-0.493337</td>\n",
       "      <td>0.709608</td>\n",
       "      <td>-0.980933</td>\n",
       "    </tr>\n",
       "    <tr>\n",
       "      <th>2000-01-09</th>\n",
       "      <td>1.193767</td>\n",
       "      <td>-0.493337</td>\n",
       "      <td>0.709608</td>\n",
       "      <td>-0.980933</td>\n",
       "    </tr>\n",
       "    <tr>\n",
       "      <th>2000-01-10</th>\n",
       "      <td>1.193767</td>\n",
       "      <td>-0.493337</td>\n",
       "      <td>0.709608</td>\n",
       "      <td>-0.980933</td>\n",
       "    </tr>\n",
       "    <tr>\n",
       "      <th>2000-01-11</th>\n",
       "      <td>1.193767</td>\n",
       "      <td>-0.493337</td>\n",
       "      <td>0.709608</td>\n",
       "      <td>-0.980933</td>\n",
       "    </tr>\n",
       "    <tr>\n",
       "      <th>2000-01-12</th>\n",
       "      <td>1.115139</td>\n",
       "      <td>-0.835155</td>\n",
       "      <td>0.870269</td>\n",
       "      <td>-0.069021</td>\n",
       "    </tr>\n",
       "  </tbody>\n",
       "</table>\n",
       "</div>"
      ],
      "text/plain": [
       "            Colorado     Texas  New York      Ohio\n",
       "2000-01-05  1.193767 -0.493337  0.709608 -0.980933\n",
       "2000-01-06  1.193767 -0.493337  0.709608 -0.980933\n",
       "2000-01-07  1.193767 -0.493337  0.709608 -0.980933\n",
       "2000-01-08  1.193767 -0.493337  0.709608 -0.980933\n",
       "2000-01-09  1.193767 -0.493337  0.709608 -0.980933\n",
       "2000-01-10  1.193767 -0.493337  0.709608 -0.980933\n",
       "2000-01-11  1.193767 -0.493337  0.709608 -0.980933\n",
       "2000-01-12  1.115139 -0.835155  0.870269 -0.069021"
      ]
     },
     "execution_count": 21,
     "metadata": {},
     "output_type": "execute_result"
    }
   ],
   "source": [
    "frame.resample('D').ffill() # 前向插值，使用之前的值来填充后面的缺失值"
   ]
  },
  {
   "cell_type": "code",
   "execution_count": 22,
   "metadata": {
    "ExecuteTime": {
     "end_time": "2019-04-21T02:45:11.853529Z",
     "start_time": "2019-04-21T02:45:11.829512Z"
    }
   },
   "outputs": [
    {
     "data": {
      "text/html": [
       "<div>\n",
       "<style scoped>\n",
       "    .dataframe tbody tr th:only-of-type {\n",
       "        vertical-align: middle;\n",
       "    }\n",
       "\n",
       "    .dataframe tbody tr th {\n",
       "        vertical-align: top;\n",
       "    }\n",
       "\n",
       "    .dataframe thead th {\n",
       "        text-align: right;\n",
       "    }\n",
       "</style>\n",
       "<table border=\"1\" class=\"dataframe\">\n",
       "  <thead>\n",
       "    <tr style=\"text-align: right;\">\n",
       "      <th></th>\n",
       "      <th>Colorado</th>\n",
       "      <th>Texas</th>\n",
       "      <th>New York</th>\n",
       "      <th>Ohio</th>\n",
       "    </tr>\n",
       "  </thead>\n",
       "  <tbody>\n",
       "    <tr>\n",
       "      <th>2000-01-05</th>\n",
       "      <td>1.193767</td>\n",
       "      <td>-0.493337</td>\n",
       "      <td>0.709608</td>\n",
       "      <td>-0.980933</td>\n",
       "    </tr>\n",
       "    <tr>\n",
       "      <th>2000-01-06</th>\n",
       "      <td>1.193767</td>\n",
       "      <td>-0.493337</td>\n",
       "      <td>0.709608</td>\n",
       "      <td>-0.980933</td>\n",
       "    </tr>\n",
       "    <tr>\n",
       "      <th>2000-01-07</th>\n",
       "      <td>1.193767</td>\n",
       "      <td>-0.493337</td>\n",
       "      <td>0.709608</td>\n",
       "      <td>-0.980933</td>\n",
       "    </tr>\n",
       "    <tr>\n",
       "      <th>2000-01-08</th>\n",
       "      <td>NaN</td>\n",
       "      <td>NaN</td>\n",
       "      <td>NaN</td>\n",
       "      <td>NaN</td>\n",
       "    </tr>\n",
       "    <tr>\n",
       "      <th>2000-01-09</th>\n",
       "      <td>NaN</td>\n",
       "      <td>NaN</td>\n",
       "      <td>NaN</td>\n",
       "      <td>NaN</td>\n",
       "    </tr>\n",
       "    <tr>\n",
       "      <th>2000-01-10</th>\n",
       "      <td>NaN</td>\n",
       "      <td>NaN</td>\n",
       "      <td>NaN</td>\n",
       "      <td>NaN</td>\n",
       "    </tr>\n",
       "    <tr>\n",
       "      <th>2000-01-11</th>\n",
       "      <td>NaN</td>\n",
       "      <td>NaN</td>\n",
       "      <td>NaN</td>\n",
       "      <td>NaN</td>\n",
       "    </tr>\n",
       "    <tr>\n",
       "      <th>2000-01-12</th>\n",
       "      <td>1.115139</td>\n",
       "      <td>-0.835155</td>\n",
       "      <td>0.870269</td>\n",
       "      <td>-0.069021</td>\n",
       "    </tr>\n",
       "  </tbody>\n",
       "</table>\n",
       "</div>"
      ],
      "text/plain": [
       "            Colorado     Texas  New York      Ohio\n",
       "2000-01-05  1.193767 -0.493337  0.709608 -0.980933\n",
       "2000-01-06  1.193767 -0.493337  0.709608 -0.980933\n",
       "2000-01-07  1.193767 -0.493337  0.709608 -0.980933\n",
       "2000-01-08       NaN       NaN       NaN       NaN\n",
       "2000-01-09       NaN       NaN       NaN       NaN\n",
       "2000-01-10       NaN       NaN       NaN       NaN\n",
       "2000-01-11       NaN       NaN       NaN       NaN\n",
       "2000-01-12  1.115139 -0.835155  0.870269 -0.069021"
      ]
     },
     "execution_count": 22,
     "metadata": {},
     "output_type": "execute_result"
    }
   ],
   "source": [
    "frame.resample('D').ffill(limit=2) # 只插入两行"
   ]
  },
  {
   "cell_type": "code",
   "execution_count": 23,
   "metadata": {
    "ExecuteTime": {
     "end_time": "2019-04-21T02:45:11.878047Z",
     "start_time": "2019-04-21T02:45:11.856031Z"
    }
   },
   "outputs": [
    {
     "data": {
      "text/html": [
       "<div>\n",
       "<style scoped>\n",
       "    .dataframe tbody tr th:only-of-type {\n",
       "        vertical-align: middle;\n",
       "    }\n",
       "\n",
       "    .dataframe tbody tr th {\n",
       "        vertical-align: top;\n",
       "    }\n",
       "\n",
       "    .dataframe thead th {\n",
       "        text-align: right;\n",
       "    }\n",
       "</style>\n",
       "<table border=\"1\" class=\"dataframe\">\n",
       "  <thead>\n",
       "    <tr style=\"text-align: right;\">\n",
       "      <th></th>\n",
       "      <th>Colorado</th>\n",
       "      <th>Texas</th>\n",
       "      <th>New York</th>\n",
       "      <th>Ohio</th>\n",
       "    </tr>\n",
       "  </thead>\n",
       "  <tbody>\n",
       "    <tr>\n",
       "      <th>2000-01-06</th>\n",
       "      <td>1.193767</td>\n",
       "      <td>-0.493337</td>\n",
       "      <td>0.709608</td>\n",
       "      <td>-0.980933</td>\n",
       "    </tr>\n",
       "    <tr>\n",
       "      <th>2000-01-13</th>\n",
       "      <td>1.115139</td>\n",
       "      <td>-0.835155</td>\n",
       "      <td>0.870269</td>\n",
       "      <td>-0.069021</td>\n",
       "    </tr>\n",
       "  </tbody>\n",
       "</table>\n",
       "</div>"
      ],
      "text/plain": [
       "            Colorado     Texas  New York      Ohio\n",
       "2000-01-06  1.193767 -0.493337  0.709608 -0.980933\n",
       "2000-01-13  1.115139 -0.835155  0.870269 -0.069021"
      ]
     },
     "execution_count": 23,
     "metadata": {},
     "output_type": "execute_result"
    }
   ],
   "source": [
    "frame.resample('W-THU').ffill()"
   ]
  },
  {
   "cell_type": "markdown",
   "metadata": {},
   "source": [
    "# 使用区间进行重新采样"
   ]
  },
  {
   "cell_type": "code",
   "execution_count": 24,
   "metadata": {
    "ExecuteTime": {
     "end_time": "2019-04-21T02:45:11.897060Z",
     "start_time": "2019-04-21T02:45:11.884550Z"
    }
   },
   "outputs": [],
   "source": [
    "frame = DataFrame(np.random.randn(24, 4),\n",
    "                  index=pd.period_range('1-2000', # 起始月份\n",
    "                                        '12-2001', # 终止月份\n",
    "                                        freq='M'), # 每月\n",
    "                  columns=['Colorado', 'Texas', 'New York', 'Ohio'])"
   ]
  },
  {
   "cell_type": "code",
   "execution_count": 25,
   "metadata": {
    "ExecuteTime": {
     "end_time": "2019-04-21T02:45:11.919578Z",
     "start_time": "2019-04-21T02:45:11.900063Z"
    }
   },
   "outputs": [
    {
     "data": {
      "text/html": [
       "<div>\n",
       "<style scoped>\n",
       "    .dataframe tbody tr th:only-of-type {\n",
       "        vertical-align: middle;\n",
       "    }\n",
       "\n",
       "    .dataframe tbody tr th {\n",
       "        vertical-align: top;\n",
       "    }\n",
       "\n",
       "    .dataframe thead th {\n",
       "        text-align: right;\n",
       "    }\n",
       "</style>\n",
       "<table border=\"1\" class=\"dataframe\">\n",
       "  <thead>\n",
       "    <tr style=\"text-align: right;\">\n",
       "      <th></th>\n",
       "      <th>Colorado</th>\n",
       "      <th>Texas</th>\n",
       "      <th>New York</th>\n",
       "      <th>Ohio</th>\n",
       "    </tr>\n",
       "  </thead>\n",
       "  <tbody>\n",
       "    <tr>\n",
       "      <th>2000-01</th>\n",
       "      <td>0.362781</td>\n",
       "      <td>0.200059</td>\n",
       "      <td>0.092981</td>\n",
       "      <td>-1.318042</td>\n",
       "    </tr>\n",
       "    <tr>\n",
       "      <th>2000-02</th>\n",
       "      <td>1.362751</td>\n",
       "      <td>1.058781</td>\n",
       "      <td>0.482718</td>\n",
       "      <td>-1.055999</td>\n",
       "    </tr>\n",
       "    <tr>\n",
       "      <th>2000-03</th>\n",
       "      <td>-0.862085</td>\n",
       "      <td>-0.315595</td>\n",
       "      <td>-0.637520</td>\n",
       "      <td>-0.321935</td>\n",
       "    </tr>\n",
       "    <tr>\n",
       "      <th>2000-04</th>\n",
       "      <td>-0.713523</td>\n",
       "      <td>-0.192767</td>\n",
       "      <td>0.682412</td>\n",
       "      <td>-1.767096</td>\n",
       "    </tr>\n",
       "    <tr>\n",
       "      <th>2000-05</th>\n",
       "      <td>0.747428</td>\n",
       "      <td>0.070078</td>\n",
       "      <td>0.600444</td>\n",
       "      <td>0.445344</td>\n",
       "    </tr>\n",
       "    <tr>\n",
       "      <th>2000-06</th>\n",
       "      <td>1.338336</td>\n",
       "      <td>0.711442</td>\n",
       "      <td>0.605710</td>\n",
       "      <td>0.081706</td>\n",
       "    </tr>\n",
       "    <tr>\n",
       "      <th>2000-07</th>\n",
       "      <td>-0.841926</td>\n",
       "      <td>-0.845048</td>\n",
       "      <td>0.423556</td>\n",
       "      <td>-0.504845</td>\n",
       "    </tr>\n",
       "    <tr>\n",
       "      <th>2000-08</th>\n",
       "      <td>-1.668009</td>\n",
       "      <td>-0.675016</td>\n",
       "      <td>-1.903676</td>\n",
       "      <td>-0.677681</td>\n",
       "    </tr>\n",
       "    <tr>\n",
       "      <th>2000-09</th>\n",
       "      <td>1.304135</td>\n",
       "      <td>-0.085456</td>\n",
       "      <td>0.354473</td>\n",
       "      <td>1.127472</td>\n",
       "    </tr>\n",
       "    <tr>\n",
       "      <th>2000-10</th>\n",
       "      <td>-1.340947</td>\n",
       "      <td>0.681850</td>\n",
       "      <td>1.048449</td>\n",
       "      <td>-0.268838</td>\n",
       "    </tr>\n",
       "    <tr>\n",
       "      <th>2000-11</th>\n",
       "      <td>-1.059931</td>\n",
       "      <td>2.191578</td>\n",
       "      <td>1.483868</td>\n",
       "      <td>0.377314</td>\n",
       "    </tr>\n",
       "    <tr>\n",
       "      <th>2000-12</th>\n",
       "      <td>0.935136</td>\n",
       "      <td>-0.888415</td>\n",
       "      <td>1.035925</td>\n",
       "      <td>-0.077224</td>\n",
       "    </tr>\n",
       "    <tr>\n",
       "      <th>2001-01</th>\n",
       "      <td>-0.062674</td>\n",
       "      <td>-0.789852</td>\n",
       "      <td>0.319411</td>\n",
       "      <td>-0.279341</td>\n",
       "    </tr>\n",
       "    <tr>\n",
       "      <th>2001-02</th>\n",
       "      <td>-0.181078</td>\n",
       "      <td>0.333163</td>\n",
       "      <td>0.747885</td>\n",
       "      <td>0.089262</td>\n",
       "    </tr>\n",
       "    <tr>\n",
       "      <th>2001-03</th>\n",
       "      <td>0.158943</td>\n",
       "      <td>-0.195636</td>\n",
       "      <td>1.214480</td>\n",
       "      <td>-1.532833</td>\n",
       "    </tr>\n",
       "    <tr>\n",
       "      <th>2001-04</th>\n",
       "      <td>0.284886</td>\n",
       "      <td>-1.269245</td>\n",
       "      <td>1.253840</td>\n",
       "      <td>-0.612600</td>\n",
       "    </tr>\n",
       "    <tr>\n",
       "      <th>2001-05</th>\n",
       "      <td>-0.006145</td>\n",
       "      <td>0.272679</td>\n",
       "      <td>0.732666</td>\n",
       "      <td>0.284853</td>\n",
       "    </tr>\n",
       "    <tr>\n",
       "      <th>2001-06</th>\n",
       "      <td>-0.309004</td>\n",
       "      <td>-2.141114</td>\n",
       "      <td>1.326883</td>\n",
       "      <td>-1.341199</td>\n",
       "    </tr>\n",
       "    <tr>\n",
       "      <th>2001-07</th>\n",
       "      <td>0.850383</td>\n",
       "      <td>0.640109</td>\n",
       "      <td>0.347835</td>\n",
       "      <td>1.120490</td>\n",
       "    </tr>\n",
       "    <tr>\n",
       "      <th>2001-08</th>\n",
       "      <td>-0.867264</td>\n",
       "      <td>0.610259</td>\n",
       "      <td>-0.215821</td>\n",
       "      <td>1.043410</td>\n",
       "    </tr>\n",
       "    <tr>\n",
       "      <th>2001-09</th>\n",
       "      <td>0.930736</td>\n",
       "      <td>-1.307537</td>\n",
       "      <td>0.636435</td>\n",
       "      <td>1.718779</td>\n",
       "    </tr>\n",
       "    <tr>\n",
       "      <th>2001-10</th>\n",
       "      <td>-2.638211</td>\n",
       "      <td>1.305573</td>\n",
       "      <td>-0.730195</td>\n",
       "      <td>0.812379</td>\n",
       "    </tr>\n",
       "    <tr>\n",
       "      <th>2001-11</th>\n",
       "      <td>1.056927</td>\n",
       "      <td>0.056320</td>\n",
       "      <td>0.971530</td>\n",
       "      <td>-0.092424</td>\n",
       "    </tr>\n",
       "    <tr>\n",
       "      <th>2001-12</th>\n",
       "      <td>0.414971</td>\n",
       "      <td>1.350408</td>\n",
       "      <td>1.711347</td>\n",
       "      <td>0.715615</td>\n",
       "    </tr>\n",
       "  </tbody>\n",
       "</table>\n",
       "</div>"
      ],
      "text/plain": [
       "         Colorado     Texas  New York      Ohio\n",
       "2000-01  0.362781  0.200059  0.092981 -1.318042\n",
       "2000-02  1.362751  1.058781  0.482718 -1.055999\n",
       "2000-03 -0.862085 -0.315595 -0.637520 -0.321935\n",
       "2000-04 -0.713523 -0.192767  0.682412 -1.767096\n",
       "2000-05  0.747428  0.070078  0.600444  0.445344\n",
       "2000-06  1.338336  0.711442  0.605710  0.081706\n",
       "2000-07 -0.841926 -0.845048  0.423556 -0.504845\n",
       "2000-08 -1.668009 -0.675016 -1.903676 -0.677681\n",
       "2000-09  1.304135 -0.085456  0.354473  1.127472\n",
       "2000-10 -1.340947  0.681850  1.048449 -0.268838\n",
       "2000-11 -1.059931  2.191578  1.483868  0.377314\n",
       "2000-12  0.935136 -0.888415  1.035925 -0.077224\n",
       "2001-01 -0.062674 -0.789852  0.319411 -0.279341\n",
       "2001-02 -0.181078  0.333163  0.747885  0.089262\n",
       "2001-03  0.158943 -0.195636  1.214480 -1.532833\n",
       "2001-04  0.284886 -1.269245  1.253840 -0.612600\n",
       "2001-05 -0.006145  0.272679  0.732666  0.284853\n",
       "2001-06 -0.309004 -2.141114  1.326883 -1.341199\n",
       "2001-07  0.850383  0.640109  0.347835  1.120490\n",
       "2001-08 -0.867264  0.610259 -0.215821  1.043410\n",
       "2001-09  0.930736 -1.307537  0.636435  1.718779\n",
       "2001-10 -2.638211  1.305573 -0.730195  0.812379\n",
       "2001-11  1.056927  0.056320  0.971530 -0.092424\n",
       "2001-12  0.414971  1.350408  1.711347  0.715615"
      ]
     },
     "execution_count": 25,
     "metadata": {},
     "output_type": "execute_result"
    }
   ],
   "source": [
    "frame"
   ]
  },
  {
   "cell_type": "code",
   "execution_count": 26,
   "metadata": {
    "ExecuteTime": {
     "end_time": "2019-04-21T02:45:11.936088Z",
     "start_time": "2019-04-21T02:45:11.922078Z"
    }
   },
   "outputs": [],
   "source": [
    "annual_frame = frame.resample('A-DEC').mean() # 将每月采样为每年，年末为12月份"
   ]
  },
  {
   "cell_type": "code",
   "execution_count": 27,
   "metadata": {
    "ExecuteTime": {
     "end_time": "2019-04-21T02:45:11.956102Z",
     "start_time": "2019-04-21T02:45:11.938590Z"
    }
   },
   "outputs": [
    {
     "data": {
      "text/html": [
       "<div>\n",
       "<style scoped>\n",
       "    .dataframe tbody tr th:only-of-type {\n",
       "        vertical-align: middle;\n",
       "    }\n",
       "\n",
       "    .dataframe tbody tr th {\n",
       "        vertical-align: top;\n",
       "    }\n",
       "\n",
       "    .dataframe thead th {\n",
       "        text-align: right;\n",
       "    }\n",
       "</style>\n",
       "<table border=\"1\" class=\"dataframe\">\n",
       "  <thead>\n",
       "    <tr style=\"text-align: right;\">\n",
       "      <th></th>\n",
       "      <th>Colorado</th>\n",
       "      <th>Texas</th>\n",
       "      <th>New York</th>\n",
       "      <th>Ohio</th>\n",
       "    </tr>\n",
       "  </thead>\n",
       "  <tbody>\n",
       "    <tr>\n",
       "      <th>2000</th>\n",
       "      <td>-0.036321</td>\n",
       "      <td>0.159291</td>\n",
       "      <td>0.355778</td>\n",
       "      <td>-0.329985</td>\n",
       "    </tr>\n",
       "    <tr>\n",
       "      <th>2001</th>\n",
       "      <td>-0.030628</td>\n",
       "      <td>-0.094573</td>\n",
       "      <td>0.693025</td>\n",
       "      <td>0.160532</td>\n",
       "    </tr>\n",
       "  </tbody>\n",
       "</table>\n",
       "</div>"
      ],
      "text/plain": [
       "      Colorado     Texas  New York      Ohio\n",
       "2000 -0.036321  0.159291  0.355778 -0.329985\n",
       "2001 -0.030628 -0.094573  0.693025  0.160532"
      ]
     },
     "execution_count": 27,
     "metadata": {},
     "output_type": "execute_result"
    }
   ],
   "source": [
    "annual_frame"
   ]
  },
  {
   "cell_type": "code",
   "execution_count": 28,
   "metadata": {
    "ExecuteTime": {
     "end_time": "2019-04-21T02:45:11.978617Z",
     "start_time": "2019-04-21T02:45:11.958604Z"
    }
   },
   "outputs": [
    {
     "data": {
      "text/html": [
       "<div>\n",
       "<style scoped>\n",
       "    .dataframe tbody tr th:only-of-type {\n",
       "        vertical-align: middle;\n",
       "    }\n",
       "\n",
       "    .dataframe tbody tr th {\n",
       "        vertical-align: top;\n",
       "    }\n",
       "\n",
       "    .dataframe thead th {\n",
       "        text-align: right;\n",
       "    }\n",
       "</style>\n",
       "<table border=\"1\" class=\"dataframe\">\n",
       "  <thead>\n",
       "    <tr style=\"text-align: right;\">\n",
       "      <th></th>\n",
       "      <th>Colorado</th>\n",
       "      <th>Texas</th>\n",
       "      <th>New York</th>\n",
       "      <th>Ohio</th>\n",
       "    </tr>\n",
       "  </thead>\n",
       "  <tbody>\n",
       "    <tr>\n",
       "      <th>2000Q1</th>\n",
       "      <td>-0.036321</td>\n",
       "      <td>0.159291</td>\n",
       "      <td>0.355778</td>\n",
       "      <td>-0.329985</td>\n",
       "    </tr>\n",
       "    <tr>\n",
       "      <th>2000Q2</th>\n",
       "      <td>-0.036321</td>\n",
       "      <td>0.159291</td>\n",
       "      <td>0.355778</td>\n",
       "      <td>-0.329985</td>\n",
       "    </tr>\n",
       "    <tr>\n",
       "      <th>2000Q3</th>\n",
       "      <td>-0.036321</td>\n",
       "      <td>0.159291</td>\n",
       "      <td>0.355778</td>\n",
       "      <td>-0.329985</td>\n",
       "    </tr>\n",
       "    <tr>\n",
       "      <th>2000Q4</th>\n",
       "      <td>-0.036321</td>\n",
       "      <td>0.159291</td>\n",
       "      <td>0.355778</td>\n",
       "      <td>-0.329985</td>\n",
       "    </tr>\n",
       "    <tr>\n",
       "      <th>2001Q1</th>\n",
       "      <td>-0.030628</td>\n",
       "      <td>-0.094573</td>\n",
       "      <td>0.693025</td>\n",
       "      <td>0.160532</td>\n",
       "    </tr>\n",
       "    <tr>\n",
       "      <th>2001Q2</th>\n",
       "      <td>-0.030628</td>\n",
       "      <td>-0.094573</td>\n",
       "      <td>0.693025</td>\n",
       "      <td>0.160532</td>\n",
       "    </tr>\n",
       "    <tr>\n",
       "      <th>2001Q3</th>\n",
       "      <td>-0.030628</td>\n",
       "      <td>-0.094573</td>\n",
       "      <td>0.693025</td>\n",
       "      <td>0.160532</td>\n",
       "    </tr>\n",
       "    <tr>\n",
       "      <th>2001Q4</th>\n",
       "      <td>-0.030628</td>\n",
       "      <td>-0.094573</td>\n",
       "      <td>0.693025</td>\n",
       "      <td>0.160532</td>\n",
       "    </tr>\n",
       "  </tbody>\n",
       "</table>\n",
       "</div>"
      ],
      "text/plain": [
       "        Colorado     Texas  New York      Ohio\n",
       "2000Q1 -0.036321  0.159291  0.355778 -0.329985\n",
       "2000Q2 -0.036321  0.159291  0.355778 -0.329985\n",
       "2000Q3 -0.036321  0.159291  0.355778 -0.329985\n",
       "2000Q4 -0.036321  0.159291  0.355778 -0.329985\n",
       "2001Q1 -0.030628 -0.094573  0.693025  0.160532\n",
       "2001Q2 -0.030628 -0.094573  0.693025  0.160532\n",
       "2001Q3 -0.030628 -0.094573  0.693025  0.160532\n",
       "2001Q4 -0.030628 -0.094573  0.693025  0.160532"
      ]
     },
     "execution_count": 28,
     "metadata": {},
     "output_type": "execute_result"
    }
   ],
   "source": [
    "annual_frame.resample('Q-DEC').ffill() # 将每月采样为每季度，季度末在12月份"
   ]
  },
  {
   "cell_type": "code",
   "execution_count": 29,
   "metadata": {
    "ExecuteTime": {
     "end_time": "2019-04-21T02:45:12.001134Z",
     "start_time": "2019-04-21T02:45:11.981619Z"
    }
   },
   "outputs": [
    {
     "data": {
      "text/html": [
       "<div>\n",
       "<style scoped>\n",
       "    .dataframe tbody tr th:only-of-type {\n",
       "        vertical-align: middle;\n",
       "    }\n",
       "\n",
       "    .dataframe tbody tr th {\n",
       "        vertical-align: top;\n",
       "    }\n",
       "\n",
       "    .dataframe thead th {\n",
       "        text-align: right;\n",
       "    }\n",
       "</style>\n",
       "<table border=\"1\" class=\"dataframe\">\n",
       "  <thead>\n",
       "    <tr style=\"text-align: right;\">\n",
       "      <th></th>\n",
       "      <th>Colorado</th>\n",
       "      <th>Texas</th>\n",
       "      <th>New York</th>\n",
       "      <th>Ohio</th>\n",
       "    </tr>\n",
       "  </thead>\n",
       "  <tbody>\n",
       "    <tr>\n",
       "      <th>2000Q4</th>\n",
       "      <td>-0.036321</td>\n",
       "      <td>0.159291</td>\n",
       "      <td>0.355778</td>\n",
       "      <td>-0.329985</td>\n",
       "    </tr>\n",
       "    <tr>\n",
       "      <th>2001Q1</th>\n",
       "      <td>-0.036321</td>\n",
       "      <td>0.159291</td>\n",
       "      <td>0.355778</td>\n",
       "      <td>-0.329985</td>\n",
       "    </tr>\n",
       "    <tr>\n",
       "      <th>2001Q2</th>\n",
       "      <td>-0.036321</td>\n",
       "      <td>0.159291</td>\n",
       "      <td>0.355778</td>\n",
       "      <td>-0.329985</td>\n",
       "    </tr>\n",
       "    <tr>\n",
       "      <th>2001Q3</th>\n",
       "      <td>-0.036321</td>\n",
       "      <td>0.159291</td>\n",
       "      <td>0.355778</td>\n",
       "      <td>-0.329985</td>\n",
       "    </tr>\n",
       "    <tr>\n",
       "      <th>2001Q4</th>\n",
       "      <td>-0.030628</td>\n",
       "      <td>-0.094573</td>\n",
       "      <td>0.693025</td>\n",
       "      <td>0.160532</td>\n",
       "    </tr>\n",
       "  </tbody>\n",
       "</table>\n",
       "</div>"
      ],
      "text/plain": [
       "        Colorado     Texas  New York      Ohio\n",
       "2000Q4 -0.036321  0.159291  0.355778 -0.329985\n",
       "2001Q1 -0.036321  0.159291  0.355778 -0.329985\n",
       "2001Q2 -0.036321  0.159291  0.355778 -0.329985\n",
       "2001Q3 -0.036321  0.159291  0.355778 -0.329985\n",
       "2001Q4 -0.030628 -0.094573  0.693025  0.160532"
      ]
     },
     "execution_count": 29,
     "metadata": {},
     "output_type": "execute_result"
    }
   ],
   "source": [
    "annual_frame.resample('Q-DEC', convention='end').ffill()"
   ]
  },
  {
   "cell_type": "code",
   "execution_count": 30,
   "metadata": {
    "ExecuteTime": {
     "end_time": "2019-04-21T02:45:12.021647Z",
     "start_time": "2019-04-21T02:45:12.004137Z"
    }
   },
   "outputs": [
    {
     "data": {
      "text/html": [
       "<div>\n",
       "<style scoped>\n",
       "    .dataframe tbody tr th:only-of-type {\n",
       "        vertical-align: middle;\n",
       "    }\n",
       "\n",
       "    .dataframe tbody tr th {\n",
       "        vertical-align: top;\n",
       "    }\n",
       "\n",
       "    .dataframe thead th {\n",
       "        text-align: right;\n",
       "    }\n",
       "</style>\n",
       "<table border=\"1\" class=\"dataframe\">\n",
       "  <thead>\n",
       "    <tr style=\"text-align: right;\">\n",
       "      <th></th>\n",
       "      <th>Colorado</th>\n",
       "      <th>Texas</th>\n",
       "      <th>New York</th>\n",
       "      <th>Ohio</th>\n",
       "    </tr>\n",
       "  </thead>\n",
       "  <tbody>\n",
       "    <tr>\n",
       "      <th>2000Q4</th>\n",
       "      <td>-0.036321</td>\n",
       "      <td>0.159291</td>\n",
       "      <td>0.355778</td>\n",
       "      <td>-0.329985</td>\n",
       "    </tr>\n",
       "    <tr>\n",
       "      <th>2001Q1</th>\n",
       "      <td>-0.036321</td>\n",
       "      <td>0.159291</td>\n",
       "      <td>0.355778</td>\n",
       "      <td>-0.329985</td>\n",
       "    </tr>\n",
       "    <tr>\n",
       "      <th>2001Q2</th>\n",
       "      <td>-0.036321</td>\n",
       "      <td>0.159291</td>\n",
       "      <td>0.355778</td>\n",
       "      <td>-0.329985</td>\n",
       "    </tr>\n",
       "    <tr>\n",
       "      <th>2001Q3</th>\n",
       "      <td>-0.036321</td>\n",
       "      <td>0.159291</td>\n",
       "      <td>0.355778</td>\n",
       "      <td>-0.329985</td>\n",
       "    </tr>\n",
       "    <tr>\n",
       "      <th>2001Q4</th>\n",
       "      <td>-0.030628</td>\n",
       "      <td>-0.094573</td>\n",
       "      <td>0.693025</td>\n",
       "      <td>0.160532</td>\n",
       "    </tr>\n",
       "    <tr>\n",
       "      <th>2002Q1</th>\n",
       "      <td>-0.030628</td>\n",
       "      <td>-0.094573</td>\n",
       "      <td>0.693025</td>\n",
       "      <td>0.160532</td>\n",
       "    </tr>\n",
       "    <tr>\n",
       "      <th>2002Q2</th>\n",
       "      <td>-0.030628</td>\n",
       "      <td>-0.094573</td>\n",
       "      <td>0.693025</td>\n",
       "      <td>0.160532</td>\n",
       "    </tr>\n",
       "    <tr>\n",
       "      <th>2002Q3</th>\n",
       "      <td>-0.030628</td>\n",
       "      <td>-0.094573</td>\n",
       "      <td>0.693025</td>\n",
       "      <td>0.160532</td>\n",
       "    </tr>\n",
       "  </tbody>\n",
       "</table>\n",
       "</div>"
      ],
      "text/plain": [
       "        Colorado     Texas  New York      Ohio\n",
       "2000Q4 -0.036321  0.159291  0.355778 -0.329985\n",
       "2001Q1 -0.036321  0.159291  0.355778 -0.329985\n",
       "2001Q2 -0.036321  0.159291  0.355778 -0.329985\n",
       "2001Q3 -0.036321  0.159291  0.355778 -0.329985\n",
       "2001Q4 -0.030628 -0.094573  0.693025  0.160532\n",
       "2002Q1 -0.030628 -0.094573  0.693025  0.160532\n",
       "2002Q2 -0.030628 -0.094573  0.693025  0.160532\n",
       "2002Q3 -0.030628 -0.094573  0.693025  0.160532"
      ]
     },
     "execution_count": 30,
     "metadata": {},
     "output_type": "execute_result"
    }
   ],
   "source": [
    "annual_frame.resample('Q-MAR').ffill()"
   ]
  }
 ],
 "metadata": {
  "kernelspec": {
   "display_name": "Python 3",
   "language": "python",
   "name": "python3"
  },
  "toc": {
   "base_numbering": 1,
   "nav_menu": {},
   "number_sections": true,
   "sideBar": true,
   "skip_h1_title": false,
   "title_cell": "Table of Contents",
   "title_sidebar": "Contents",
   "toc_cell": true,
   "toc_position": {},
   "toc_section_display": true,
   "toc_window_display": false
  },
  "varInspector": {
   "cols": {
    "lenName": 16,
    "lenType": 16,
    "lenVar": 40
   },
   "kernels_config": {
    "python": {
     "delete_cmd_postfix": "",
     "delete_cmd_prefix": "del ",
     "library": "var_list.py",
     "varRefreshCmd": "print(var_dic_list())"
    },
    "r": {
     "delete_cmd_postfix": ") ",
     "delete_cmd_prefix": "rm(",
     "library": "var_list.r",
     "varRefreshCmd": "cat(var_dic_list()) "
    }
   },
   "types_to_exclude": [
    "module",
    "function",
    "builtin_function_or_method",
    "instance",
    "_Feature"
   ],
   "window_display": true
  }
 },
 "nbformat": 4,
 "nbformat_minor": 2
}
