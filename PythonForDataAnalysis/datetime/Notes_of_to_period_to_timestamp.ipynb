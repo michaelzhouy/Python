{
 "cells": [
  {
   "cell_type": "markdown",
   "metadata": {
    "toc": true
   },
   "source": [
    "<h1>Table of Contents<span class=\"tocSkip\"></span></h1>\n",
    "<div class=\"toc\"><ul class=\"toc-item\"><li><span><a href=\"#to_period()将时间戳转换为时间区间\" data-toc-modified-id=\"to_period()将时间戳转换为时间区间-1\"><span class=\"toc-item-num\">1&nbsp;&nbsp;</span>to_period()将时间戳转换为时间区间</a></span></li><li><span><a href=\"#to_timestamp()将区间转换为时间戳\" data-toc-modified-id=\"to_timestamp()将区间转换为时间戳-2\"><span class=\"toc-item-num\">2&nbsp;&nbsp;</span>to_timestamp()将区间转换为时间戳</a></span></li></ul></div>"
   ]
  },
  {
   "cell_type": "code",
   "execution_count": 1,
   "metadata": {
    "ExecuteTime": {
     "end_time": "2019-04-20T13:53:17.287233Z",
     "start_time": "2019-04-20T13:53:16.613745Z"
    }
   },
   "outputs": [],
   "source": [
    "import numpy as np\n",
    "import pandas as pd\n",
    "from pandas import Series, DataFrame"
   ]
  },
  {
   "cell_type": "code",
   "execution_count": 2,
   "metadata": {
    "ExecuteTime": {
     "end_time": "2019-04-20T13:53:17.300243Z",
     "start_time": "2019-04-20T13:53:17.290235Z"
    }
   },
   "outputs": [],
   "source": [
    "rng = pd.date_range('2000-01-01', # 起始日期\n",
    "                    periods=3, # 时间点的个数\n",
    "                    freq='M') # 频率，每月的月度"
   ]
  },
  {
   "cell_type": "code",
   "execution_count": 3,
   "metadata": {
    "ExecuteTime": {
     "end_time": "2019-04-20T13:53:17.338269Z",
     "start_time": "2019-04-20T13:53:17.303744Z"
    }
   },
   "outputs": [
    {
     "data": {
      "text/plain": [
       "DatetimeIndex(['2000-01-31', '2000-02-29', '2000-03-31'], dtype='datetime64[ns]', freq='M')"
      ]
     },
     "execution_count": 3,
     "metadata": {},
     "output_type": "execute_result"
    }
   ],
   "source": [
    "rng"
   ]
  },
  {
   "cell_type": "code",
   "execution_count": 4,
   "metadata": {
    "ExecuteTime": {
     "end_time": "2019-04-20T13:53:17.359283Z",
     "start_time": "2019-04-20T13:53:17.349778Z"
    }
   },
   "outputs": [],
   "source": [
    "ts = Series(np.random.randn(3), \n",
    "            index=rng)"
   ]
  },
  {
   "cell_type": "code",
   "execution_count": 5,
   "metadata": {
    "ExecuteTime": {
     "end_time": "2019-04-20T13:53:17.383301Z",
     "start_time": "2019-04-20T13:53:17.365289Z"
    }
   },
   "outputs": [
    {
     "data": {
      "text/plain": [
       "2000-01-31   -1.026107\n",
       "2000-02-29    0.448172\n",
       "2000-03-31    0.393574\n",
       "Freq: M, dtype: float64"
      ]
     },
     "execution_count": 5,
     "metadata": {},
     "output_type": "execute_result"
    }
   ],
   "source": [
    "ts"
   ]
  },
  {
   "cell_type": "markdown",
   "metadata": {},
   "source": [
    "# to_period()将时间戳转换为时间区间"
   ]
  },
  {
   "cell_type": "code",
   "execution_count": 6,
   "metadata": {
    "ExecuteTime": {
     "end_time": "2019-04-20T13:53:17.402314Z",
     "start_time": "2019-04-20T13:53:17.386803Z"
    }
   },
   "outputs": [],
   "source": [
    "pts = ts.to_period() # 将时间戳转换为时间区间，这里转换为月"
   ]
  },
  {
   "cell_type": "code",
   "execution_count": 7,
   "metadata": {
    "ExecuteTime": {
     "end_time": "2019-04-20T13:53:17.431835Z",
     "start_time": "2019-04-20T13:53:17.405816Z"
    }
   },
   "outputs": [
    {
     "data": {
      "text/plain": [
       "2000-01   -1.026107\n",
       "2000-02    0.448172\n",
       "2000-03    0.393574\n",
       "Freq: M, dtype: float64"
      ]
     },
     "execution_count": 7,
     "metadata": {},
     "output_type": "execute_result"
    }
   ],
   "source": [
    "pts"
   ]
  },
  {
   "cell_type": "code",
   "execution_count": 8,
   "metadata": {
    "ExecuteTime": {
     "end_time": "2019-04-20T13:53:17.451349Z",
     "start_time": "2019-04-20T13:53:17.434837Z"
    }
   },
   "outputs": [],
   "source": [
    "rng = pd.date_range('1/29/2000', # 起始日期\n",
    "                    periods=6, # 时间点的个数\n",
    "                    freq='D') # 每天"
   ]
  },
  {
   "cell_type": "code",
   "execution_count": 9,
   "metadata": {
    "ExecuteTime": {
     "end_time": "2019-04-20T13:53:17.471363Z",
     "start_time": "2019-04-20T13:53:17.453851Z"
    }
   },
   "outputs": [
    {
     "data": {
      "text/plain": [
       "DatetimeIndex(['2000-01-29', '2000-01-30', '2000-01-31', '2000-02-01',\n",
       "               '2000-02-02', '2000-02-03'],\n",
       "              dtype='datetime64[ns]', freq='D')"
      ]
     },
     "execution_count": 9,
     "metadata": {},
     "output_type": "execute_result"
    }
   ],
   "source": [
    "rng"
   ]
  },
  {
   "cell_type": "code",
   "execution_count": 10,
   "metadata": {
    "ExecuteTime": {
     "end_time": "2019-04-20T13:53:17.492377Z",
     "start_time": "2019-04-20T13:53:17.480369Z"
    }
   },
   "outputs": [],
   "source": [
    "ts2 = Series(np.random.randn(6), \n",
    "             index=rng)"
   ]
  },
  {
   "cell_type": "code",
   "execution_count": 11,
   "metadata": {
    "ExecuteTime": {
     "end_time": "2019-04-20T13:53:17.523400Z",
     "start_time": "2019-04-20T13:53:17.496382Z"
    }
   },
   "outputs": [
    {
     "data": {
      "text/plain": [
       "2000-01-29   -0.210968\n",
       "2000-01-30   -0.178663\n",
       "2000-01-31    0.335111\n",
       "2000-02-01    1.211347\n",
       "2000-02-02   -0.120728\n",
       "2000-02-03    0.964437\n",
       "Freq: D, dtype: float64"
      ]
     },
     "execution_count": 11,
     "metadata": {},
     "output_type": "execute_result"
    }
   ],
   "source": [
    "ts2"
   ]
  },
  {
   "cell_type": "code",
   "execution_count": 12,
   "metadata": {
    "ExecuteTime": {
     "end_time": "2019-04-20T13:53:17.560427Z",
     "start_time": "2019-04-20T13:53:17.531906Z"
    }
   },
   "outputs": [
    {
     "data": {
      "text/plain": [
       "2000-01   -0.210968\n",
       "2000-01   -0.178663\n",
       "2000-01    0.335111\n",
       "2000-02    1.211347\n",
       "2000-02   -0.120728\n",
       "2000-02    0.964437\n",
       "Freq: M, dtype: float64"
      ]
     },
     "execution_count": 12,
     "metadata": {},
     "output_type": "execute_result"
    }
   ],
   "source": [
    "ts2.to_period('M') # 将时间戳转换为区间"
   ]
  },
  {
   "cell_type": "markdown",
   "metadata": {},
   "source": [
    "# to_timestamp()将区间转换为时间戳"
   ]
  },
  {
   "cell_type": "code",
   "execution_count": 13,
   "metadata": {
    "ExecuteTime": {
     "end_time": "2019-04-20T13:53:17.580440Z",
     "start_time": "2019-04-20T13:53:17.567430Z"
    }
   },
   "outputs": [],
   "source": [
    "# 将时间戳转换为时间区间\n",
    "# 默认参数为'D'\n",
    "pts = ts2.to_period()"
   ]
  },
  {
   "cell_type": "code",
   "execution_count": 14,
   "metadata": {
    "ExecuteTime": {
     "end_time": "2019-04-20T13:53:17.604459Z",
     "start_time": "2019-04-20T13:53:17.582941Z"
    }
   },
   "outputs": [
    {
     "data": {
      "text/plain": [
       "2000-01-29   -0.210968\n",
       "2000-01-30   -0.178663\n",
       "2000-01-31    0.335111\n",
       "2000-02-01    1.211347\n",
       "2000-02-02   -0.120728\n",
       "2000-02-03    0.964437\n",
       "Freq: D, dtype: float64"
      ]
     },
     "execution_count": 14,
     "metadata": {},
     "output_type": "execute_result"
    }
   ],
   "source": [
    "pts"
   ]
  },
  {
   "cell_type": "code",
   "execution_count": 15,
   "metadata": {
    "ExecuteTime": {
     "end_time": "2019-04-20T13:53:17.631476Z",
     "start_time": "2019-04-20T13:53:17.608961Z"
    }
   },
   "outputs": [
    {
     "data": {
      "text/plain": [
       "2000-01-29   -0.210968\n",
       "2000-01-30   -0.178663\n",
       "2000-01-31    0.335111\n",
       "2000-02-01    1.211347\n",
       "2000-02-02   -0.120728\n",
       "2000-02-03    0.964437\n",
       "Freq: D, dtype: float64"
      ]
     },
     "execution_count": 15,
     "metadata": {},
     "output_type": "execute_result"
    }
   ],
   "source": [
    "ts2.to_period('D')"
   ]
  },
  {
   "cell_type": "code",
   "execution_count": 16,
   "metadata": {
    "ExecuteTime": {
     "end_time": "2019-04-20T13:53:17.658997Z",
     "start_time": "2019-04-20T13:53:17.633978Z"
    }
   },
   "outputs": [
    {
     "data": {
      "text/plain": [
       "2000-01-29   -0.210968\n",
       "2000-01-30   -0.178663\n",
       "2000-01-31    0.335111\n",
       "2000-02-01    1.211347\n",
       "2000-02-02   -0.120728\n",
       "2000-02-03    0.964437\n",
       "Freq: D, dtype: float64"
      ]
     },
     "execution_count": 16,
     "metadata": {},
     "output_type": "execute_result"
    }
   ],
   "source": [
    "# 将时间区间转换为时间戳\n",
    "pts.to_timestamp(how='end')"
   ]
  }
 ],
 "metadata": {
  "kernelspec": {
   "display_name": "Python 3",
   "language": "python",
   "name": "python3"
  },
  "language_info": {
   "codemirror_mode": {
    "name": "ipython",
    "version": 3
   },
   "file_extension": ".py",
   "mimetype": "text/x-python",
   "name": "python",
   "nbconvert_exporter": "python",
   "pygments_lexer": "ipython3",
   "version": "3.7.1"
  },
  "toc": {
   "base_numbering": 1,
   "nav_menu": {},
   "number_sections": true,
   "sideBar": true,
   "skip_h1_title": false,
   "title_cell": "Table of Contents",
   "title_sidebar": "Contents",
   "toc_cell": true,
   "toc_position": {},
   "toc_section_display": true,
   "toc_window_display": false
  },
  "varInspector": {
   "cols": {
    "lenName": 16,
    "lenType": 16,
    "lenVar": 40
   },
   "kernels_config": {
    "python": {
     "delete_cmd_postfix": "",
     "delete_cmd_prefix": "del ",
     "library": "var_list.py",
     "varRefreshCmd": "print(var_dic_list())"
    },
    "r": {
     "delete_cmd_postfix": ") ",
     "delete_cmd_prefix": "rm(",
     "library": "var_list.r",
     "varRefreshCmd": "cat(var_dic_list()) "
    }
   },
   "oldHeight": 122.66666599999999,
   "position": {
    "height": "40px",
    "left": "582px",
    "right": "20px",
    "top": "120px",
    "width": "250px"
   },
   "types_to_exclude": [
    "module",
    "function",
    "builtin_function_or_method",
    "instance",
    "_Feature"
   ],
   "varInspector_section_display": "none",
   "window_display": true
  }
 },
 "nbformat": 4,
 "nbformat_minor": 2
}
