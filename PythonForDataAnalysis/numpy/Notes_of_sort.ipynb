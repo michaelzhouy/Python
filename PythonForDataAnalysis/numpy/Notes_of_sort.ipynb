{
 "cells": [
  {
   "cell_type": "markdown",
   "metadata": {
    "toc": true
   },
   "source": [
    "<h1>Table of Contents<span class=\"tocSkip\"></span></h1>\n",
    "<div class=\"toc\"><ul class=\"toc-item\"></ul></div>"
   ]
  },
  {
   "cell_type": "code",
   "execution_count": 1,
   "metadata": {
    "ExecuteTime": {
     "end_time": "2019-04-11T02:45:49.667611Z",
     "start_time": "2019-04-11T02:45:49.663608Z"
    }
   },
   "outputs": [],
   "source": [
    "import numpy as np"
   ]
  },
  {
   "cell_type": "code",
   "execution_count": 2,
   "metadata": {
    "ExecuteTime": {
     "end_time": "2019-04-11T02:45:49.687624Z",
     "start_time": "2019-04-11T02:45:49.671613Z"
    }
   },
   "outputs": [],
   "source": [
    "arr = np.random.randn(6)"
   ]
  },
  {
   "cell_type": "code",
   "execution_count": 3,
   "metadata": {
    "ExecuteTime": {
     "end_time": "2019-04-11T02:45:49.710641Z",
     "start_time": "2019-04-11T02:45:49.691630Z"
    }
   },
   "outputs": [
    {
     "data": {
      "text/plain": [
       "array([ 2.11102096, -0.18679917,  0.88515614,  0.57340061, -0.49522975,\n",
       "       -1.09783509])"
      ]
     },
     "execution_count": 3,
     "metadata": {},
     "output_type": "execute_result"
    }
   ],
   "source": [
    "arr"
   ]
  },
  {
   "cell_type": "code",
   "execution_count": 4,
   "metadata": {
    "ExecuteTime": {
     "end_time": "2019-04-11T02:45:49.726653Z",
     "start_time": "2019-04-11T02:45:49.715646Z"
    }
   },
   "outputs": [],
   "source": [
    "arr.sort()"
   ]
  },
  {
   "cell_type": "code",
   "execution_count": 5,
   "metadata": {
    "ExecuteTime": {
     "end_time": "2019-04-11T02:45:49.741663Z",
     "start_time": "2019-04-11T02:45:49.728654Z"
    }
   },
   "outputs": [
    {
     "data": {
      "text/plain": [
       "array([-1.09783509, -0.49522975, -0.18679917,  0.57340061,  0.88515614,\n",
       "        2.11102096])"
      ]
     },
     "execution_count": 5,
     "metadata": {},
     "output_type": "execute_result"
    }
   ],
   "source": [
    "arr"
   ]
  },
  {
   "cell_type": "code",
   "execution_count": 6,
   "metadata": {
    "ExecuteTime": {
     "end_time": "2019-04-11T02:45:49.754671Z",
     "start_time": "2019-04-11T02:45:49.744665Z"
    }
   },
   "outputs": [],
   "source": [
    "arr = np.random.randn(5, 3)"
   ]
  },
  {
   "cell_type": "code",
   "execution_count": 7,
   "metadata": {
    "ExecuteTime": {
     "end_time": "2019-04-11T02:45:49.771685Z",
     "start_time": "2019-04-11T02:45:49.756675Z"
    }
   },
   "outputs": [
    {
     "data": {
      "text/plain": [
       "array([[-0.68972823, -1.75765465, -0.94915994],\n",
       "       [ 1.29834401, -0.17277106,  0.95407737],\n",
       "       [-0.39318116, -1.63896031,  1.80745944],\n",
       "       [ 0.11670445, -0.07358937, -0.84398532],\n",
       "       [-0.3666959 , -0.05400101, -0.85568735]])"
      ]
     },
     "execution_count": 7,
     "metadata": {},
     "output_type": "execute_result"
    }
   ],
   "source": [
    "arr"
   ]
  },
  {
   "cell_type": "code",
   "execution_count": 8,
   "metadata": {
    "ExecuteTime": {
     "end_time": "2019-04-11T02:45:49.788696Z",
     "start_time": "2019-04-11T02:45:49.774688Z"
    }
   },
   "outputs": [],
   "source": [
    "arr.sort(1) # 对每一行的数据进行排序"
   ]
  },
  {
   "cell_type": "code",
   "execution_count": 9,
   "metadata": {
    "ExecuteTime": {
     "end_time": "2019-04-11T02:45:49.827724Z",
     "start_time": "2019-04-11T02:45:49.796703Z"
    }
   },
   "outputs": [
    {
     "data": {
      "text/plain": [
       "array([[-1.75765465, -0.94915994, -0.68972823],\n",
       "       [-0.17277106,  0.95407737,  1.29834401],\n",
       "       [-1.63896031, -0.39318116,  1.80745944],\n",
       "       [-0.84398532, -0.07358937,  0.11670445],\n",
       "       [-0.85568735, -0.3666959 , -0.05400101]])"
      ]
     },
     "execution_count": 9,
     "metadata": {},
     "output_type": "execute_result"
    }
   ],
   "source": [
    "arr"
   ]
  },
  {
   "cell_type": "code",
   "execution_count": 10,
   "metadata": {
    "ExecuteTime": {
     "end_time": "2019-04-11T02:45:49.853743Z",
     "start_time": "2019-04-11T02:45:49.831729Z"
    }
   },
   "outputs": [
    {
     "data": {
      "text/plain": [
       "array([[ 1.55342247,  0.76803027,  0.33208738],\n",
       "       [ 0.53776912, -0.5619963 ,  0.46157135],\n",
       "       [-1.05170582,  1.4990647 , -0.77099922],\n",
       "       [ 0.10993628, -1.42694953, -0.13424298],\n",
       "       [ 0.85384956, -0.24151062,  1.01492928]])"
      ]
     },
     "execution_count": 10,
     "metadata": {},
     "output_type": "execute_result"
    }
   ],
   "source": [
    "arr = np.random.randn(5, 3)\n",
    "arr"
   ]
  },
  {
   "cell_type": "code",
   "execution_count": 11,
   "metadata": {
    "ExecuteTime": {
     "end_time": "2019-04-11T02:45:49.871755Z",
     "start_time": "2019-04-11T02:45:49.857745Z"
    }
   },
   "outputs": [],
   "source": [
    "arr.sort(0) # 对每一列的数据进行排序"
   ]
  },
  {
   "cell_type": "code",
   "execution_count": 12,
   "metadata": {
    "ExecuteTime": {
     "end_time": "2019-04-11T02:45:49.890770Z",
     "start_time": "2019-04-11T02:45:49.875757Z"
    }
   },
   "outputs": [
    {
     "data": {
      "text/plain": [
       "array([[-1.05170582, -1.42694953, -0.77099922],\n",
       "       [ 0.10993628, -0.5619963 , -0.13424298],\n",
       "       [ 0.53776912, -0.24151062,  0.33208738],\n",
       "       [ 0.85384956,  0.76803027,  0.46157135],\n",
       "       [ 1.55342247,  1.4990647 ,  1.01492928]])"
      ]
     },
     "execution_count": 12,
     "metadata": {},
     "output_type": "execute_result"
    }
   ],
   "source": [
    "arr"
   ]
  },
  {
   "cell_type": "code",
   "execution_count": 13,
   "metadata": {
    "ExecuteTime": {
     "end_time": "2019-04-11T02:45:49.906785Z",
     "start_time": "2019-04-11T02:45:49.893770Z"
    }
   },
   "outputs": [],
   "source": [
    "large_arr = np.random.randn(1000)"
   ]
  },
  {
   "cell_type": "code",
   "execution_count": 14,
   "metadata": {
    "ExecuteTime": {
     "end_time": "2019-04-11T02:45:49.923792Z",
     "start_time": "2019-04-11T02:45:49.911783Z"
    }
   },
   "outputs": [],
   "source": [
    "large_arr.sort()"
   ]
  },
  {
   "cell_type": "code",
   "execution_count": 15,
   "metadata": {
    "ExecuteTime": {
     "end_time": "2019-04-11T02:45:49.941806Z",
     "start_time": "2019-04-11T02:45:49.925793Z"
    }
   },
   "outputs": [
    {
     "data": {
      "text/plain": [
       "-1.585390367389528"
      ]
     },
     "execution_count": 15,
     "metadata": {},
     "output_type": "execute_result"
    }
   ],
   "source": [
    "large_arr[int(0.05 * len(large_arr))] # 5% 分位数"
   ]
  }
 ],
 "metadata": {
  "kernelspec": {
   "display_name": "Python 3",
   "language": "python",
   "name": "python3"
  },
  "language_info": {
   "codemirror_mode": {
    "name": "ipython",
    "version": 3
   },
   "file_extension": ".py",
   "mimetype": "text/x-python",
   "name": "python",
   "nbconvert_exporter": "python",
   "pygments_lexer": "ipython3",
   "version": "3.7.1"
  },
  "toc": {
   "base_numbering": 1,
   "nav_menu": {},
   "number_sections": true,
   "sideBar": true,
   "skip_h1_title": false,
   "title_cell": "Table of Contents",
   "title_sidebar": "Contents",
   "toc_cell": true,
   "toc_position": {},
   "toc_section_display": true,
   "toc_window_display": false
  },
  "varInspector": {
   "cols": {
    "lenName": 16,
    "lenType": 16,
    "lenVar": 40
   },
   "kernels_config": {
    "python": {
     "delete_cmd_postfix": "",
     "delete_cmd_prefix": "del ",
     "library": "var_list.py",
     "varRefreshCmd": "print(var_dic_list())"
    },
    "r": {
     "delete_cmd_postfix": ") ",
     "delete_cmd_prefix": "rm(",
     "library": "var_list.r",
     "varRefreshCmd": "cat(var_dic_list()) "
    }
   },
   "types_to_exclude": [
    "module",
    "function",
    "builtin_function_or_method",
    "instance",
    "_Feature"
   ],
   "window_display": true
  }
 },
 "nbformat": 4,
 "nbformat_minor": 2
}
