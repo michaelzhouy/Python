{
 "cells": [
  {
   "cell_type": "code",
   "execution_count": 1,
   "metadata": {
    "ExecuteTime": {
     "end_time": "2019-10-22T08:34:35.907835Z",
     "start_time": "2019-10-22T08:34:35.902848Z"
    }
   },
   "outputs": [],
   "source": [
    "from collections import namedtuple"
   ]
  },
  {
   "cell_type": "code",
   "execution_count": 2,
   "metadata": {
    "ExecuteTime": {
     "end_time": "2019-10-22T08:34:35.926828Z",
     "start_time": "2019-10-22T08:34:35.909865Z"
    }
   },
   "outputs": [
    {
     "data": {
      "text/plain": [
       "Subscriber(addr='jonesy@example.com', joined='2012-10-19')"
      ]
     },
     "execution_count": 2,
     "metadata": {},
     "output_type": "execute_result"
    }
   ],
   "source": [
    "Subscriber = namedtuple('Subscriber', ['addr', 'joined'])\n",
    "sub = Subscriber('jonesy@example.com', '2012-10-19')\n",
    "sub"
   ]
  },
  {
   "cell_type": "code",
   "execution_count": 3,
   "metadata": {
    "ExecuteTime": {
     "end_time": "2019-10-22T08:34:35.932768Z",
     "start_time": "2019-10-22T08:34:35.928778Z"
    }
   },
   "outputs": [
    {
     "data": {
      "text/plain": [
       "'jonesy@example.com'"
      ]
     },
     "execution_count": 3,
     "metadata": {},
     "output_type": "execute_result"
    }
   ],
   "source": [
    "sub.addr"
   ]
  },
  {
   "cell_type": "code",
   "execution_count": 4,
   "metadata": {
    "ExecuteTime": {
     "end_time": "2019-10-22T08:34:35.939749Z",
     "start_time": "2019-10-22T08:34:35.933765Z"
    }
   },
   "outputs": [
    {
     "data": {
      "text/plain": [
       "'2012-10-19'"
      ]
     },
     "execution_count": 4,
     "metadata": {},
     "output_type": "execute_result"
    }
   ],
   "source": [
    "sub.joined"
   ]
  },
  {
   "cell_type": "code",
   "execution_count": 5,
   "metadata": {
    "ExecuteTime": {
     "end_time": "2019-10-22T08:34:35.948725Z",
     "start_time": "2019-10-22T08:34:35.940745Z"
    }
   },
   "outputs": [
    {
     "data": {
      "text/plain": [
       "2"
      ]
     },
     "execution_count": 5,
     "metadata": {},
     "output_type": "execute_result"
    }
   ],
   "source": [
    "len(sub)"
   ]
  },
  {
   "cell_type": "code",
   "execution_count": 6,
   "metadata": {
    "ExecuteTime": {
     "end_time": "2019-10-22T08:34:35.956706Z",
     "start_time": "2019-10-22T08:34:35.949723Z"
    }
   },
   "outputs": [
    {
     "name": "stdout",
     "output_type": "stream",
     "text": [
      "jonesy@example.com\n",
      "2012-10-19\n"
     ]
    }
   ],
   "source": [
    "addr, joined = sub # 解包\n",
    "print(addr)\n",
    "print(joined)"
   ]
  },
  {
   "cell_type": "code",
   "execution_count": 7,
   "metadata": {
    "ExecuteTime": {
     "end_time": "2019-10-22T08:34:35.963686Z",
     "start_time": "2019-10-22T08:34:35.958698Z"
    }
   },
   "outputs": [
    {
     "data": {
      "text/plain": [
       "'jonesy@example.com'"
      ]
     },
     "execution_count": 7,
     "metadata": {},
     "output_type": "execute_result"
    }
   ],
   "source": [
    "addr"
   ]
  },
  {
   "cell_type": "code",
   "execution_count": 8,
   "metadata": {
    "ExecuteTime": {
     "end_time": "2019-10-22T08:34:35.970668Z",
     "start_time": "2019-10-22T08:34:35.965679Z"
    }
   },
   "outputs": [
    {
     "data": {
      "text/plain": [
       "'2012-10-19'"
      ]
     },
     "execution_count": 8,
     "metadata": {},
     "output_type": "execute_result"
    }
   ],
   "source": [
    "joined"
   ]
  },
  {
   "cell_type": "code",
   "execution_count": 9,
   "metadata": {
    "ExecuteTime": {
     "end_time": "2019-10-22T08:34:35.975654Z",
     "start_time": "2019-10-22T08:34:35.971665Z"
    }
   },
   "outputs": [],
   "source": [
    "# 使用普通元组\n",
    "def compute_cost(records):\n",
    "    total = 0.0\n",
    "    for rec in records:\n",
    "        total += rec[1] * rec[2]\n",
    "    return total"
   ]
  },
  {
   "cell_type": "code",
   "execution_count": 10,
   "metadata": {
    "ExecuteTime": {
     "end_time": "2019-10-22T08:34:35.981637Z",
     "start_time": "2019-10-22T08:34:35.976650Z"
    }
   },
   "outputs": [],
   "source": [
    "Stock = namedtuple('Stock', ['name', 'shares', 'price'])"
   ]
  },
  {
   "cell_type": "code",
   "execution_count": 11,
   "metadata": {
    "ExecuteTime": {
     "end_time": "2019-10-22T08:34:35.988618Z",
     "start_time": "2019-10-22T08:34:35.982635Z"
    }
   },
   "outputs": [
    {
     "data": {
      "text/plain": [
       "__main__.Stock"
      ]
     },
     "execution_count": 11,
     "metadata": {},
     "output_type": "execute_result"
    }
   ],
   "source": [
    "Stock"
   ]
  },
  {
   "cell_type": "code",
   "execution_count": 12,
   "metadata": {
    "ExecuteTime": {
     "end_time": "2019-10-22T08:34:35.994602Z",
     "start_time": "2019-10-22T08:34:35.989615Z"
    }
   },
   "outputs": [],
   "source": [
    "def compute_cost(records):\n",
    "    total = 0.0\n",
    "    for rec in records:\n",
    "        s = Stock(*rec) # 解包\n",
    "        total += s.shares * s.price\n",
    "    return total"
   ]
  },
  {
   "cell_type": "code",
   "execution_count": 13,
   "metadata": {
    "ExecuteTime": {
     "end_time": "2019-10-22T08:34:36.001583Z",
     "start_time": "2019-10-22T08:34:35.996597Z"
    }
   },
   "outputs": [
    {
     "data": {
      "text/plain": [
       "Stock(name='ACME', shares=100, price=123.45)"
      ]
     },
     "execution_count": 13,
     "metadata": {},
     "output_type": "execute_result"
    }
   ],
   "source": [
    "s = Stock('ACME', 100, 123.45)\n",
    "s"
   ]
  },
  {
   "cell_type": "code",
   "execution_count": 14,
   "metadata": {
    "ExecuteTime": {
     "end_time": "2019-10-22T08:34:36.051450Z",
     "start_time": "2019-10-22T08:34:36.003578Z"
    }
   },
   "outputs": [
    {
     "ename": "AttributeError",
     "evalue": "can't set attribute",
     "output_type": "error",
     "traceback": [
      "\u001b[1;31m---------------------------------------------------------------------------\u001b[0m",
      "\u001b[1;31mAttributeError\u001b[0m                            Traceback (most recent call last)",
      "\u001b[1;32m<ipython-input-14-92c1346af570>\u001b[0m in \u001b[0;36m<module>\u001b[1;34m\u001b[0m\n\u001b[1;32m----> 1\u001b[1;33m \u001b[0ms\u001b[0m\u001b[1;33m.\u001b[0m\u001b[0mshares\u001b[0m \u001b[1;33m=\u001b[0m \u001b[1;36m75\u001b[0m\u001b[1;33m\u001b[0m\u001b[1;33m\u001b[0m\u001b[0m\n\u001b[0m",
      "\u001b[1;31mAttributeError\u001b[0m: can't set attribute"
     ]
    }
   ],
   "source": [
    "s.shares = 75"
   ]
  },
  {
   "cell_type": "code",
   "execution_count": 15,
   "metadata": {
    "ExecuteTime": {
     "end_time": "2019-10-22T08:34:46.461487Z",
     "start_time": "2019-10-22T08:34:46.455511Z"
    }
   },
   "outputs": [
    {
     "data": {
      "text/plain": [
       "Stock(name='ACME', shares=75, price=123.45)"
      ]
     },
     "execution_count": 15,
     "metadata": {},
     "output_type": "execute_result"
    }
   ],
   "source": [
    "s = s._replace(shares=75)\n",
    "s"
   ]
  },
  {
   "cell_type": "code",
   "execution_count": 16,
   "metadata": {
    "ExecuteTime": {
     "end_time": "2019-10-22T08:34:46.474595Z",
     "start_time": "2019-10-22T08:34:46.463594Z"
    }
   },
   "outputs": [],
   "source": [
    "Stock = namedtuple('Stock', ['name', 'shares', 'price', 'date', 'time'])"
   ]
  },
  {
   "cell_type": "code",
   "execution_count": 17,
   "metadata": {
    "ExecuteTime": {
     "end_time": "2019-10-22T08:34:46.480563Z",
     "start_time": "2019-10-22T08:34:46.476558Z"
    }
   },
   "outputs": [],
   "source": [
    "# 创建一个原型实例\n",
    "stock_prototype = Stock('', 0, 0.0, None, None)"
   ]
  },
  {
   "cell_type": "code",
   "execution_count": 18,
   "metadata": {
    "ExecuteTime": {
     "end_time": "2019-10-22T08:34:46.487530Z",
     "start_time": "2019-10-22T08:34:46.482543Z"
    }
   },
   "outputs": [],
   "source": [
    "def dict_to_stock(s):\n",
    "    return stock_prototype._replace(**s)"
   ]
  },
  {
   "cell_type": "code",
   "execution_count": 19,
   "metadata": {
    "ExecuteTime": {
     "end_time": "2019-10-22T08:34:46.494511Z",
     "start_time": "2019-10-22T08:34:46.488527Z"
    }
   },
   "outputs": [
    {
     "data": {
      "text/plain": [
       "{'name': 'ACME', 'shares': 100, 'price': 123.45}"
      ]
     },
     "execution_count": 19,
     "metadata": {},
     "output_type": "execute_result"
    }
   ],
   "source": [
    "a = {'name': 'ACME', 'shares': 100, 'price': 123.45}\n",
    "a"
   ]
  },
  {
   "cell_type": "code",
   "execution_count": 20,
   "metadata": {
    "ExecuteTime": {
     "end_time": "2019-10-22T08:34:46.501493Z",
     "start_time": "2019-10-22T08:34:46.496507Z"
    }
   },
   "outputs": [
    {
     "data": {
      "text/plain": [
       "Stock(name='ACME', shares=100, price=123.45, date=None, time=None)"
      ]
     },
     "execution_count": 20,
     "metadata": {},
     "output_type": "execute_result"
    }
   ],
   "source": [
    "dict_to_stock(a)"
   ]
  },
  {
   "cell_type": "code",
   "execution_count": 21,
   "metadata": {
    "ExecuteTime": {
     "end_time": "2019-10-22T08:34:46.507515Z",
     "start_time": "2019-10-22T08:34:46.502489Z"
    }
   },
   "outputs": [
    {
     "data": {
      "text/plain": [
       "Stock(name='ACME', shares=100, price=123.45, date='12/17/2012', time=None)"
      ]
     },
     "execution_count": 21,
     "metadata": {},
     "output_type": "execute_result"
    }
   ],
   "source": [
    "b = {'name': 'ACME', 'shares': 100, 'price': 123.45, 'date': '12/17/2012'}\n",
    "dict_to_stock(b)"
   ]
  }
 ],
 "metadata": {
  "kernelspec": {
   "display_name": "Python 3",
   "language": "python",
   "name": "python3"
  },
  "language_info": {
   "codemirror_mode": {
    "name": "ipython",
    "version": 3
   },
   "file_extension": ".py",
   "mimetype": "text/x-python",
   "name": "python",
   "nbconvert_exporter": "python",
   "pygments_lexer": "ipython3",
   "version": "3.7.3"
  },
  "toc": {
   "base_numbering": 1,
   "nav_menu": {},
   "number_sections": true,
   "sideBar": true,
   "skip_h1_title": false,
   "title_cell": "Table of Contents",
   "title_sidebar": "Contents",
   "toc_cell": false,
   "toc_position": {},
   "toc_section_display": true,
   "toc_window_display": false
  },
  "varInspector": {
   "cols": {
    "lenName": 16,
    "lenType": 16,
    "lenVar": 40
   },
   "kernels_config": {
    "python": {
     "delete_cmd_postfix": "",
     "delete_cmd_prefix": "del ",
     "library": "var_list.py",
     "varRefreshCmd": "print(var_dic_list())"
    },
    "r": {
     "delete_cmd_postfix": ") ",
     "delete_cmd_prefix": "rm(",
     "library": "var_list.r",
     "varRefreshCmd": "cat(var_dic_list()) "
    }
   },
   "types_to_exclude": [
    "module",
    "function",
    "builtin_function_or_method",
    "instance",
    "_Feature"
   ],
   "window_display": false
  }
 },
 "nbformat": 4,
 "nbformat_minor": 2
}
