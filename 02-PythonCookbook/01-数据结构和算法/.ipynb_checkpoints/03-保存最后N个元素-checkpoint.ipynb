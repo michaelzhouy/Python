{
 "cells": [
  {
   "cell_type": "code",
   "execution_count": 1,
   "metadata": {
    "ExecuteTime": {
     "end_time": "2019-09-07T05:51:21.410887Z",
     "start_time": "2019-09-07T05:51:21.405903Z"
    }
   },
   "outputs": [],
   "source": [
    "from collections import deque"
   ]
  },
  {
   "cell_type": "code",
   "execution_count": 2,
   "metadata": {
    "ExecuteTime": {
     "end_time": "2019-09-07T05:51:21.436686Z",
     "start_time": "2019-09-07T05:51:21.413393Z"
    }
   },
   "outputs": [
    {
     "name": "stdout",
     "output_type": "stream",
     "text": [
      "python0001\n",
      "--------------------\n",
      "python0001\n",
      "*****\n",
      "python34\n",
      "--------------------\n",
      "python0001\n",
      "*****\n",
      "python34\n",
      "*****\n",
      "Pythonops\n",
      "*****\n",
      "PYTHONius\n",
      "*****\n",
      "python\n",
      "--------------------\n",
      "python0001\n",
      "*****\n",
      "python34\n",
      "*****\n",
      "Pythonops\n",
      "*****\n",
      "PYTHONius\n",
      "*****\n",
      "python\n",
      "*****\n",
      "python\n",
      "--------------------\n",
      "PYTHONius\n",
      "*****\n",
      "python\n",
      "*****\n",
      "python\n",
      "*****\n",
      "pthon\n",
      "*****\n",
      "1p2ython\n",
      "*****\n",
      "12python\n",
      "--------------------\n",
      "python\n",
      "*****\n",
      "python\n",
      "*****\n",
      "pthon\n",
      "*****\n",
      "1p2ython\n",
      "*****\n",
      "12python\n",
      "*****\n",
      "123python\n",
      "--------------------\n",
      "python\n",
      "*****\n",
      "pthon\n",
      "*****\n",
      "1p2ython\n",
      "*****\n",
      "12python\n",
      "*****\n",
      "123python\n",
      "*****\n",
      "python12345\n",
      "--------------------\n",
      "pthon\n",
      "*****\n",
      "1p2ython\n",
      "*****\n",
      "12python\n",
      "*****\n",
      "123python\n",
      "*****\n",
      "python12345\n",
      "*****\n",
      "8pythonhu--------------------\n"
     ]
    }
   ],
   "source": [
    "def search(lines, pattern, history=5):\n",
    "    previous_lines = deque(maxlen=history)\n",
    "    for line in lines:\n",
    "        if pattern in line:\n",
    "            yield line, previous_lines\n",
    "        previous_lines.append(line)\n",
    "        \n",
    "if __name__ == '__main__':\n",
    "    with open('somefile.txt') as f:\n",
    "        for line, prevlines in search(f, 'python', 5):\n",
    "            for pline in prevlines:\n",
    "                print(pline, end='')\n",
    "                print('*' * 5)\n",
    "            print(line, end='')\n",
    "            print('-' * 20)"
   ]
  },
  {
   "cell_type": "code",
   "execution_count": 3,
   "metadata": {
    "ExecuteTime": {
     "end_time": "2019-09-07T05:51:21.449681Z",
     "start_time": "2019-09-07T05:51:21.438681Z"
    }
   },
   "outputs": [
    {
     "data": {
      "text/plain": [
       "deque([1, 2, 3])"
      ]
     },
     "execution_count": 3,
     "metadata": {},
     "output_type": "execute_result"
    }
   ],
   "source": [
    "q = deque(maxlen=3) # 创建一个长度为3的队列\n",
    "q.append(1)\n",
    "q.append(2)\n",
    "q.append(3)\n",
    "q"
   ]
  },
  {
   "cell_type": "code",
   "execution_count": 4,
   "metadata": {
    "ExecuteTime": {
     "end_time": "2019-09-07T05:51:21.459659Z",
     "start_time": "2019-09-07T05:51:21.450679Z"
    }
   },
   "outputs": [
    {
     "data": {
      "text/plain": [
       "deque([2, 3, 4])"
      ]
     },
     "execution_count": 4,
     "metadata": {},
     "output_type": "execute_result"
    }
   ],
   "source": [
    "q.append(4)\n",
    "q"
   ]
  },
  {
   "cell_type": "code",
   "execution_count": 5,
   "metadata": {
    "ExecuteTime": {
     "end_time": "2019-09-07T05:51:21.468633Z",
     "start_time": "2019-09-07T05:51:21.461619Z"
    }
   },
   "outputs": [
    {
     "data": {
      "text/plain": [
       "deque([3, 4, 5])"
      ]
     },
     "execution_count": 5,
     "metadata": {},
     "output_type": "execute_result"
    }
   ],
   "source": [
    "q.append(5)\n",
    "q"
   ]
  },
  {
   "cell_type": "code",
   "execution_count": 6,
   "metadata": {
    "ExecuteTime": {
     "end_time": "2019-09-07T05:51:21.479572Z",
     "start_time": "2019-09-07T05:51:21.469597Z"
    }
   },
   "outputs": [
    {
     "data": {
      "text/plain": [
       "deque([1, 2, 3])"
      ]
     },
     "execution_count": 6,
     "metadata": {},
     "output_type": "execute_result"
    }
   ],
   "source": [
    "q = deque() # 创建一个无限长度的队列\n",
    "q.append(1)\n",
    "q.append(2)\n",
    "q.append(3)\n",
    "q"
   ]
  },
  {
   "cell_type": "code",
   "execution_count": 7,
   "metadata": {
    "ExecuteTime": {
     "end_time": "2019-09-07T05:51:21.488577Z",
     "start_time": "2019-09-07T05:51:21.480568Z"
    }
   },
   "outputs": [
    {
     "data": {
      "text/plain": [
       "deque([4, 1, 2, 3])"
      ]
     },
     "execution_count": 7,
     "metadata": {},
     "output_type": "execute_result"
    }
   ],
   "source": [
    "q.appendleft(4) # 左边添加一个4\n",
    "q"
   ]
  },
  {
   "cell_type": "code",
   "execution_count": 8,
   "metadata": {
    "ExecuteTime": {
     "end_time": "2019-09-07T05:51:21.501540Z",
     "start_time": "2019-09-07T05:51:21.490541Z"
    }
   },
   "outputs": [
    {
     "data": {
      "text/plain": [
       "3"
      ]
     },
     "execution_count": 8,
     "metadata": {},
     "output_type": "execute_result"
    }
   ],
   "source": [
    "q.pop() # 删除最后一个元素并返回该元素"
   ]
  },
  {
   "cell_type": "code",
   "execution_count": 9,
   "metadata": {
    "ExecuteTime": {
     "end_time": "2019-09-07T05:51:21.510527Z",
     "start_time": "2019-09-07T05:51:21.503509Z"
    }
   },
   "outputs": [
    {
     "data": {
      "text/plain": [
       "deque([4, 1, 2])"
      ]
     },
     "execution_count": 9,
     "metadata": {},
     "output_type": "execute_result"
    }
   ],
   "source": [
    "q"
   ]
  },
  {
   "cell_type": "code",
   "execution_count": 10,
   "metadata": {
    "ExecuteTime": {
     "end_time": "2019-09-07T05:51:21.520490Z",
     "start_time": "2019-09-07T05:51:21.512483Z"
    }
   },
   "outputs": [
    {
     "data": {
      "text/plain": [
       "4"
      ]
     },
     "execution_count": 10,
     "metadata": {},
     "output_type": "execute_result"
    }
   ],
   "source": [
    "q.popleft() # 删除最左边的元素并返回该元素"
   ]
  },
  {
   "cell_type": "code",
   "execution_count": 11,
   "metadata": {
    "ExecuteTime": {
     "end_time": "2019-09-07T05:51:21.529436Z",
     "start_time": "2019-09-07T05:51:21.521458Z"
    }
   },
   "outputs": [
    {
     "data": {
      "text/plain": [
       "deque([1, 2])"
      ]
     },
     "execution_count": 11,
     "metadata": {},
     "output_type": "execute_result"
    }
   ],
   "source": [
    "q"
   ]
  }
 ],
 "metadata": {
  "kernelspec": {
   "display_name": "Python 3",
   "language": "python",
   "name": "python3"
  },
  "language_info": {
   "codemirror_mode": {
    "name": "ipython",
    "version": 3
   },
   "file_extension": ".py",
   "mimetype": "text/x-python",
   "name": "python",
   "nbconvert_exporter": "python",
   "pygments_lexer": "ipython3",
   "version": "3.7.3"
  },
  "toc": {
   "base_numbering": 1,
   "nav_menu": {},
   "number_sections": true,
   "sideBar": true,
   "skip_h1_title": false,
   "title_cell": "Table of Contents",
   "title_sidebar": "Contents",
   "toc_cell": false,
   "toc_position": {},
   "toc_section_display": true,
   "toc_window_display": false
  },
  "varInspector": {
   "cols": {
    "lenName": 16,
    "lenType": 16,
    "lenVar": 40
   },
   "kernels_config": {
    "python": {
     "delete_cmd_postfix": "",
     "delete_cmd_prefix": "del ",
     "library": "var_list.py",
     "varRefreshCmd": "print(var_dic_list())"
    },
    "r": {
     "delete_cmd_postfix": ") ",
     "delete_cmd_prefix": "rm(",
     "library": "var_list.r",
     "varRefreshCmd": "cat(var_dic_list()) "
    }
   },
   "types_to_exclude": [
    "module",
    "function",
    "builtin_function_or_method",
    "instance",
    "_Feature"
   ],
   "window_display": false
  }
 },
 "nbformat": 4,
 "nbformat_minor": 2
}
