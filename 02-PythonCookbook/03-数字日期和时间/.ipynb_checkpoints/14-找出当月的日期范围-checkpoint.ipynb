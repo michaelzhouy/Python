{
 "cells": [
  {
   "cell_type": "code",
   "execution_count": 1,
   "metadata": {
    "ExecuteTime": {
     "end_time": "2019-10-26T07:43:48.844751Z",
     "start_time": "2019-10-26T07:43:48.841728Z"
    }
   },
   "outputs": [],
   "source": [
    "from datetime import datetime, date, timedelta\n",
    "import calendar"
   ]
  },
  {
   "cell_type": "code",
   "execution_count": 2,
   "metadata": {
    "ExecuteTime": {
     "end_time": "2019-10-26T07:43:48.852696Z",
     "start_time": "2019-10-26T07:43:48.846746Z"
    }
   },
   "outputs": [],
   "source": [
    "def get_month_range(start_date=None):\n",
    "    if start_date is None:\n",
    "        # date.today()获取当天的年-月-日期，replace(day=1)：当天所在月份的第一天的日期\n",
    "        start_date = date.today().replace(day=1)\n",
    "    # monthrange()返回的是一个元组，第一个元素是该月的第一天是周几，第二个元素是该月的天数\n",
    "    _, days_in_month = calendar.monthrange(start_date.year, start_date.month)\n",
    "    end_date = start_date + timedelta(days=days_in_month)\n",
    "    return (start_date, end_date)"
   ]
  },
  {
   "cell_type": "code",
   "execution_count": 3,
   "metadata": {
    "ExecuteTime": {
     "end_time": "2019-10-26T07:43:48.865662Z",
     "start_time": "2019-10-26T07:43:48.854692Z"
    }
   },
   "outputs": [
    {
     "data": {
      "text/plain": [
       "datetime.timedelta(days=1)"
      ]
     },
     "execution_count": 3,
     "metadata": {},
     "output_type": "execute_result"
    }
   ],
   "source": [
    "a_day = timedelta(days=1)\n",
    "a_day"
   ]
  },
  {
   "cell_type": "code",
   "execution_count": 4,
   "metadata": {
    "ExecuteTime": {
     "end_time": "2019-10-26T07:43:48.873671Z",
     "start_time": "2019-10-26T07:43:48.866660Z"
    }
   },
   "outputs": [
    {
     "name": "stdout",
     "output_type": "stream",
     "text": [
      "2019-10-01\n",
      "2019-10-02\n",
      "2019-10-03\n",
      "2019-10-04\n",
      "2019-10-05\n",
      "2019-10-06\n",
      "2019-10-07\n",
      "2019-10-08\n",
      "2019-10-09\n",
      "2019-10-10\n",
      "2019-10-11\n",
      "2019-10-12\n",
      "2019-10-13\n",
      "2019-10-14\n",
      "2019-10-15\n",
      "2019-10-16\n",
      "2019-10-17\n",
      "2019-10-18\n",
      "2019-10-19\n",
      "2019-10-20\n",
      "2019-10-21\n",
      "2019-10-22\n",
      "2019-10-23\n",
      "2019-10-24\n",
      "2019-10-25\n",
      "2019-10-26\n",
      "2019-10-27\n",
      "2019-10-28\n",
      "2019-10-29\n",
      "2019-10-30\n",
      "2019-10-31\n"
     ]
    }
   ],
   "source": [
    "first_day, last_day = get_month_range()\n",
    "\n",
    "while first_day < last_day:\n",
    "    print(first_day)\n",
    "    first_day += a_day"
   ]
  },
  {
   "cell_type": "code",
   "execution_count": 5,
   "metadata": {
    "ExecuteTime": {
     "end_time": "2019-10-26T07:43:48.879624Z",
     "start_time": "2019-10-26T07:43:48.875670Z"
    }
   },
   "outputs": [],
   "source": [
    "def date_range(start, stop, step):\n",
    "    while start < stop:\n",
    "        yield start\n",
    "        start += step"
   ]
  },
  {
   "cell_type": "code",
   "execution_count": 6,
   "metadata": {
    "ExecuteTime": {
     "end_time": "2019-10-26T07:43:48.895591Z",
     "start_time": "2019-10-26T07:43:48.880623Z"
    }
   },
   "outputs": [
    {
     "name": "stdout",
     "output_type": "stream",
     "text": [
      "2012-09-01 00:00:00\n",
      "2012-09-01 06:00:00\n",
      "2012-09-01 12:00:00\n",
      "2012-09-01 18:00:00\n",
      "2012-09-02 00:00:00\n",
      "2012-09-02 06:00:00\n",
      "2012-09-02 12:00:00\n",
      "2012-09-02 18:00:00\n",
      "2012-09-03 00:00:00\n",
      "2012-09-03 06:00:00\n",
      "2012-09-03 12:00:00\n",
      "2012-09-03 18:00:00\n",
      "2012-09-04 00:00:00\n",
      "2012-09-04 06:00:00\n",
      "2012-09-04 12:00:00\n",
      "2012-09-04 18:00:00\n",
      "2012-09-05 00:00:00\n",
      "2012-09-05 06:00:00\n",
      "2012-09-05 12:00:00\n",
      "2012-09-05 18:00:00\n",
      "2012-09-06 00:00:00\n",
      "2012-09-06 06:00:00\n",
      "2012-09-06 12:00:00\n",
      "2012-09-06 18:00:00\n",
      "2012-09-07 00:00:00\n",
      "2012-09-07 06:00:00\n",
      "2012-09-07 12:00:00\n",
      "2012-09-07 18:00:00\n",
      "2012-09-08 00:00:00\n",
      "2012-09-08 06:00:00\n",
      "2012-09-08 12:00:00\n",
      "2012-09-08 18:00:00\n",
      "2012-09-09 00:00:00\n",
      "2012-09-09 06:00:00\n",
      "2012-09-09 12:00:00\n",
      "2012-09-09 18:00:00\n",
      "2012-09-10 00:00:00\n",
      "2012-09-10 06:00:00\n",
      "2012-09-10 12:00:00\n",
      "2012-09-10 18:00:00\n",
      "2012-09-11 00:00:00\n",
      "2012-09-11 06:00:00\n",
      "2012-09-11 12:00:00\n",
      "2012-09-11 18:00:00\n",
      "2012-09-12 00:00:00\n",
      "2012-09-12 06:00:00\n",
      "2012-09-12 12:00:00\n",
      "2012-09-12 18:00:00\n",
      "2012-09-13 00:00:00\n",
      "2012-09-13 06:00:00\n",
      "2012-09-13 12:00:00\n",
      "2012-09-13 18:00:00\n",
      "2012-09-14 00:00:00\n",
      "2012-09-14 06:00:00\n",
      "2012-09-14 12:00:00\n",
      "2012-09-14 18:00:00\n",
      "2012-09-15 00:00:00\n",
      "2012-09-15 06:00:00\n",
      "2012-09-15 12:00:00\n",
      "2012-09-15 18:00:00\n",
      "2012-09-16 00:00:00\n",
      "2012-09-16 06:00:00\n",
      "2012-09-16 12:00:00\n",
      "2012-09-16 18:00:00\n",
      "2012-09-17 00:00:00\n",
      "2012-09-17 06:00:00\n",
      "2012-09-17 12:00:00\n",
      "2012-09-17 18:00:00\n",
      "2012-09-18 00:00:00\n",
      "2012-09-18 06:00:00\n",
      "2012-09-18 12:00:00\n",
      "2012-09-18 18:00:00\n",
      "2012-09-19 00:00:00\n",
      "2012-09-19 06:00:00\n",
      "2012-09-19 12:00:00\n",
      "2012-09-19 18:00:00\n",
      "2012-09-20 00:00:00\n",
      "2012-09-20 06:00:00\n",
      "2012-09-20 12:00:00\n",
      "2012-09-20 18:00:00\n",
      "2012-09-21 00:00:00\n",
      "2012-09-21 06:00:00\n",
      "2012-09-21 12:00:00\n",
      "2012-09-21 18:00:00\n",
      "2012-09-22 00:00:00\n",
      "2012-09-22 06:00:00\n",
      "2012-09-22 12:00:00\n",
      "2012-09-22 18:00:00\n",
      "2012-09-23 00:00:00\n",
      "2012-09-23 06:00:00\n",
      "2012-09-23 12:00:00\n",
      "2012-09-23 18:00:00\n",
      "2012-09-24 00:00:00\n",
      "2012-09-24 06:00:00\n",
      "2012-09-24 12:00:00\n",
      "2012-09-24 18:00:00\n",
      "2012-09-25 00:00:00\n",
      "2012-09-25 06:00:00\n",
      "2012-09-25 12:00:00\n",
      "2012-09-25 18:00:00\n",
      "2012-09-26 00:00:00\n",
      "2012-09-26 06:00:00\n",
      "2012-09-26 12:00:00\n",
      "2012-09-26 18:00:00\n",
      "2012-09-27 00:00:00\n",
      "2012-09-27 06:00:00\n",
      "2012-09-27 12:00:00\n",
      "2012-09-27 18:00:00\n",
      "2012-09-28 00:00:00\n",
      "2012-09-28 06:00:00\n",
      "2012-09-28 12:00:00\n",
      "2012-09-28 18:00:00\n",
      "2012-09-29 00:00:00\n",
      "2012-09-29 06:00:00\n",
      "2012-09-29 12:00:00\n",
      "2012-09-29 18:00:00\n",
      "2012-09-30 00:00:00\n",
      "2012-09-30 06:00:00\n",
      "2012-09-30 12:00:00\n",
      "2012-09-30 18:00:00\n"
     ]
    }
   ],
   "source": [
    "for d in date_range(datetime(2012, 9, 1), datetime(2012, 10, 1), timedelta(hours=6)):\n",
    "    print(d)"
   ]
  }
 ],
 "metadata": {
  "kernelspec": {
   "display_name": "Python 3",
   "language": "python",
   "name": "python3"
  },
  "language_info": {
   "codemirror_mode": {
    "name": "ipython",
    "version": 3
   },
   "file_extension": ".py",
   "mimetype": "text/x-python",
   "name": "python",
   "nbconvert_exporter": "python",
   "pygments_lexer": "ipython3",
   "version": "3.7.3"
  },
  "toc": {
   "base_numbering": 1,
   "nav_menu": {},
   "number_sections": true,
   "sideBar": true,
   "skip_h1_title": false,
   "title_cell": "Table of Contents",
   "title_sidebar": "Contents",
   "toc_cell": false,
   "toc_position": {},
   "toc_section_display": true,
   "toc_window_display": false
  },
  "varInspector": {
   "cols": {
    "lenName": 16,
    "lenType": 16,
    "lenVar": 40
   },
   "kernels_config": {
    "python": {
     "delete_cmd_postfix": "",
     "delete_cmd_prefix": "del ",
     "library": "var_list.py",
     "varRefreshCmd": "print(var_dic_list())"
    },
    "r": {
     "delete_cmd_postfix": ") ",
     "delete_cmd_prefix": "rm(",
     "library": "var_list.r",
     "varRefreshCmd": "cat(var_dic_list()) "
    }
   },
   "types_to_exclude": [
    "module",
    "function",
    "builtin_function_or_method",
    "instance",
    "_Feature"
   ],
   "window_display": false
  }
 },
 "nbformat": 4,
 "nbformat_minor": 2
}
