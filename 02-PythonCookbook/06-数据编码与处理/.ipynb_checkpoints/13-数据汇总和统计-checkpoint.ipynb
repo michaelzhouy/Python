{
 "cells": [
  {
   "cell_type": "code",
   "execution_count": 1,
   "metadata": {
    "ExecuteTime": {
     "end_time": "2019-09-21T01:59:19.526860Z",
     "start_time": "2019-09-21T01:59:19.108531Z"
    }
   },
   "outputs": [],
   "source": [
    "import pandas as pd"
   ]
  },
  {
   "cell_type": "code",
   "execution_count": 2,
   "metadata": {
    "ExecuteTime": {
     "end_time": "2019-09-21T01:59:25.626677Z",
     "start_time": "2019-09-21T01:59:19.527797Z"
    }
   },
   "outputs": [
    {
     "data": {
      "text/html": [
       "<div>\n",
       "<style scoped>\n",
       "    .dataframe tbody tr th:only-of-type {\n",
       "        vertical-align: middle;\n",
       "    }\n",
       "\n",
       "    .dataframe tbody tr th {\n",
       "        vertical-align: top;\n",
       "    }\n",
       "\n",
       "    .dataframe thead th {\n",
       "        text-align: right;\n",
       "    }\n",
       "</style>\n",
       "<table border=\"1\" class=\"dataframe\">\n",
       "  <thead>\n",
       "    <tr style=\"text-align: right;\">\n",
       "      <th></th>\n",
       "      <th>Creation Date</th>\n",
       "      <th>Status</th>\n",
       "      <th>Completion Date</th>\n",
       "      <th>Service Request Number</th>\n",
       "      <th>Type of Service Request</th>\n",
       "      <th>Number of Premises Baited</th>\n",
       "      <th>Number of Premises with Garbage</th>\n",
       "      <th>Number of Premises with Rats</th>\n",
       "      <th>Current Activity</th>\n",
       "      <th>Most Recent Action</th>\n",
       "      <th>...</th>\n",
       "      <th>Police District</th>\n",
       "      <th>Community Area</th>\n",
       "      <th>Latitude</th>\n",
       "      <th>Longitude</th>\n",
       "      <th>Location</th>\n",
       "      <th>Historical Wards 2003-2015</th>\n",
       "      <th>Zip Codes</th>\n",
       "      <th>Community Areas</th>\n",
       "      <th>Census Tracts</th>\n",
       "      <th>Wards</th>\n",
       "    </tr>\n",
       "  </thead>\n",
       "  <tbody>\n",
       "    <tr>\n",
       "      <th>0</th>\n",
       "      <td>12/18/2018</td>\n",
       "      <td>Open</td>\n",
       "      <td>NaN</td>\n",
       "      <td>18-03388270</td>\n",
       "      <td>Rodent Baiting/Rat Complaint</td>\n",
       "      <td>NaN</td>\n",
       "      <td>NaN</td>\n",
       "      <td>NaN</td>\n",
       "      <td>NaN</td>\n",
       "      <td>NaN</td>\n",
       "      <td>...</td>\n",
       "      <td>17.0</td>\n",
       "      <td>21.0</td>\n",
       "      <td>41.940253</td>\n",
       "      <td>-87.696093</td>\n",
       "      <td>(41.940252960348, -87.696092533073)</td>\n",
       "      <td>2.0</td>\n",
       "      <td>21538.0</td>\n",
       "      <td>22.0</td>\n",
       "      <td>425.0</td>\n",
       "      <td>20.0</td>\n",
       "    </tr>\n",
       "    <tr>\n",
       "      <th>1</th>\n",
       "      <td>12/18/2018</td>\n",
       "      <td>Open</td>\n",
       "      <td>NaN</td>\n",
       "      <td>18-03388125</td>\n",
       "      <td>Rodent Baiting/Rat Complaint</td>\n",
       "      <td>NaN</td>\n",
       "      <td>NaN</td>\n",
       "      <td>NaN</td>\n",
       "      <td>NaN</td>\n",
       "      <td>NaN</td>\n",
       "      <td>...</td>\n",
       "      <td>20.0</td>\n",
       "      <td>2.0</td>\n",
       "      <td>41.988474</td>\n",
       "      <td>-87.705812</td>\n",
       "      <td>(41.98847449993, -87.705811949507)</td>\n",
       "      <td>46.0</td>\n",
       "      <td>4450.0</td>\n",
       "      <td>20.0</td>\n",
       "      <td>65.0</td>\n",
       "      <td>24.0</td>\n",
       "    </tr>\n",
       "    <tr>\n",
       "      <th>2</th>\n",
       "      <td>12/18/2018</td>\n",
       "      <td>Open</td>\n",
       "      <td>NaN</td>\n",
       "      <td>18-03388055</td>\n",
       "      <td>Rodent Baiting/Rat Complaint</td>\n",
       "      <td>NaN</td>\n",
       "      <td>NaN</td>\n",
       "      <td>NaN</td>\n",
       "      <td>NaN</td>\n",
       "      <td>NaN</td>\n",
       "      <td>...</td>\n",
       "      <td>17.0</td>\n",
       "      <td>14.0</td>\n",
       "      <td>41.963051</td>\n",
       "      <td>-87.727885</td>\n",
       "      <td>(41.963051420227, -87.727885158144)</td>\n",
       "      <td>28.0</td>\n",
       "      <td>21869.0</td>\n",
       "      <td>14.0</td>\n",
       "      <td>257.0</td>\n",
       "      <td>12.0</td>\n",
       "    </tr>\n",
       "    <tr>\n",
       "      <th>3</th>\n",
       "      <td>12/18/2018</td>\n",
       "      <td>Open</td>\n",
       "      <td>NaN</td>\n",
       "      <td>18-03386546</td>\n",
       "      <td>Rodent Baiting/Rat Complaint</td>\n",
       "      <td>NaN</td>\n",
       "      <td>NaN</td>\n",
       "      <td>NaN</td>\n",
       "      <td>NaN</td>\n",
       "      <td>NaN</td>\n",
       "      <td>...</td>\n",
       "      <td>19.0</td>\n",
       "      <td>7.0</td>\n",
       "      <td>41.928771</td>\n",
       "      <td>-87.668625</td>\n",
       "      <td>(41.928771396163, -87.668625093921)</td>\n",
       "      <td>16.0</td>\n",
       "      <td>21190.0</td>\n",
       "      <td>68.0</td>\n",
       "      <td>743.0</td>\n",
       "      <td>40.0</td>\n",
       "    </tr>\n",
       "    <tr>\n",
       "      <th>4</th>\n",
       "      <td>12/18/2018</td>\n",
       "      <td>Open</td>\n",
       "      <td>NaN</td>\n",
       "      <td>18-03387374</td>\n",
       "      <td>Rodent Baiting/Rat Complaint</td>\n",
       "      <td>NaN</td>\n",
       "      <td>NaN</td>\n",
       "      <td>NaN</td>\n",
       "      <td>NaN</td>\n",
       "      <td>NaN</td>\n",
       "      <td>...</td>\n",
       "      <td>25.0</td>\n",
       "      <td>18.0</td>\n",
       "      <td>41.925397</td>\n",
       "      <td>-87.797734</td>\n",
       "      <td>(41.925396948049, -87.797734406018)</td>\n",
       "      <td>39.0</td>\n",
       "      <td>4454.0</td>\n",
       "      <td>18.0</td>\n",
       "      <td>136.0</td>\n",
       "      <td>44.0</td>\n",
       "    </tr>\n",
       "  </tbody>\n",
       "</table>\n",
       "<p>5 rows × 25 columns</p>\n",
       "</div>"
      ],
      "text/plain": [
       "  Creation Date Status Completion Date Service Request Number  \\\n",
       "0    12/18/2018   Open             NaN            18-03388270   \n",
       "1    12/18/2018   Open             NaN            18-03388125   \n",
       "2    12/18/2018   Open             NaN            18-03388055   \n",
       "3    12/18/2018   Open             NaN            18-03386546   \n",
       "4    12/18/2018   Open             NaN            18-03387374   \n",
       "\n",
       "        Type of Service Request  Number of Premises Baited  \\\n",
       "0  Rodent Baiting/Rat Complaint                        NaN   \n",
       "1  Rodent Baiting/Rat Complaint                        NaN   \n",
       "2  Rodent Baiting/Rat Complaint                        NaN   \n",
       "3  Rodent Baiting/Rat Complaint                        NaN   \n",
       "4  Rodent Baiting/Rat Complaint                        NaN   \n",
       "\n",
       "   Number of Premises with Garbage  Number of Premises with Rats  \\\n",
       "0                              NaN                           NaN   \n",
       "1                              NaN                           NaN   \n",
       "2                              NaN                           NaN   \n",
       "3                              NaN                           NaN   \n",
       "4                              NaN                           NaN   \n",
       "\n",
       "  Current Activity Most Recent Action  ... Police District  Community Area  \\\n",
       "0              NaN                NaN  ...            17.0            21.0   \n",
       "1              NaN                NaN  ...            20.0             2.0   \n",
       "2              NaN                NaN  ...            17.0            14.0   \n",
       "3              NaN                NaN  ...            19.0             7.0   \n",
       "4              NaN                NaN  ...            25.0            18.0   \n",
       "\n",
       "    Latitude  Longitude                             Location  \\\n",
       "0  41.940253 -87.696093  (41.940252960348, -87.696092533073)   \n",
       "1  41.988474 -87.705812   (41.98847449993, -87.705811949507)   \n",
       "2  41.963051 -87.727885  (41.963051420227, -87.727885158144)   \n",
       "3  41.928771 -87.668625  (41.928771396163, -87.668625093921)   \n",
       "4  41.925397 -87.797734  (41.925396948049, -87.797734406018)   \n",
       "\n",
       "   Historical Wards 2003-2015  Zip Codes  Community Areas  Census Tracts Wards  \n",
       "0                         2.0    21538.0             22.0          425.0  20.0  \n",
       "1                        46.0     4450.0             20.0           65.0  24.0  \n",
       "2                        28.0    21869.0             14.0          257.0  12.0  \n",
       "3                        16.0    21190.0             68.0          743.0  40.0  \n",
       "4                        39.0     4454.0             18.0          136.0  44.0  \n",
       "\n",
       "[5 rows x 25 columns]"
      ]
     },
     "execution_count": 2,
     "metadata": {},
     "output_type": "execute_result"
    }
   ],
   "source": [
    "rats = pd.read_csv('rats.csv', skipfooter=1, engine='python')\n",
    "rats.head()"
   ]
  },
  {
   "cell_type": "code",
   "execution_count": 3,
   "metadata": {
    "ExecuteTime": {
     "end_time": "2019-09-21T01:59:25.632662Z",
     "start_time": "2019-09-21T01:59:25.627674Z"
    }
   },
   "outputs": [
    {
     "data": {
      "text/plain": [
       "(319186, 25)"
      ]
     },
     "execution_count": 3,
     "metadata": {},
     "output_type": "execute_result"
    }
   ],
   "source": [
    "rats.shape"
   ]
  },
  {
   "cell_type": "code",
   "execution_count": 4,
   "metadata": {
    "ExecuteTime": {
     "end_time": "2019-09-21T01:59:25.932117Z",
     "start_time": "2019-09-21T01:59:25.633659Z"
    }
   },
   "outputs": [
    {
     "data": {
      "text/html": [
       "<div>\n",
       "<style scoped>\n",
       "    .dataframe tbody tr th:only-of-type {\n",
       "        vertical-align: middle;\n",
       "    }\n",
       "\n",
       "    .dataframe tbody tr th {\n",
       "        vertical-align: top;\n",
       "    }\n",
       "\n",
       "    .dataframe thead th {\n",
       "        text-align: right;\n",
       "    }\n",
       "</style>\n",
       "<table border=\"1\" class=\"dataframe\">\n",
       "  <thead>\n",
       "    <tr style=\"text-align: right;\">\n",
       "      <th></th>\n",
       "      <th>Number of Premises Baited</th>\n",
       "      <th>Number of Premises with Garbage</th>\n",
       "      <th>Number of Premises with Rats</th>\n",
       "      <th>ZIP Code</th>\n",
       "      <th>X Coordinate</th>\n",
       "      <th>Y Coordinate</th>\n",
       "      <th>Ward</th>\n",
       "      <th>Police District</th>\n",
       "      <th>Community Area</th>\n",
       "      <th>Latitude</th>\n",
       "      <th>Longitude</th>\n",
       "      <th>Historical Wards 2003-2015</th>\n",
       "      <th>Zip Codes</th>\n",
       "      <th>Community Areas</th>\n",
       "      <th>Census Tracts</th>\n",
       "      <th>Wards</th>\n",
       "    </tr>\n",
       "  </thead>\n",
       "  <tbody>\n",
       "    <tr>\n",
       "      <th>count</th>\n",
       "      <td>2.957950e+05</td>\n",
       "      <td>295266.000000</td>\n",
       "      <td>295957.000000</td>\n",
       "      <td>318222.000000</td>\n",
       "      <td>3.191620e+05</td>\n",
       "      <td>3.191620e+05</td>\n",
       "      <td>319164.000000</td>\n",
       "      <td>319164.000000</td>\n",
       "      <td>319164.000000</td>\n",
       "      <td>319162.000000</td>\n",
       "      <td>319162.000000</td>\n",
       "      <td>318575.000000</td>\n",
       "      <td>319162.000000</td>\n",
       "      <td>318570.000000</td>\n",
       "      <td>318492.000000</td>\n",
       "      <td>318605.000000</td>\n",
       "    </tr>\n",
       "    <tr>\n",
       "      <th>mean</th>\n",
       "      <td>9.987307e+00</td>\n",
       "      <td>3.643332</td>\n",
       "      <td>2.631303</td>\n",
       "      <td>60631.364924</td>\n",
       "      <td>1.158759e+06</td>\n",
       "      <td>1.899461e+06</td>\n",
       "      <td>27.369973</td>\n",
       "      <td>14.211841</td>\n",
       "      <td>31.418988</td>\n",
       "      <td>41.879846</td>\n",
       "      <td>-87.692544</td>\n",
       "      <td>26.425476</td>\n",
       "      <td>18833.986427</td>\n",
       "      <td>38.133415</td>\n",
       "      <td>391.389332</td>\n",
       "      <td>25.839378</td>\n",
       "    </tr>\n",
       "    <tr>\n",
       "      <th>std</th>\n",
       "      <td>4.087229e+03</td>\n",
       "      <td>44.317712</td>\n",
       "      <td>45.173610</td>\n",
       "      <td>186.867900</td>\n",
       "      <td>1.371950e+04</td>\n",
       "      <td>3.145377e+04</td>\n",
       "      <td>14.301072</td>\n",
       "      <td>6.443355</td>\n",
       "      <td>23.612382</td>\n",
       "      <td>0.086418</td>\n",
       "      <td>0.050050</td>\n",
       "      <td>14.438929</td>\n",
       "      <td>6272.435776</td>\n",
       "      <td>21.050424</td>\n",
       "      <td>237.272294</td>\n",
       "      <td>14.157605</td>\n",
       "    </tr>\n",
       "    <tr>\n",
       "      <th>min</th>\n",
       "      <td>0.000000e+00</td>\n",
       "      <td>0.000000</td>\n",
       "      <td>0.000000</td>\n",
       "      <td>0.000000</td>\n",
       "      <td>1.096673e+06</td>\n",
       "      <td>1.814222e+06</td>\n",
       "      <td>0.000000</td>\n",
       "      <td>0.000000</td>\n",
       "      <td>0.000000</td>\n",
       "      <td>41.645342</td>\n",
       "      <td>-87.920000</td>\n",
       "      <td>1.000000</td>\n",
       "      <td>2733.000000</td>\n",
       "      <td>1.000000</td>\n",
       "      <td>1.000000</td>\n",
       "      <td>1.000000</td>\n",
       "    </tr>\n",
       "    <tr>\n",
       "      <th>25%</th>\n",
       "      <td>0.000000e+00</td>\n",
       "      <td>1.000000</td>\n",
       "      <td>1.000000</td>\n",
       "      <td>60619.000000</td>\n",
       "      <td>1.150332e+06</td>\n",
       "      <td>1.869977e+06</td>\n",
       "      <td>15.000000</td>\n",
       "      <td>8.000000</td>\n",
       "      <td>13.000000</td>\n",
       "      <td>41.798977</td>\n",
       "      <td>-87.723385</td>\n",
       "      <td>15.000000</td>\n",
       "      <td>21186.000000</td>\n",
       "      <td>20.000000</td>\n",
       "      <td>187.000000</td>\n",
       "      <td>14.000000</td>\n",
       "    </tr>\n",
       "    <tr>\n",
       "      <th>50%</th>\n",
       "      <td>1.000000e+00</td>\n",
       "      <td>3.000000</td>\n",
       "      <td>2.000000</td>\n",
       "      <td>60630.000000</td>\n",
       "      <td>1.159228e+06</td>\n",
       "      <td>1.908544e+06</td>\n",
       "      <td>29.000000</td>\n",
       "      <td>14.000000</td>\n",
       "      <td>24.000000</td>\n",
       "      <td>41.904890</td>\n",
       "      <td>-87.690557</td>\n",
       "      <td>25.000000</td>\n",
       "      <td>21569.000000</td>\n",
       "      <td>31.000000</td>\n",
       "      <td>364.000000</td>\n",
       "      <td>25.000000</td>\n",
       "    </tr>\n",
       "    <tr>\n",
       "      <th>75%</th>\n",
       "      <td>3.000000e+00</td>\n",
       "      <td>5.000000</td>\n",
       "      <td>4.000000</td>\n",
       "      <td>60644.000000</td>\n",
       "      <td>1.167937e+06</td>\n",
       "      <td>1.923591e+06</td>\n",
       "      <td>39.000000</td>\n",
       "      <td>19.000000</td>\n",
       "      <td>57.000000</td>\n",
       "      <td>41.946071</td>\n",
       "      <td>-87.658855</td>\n",
       "      <td>39.000000</td>\n",
       "      <td>22257.000000</td>\n",
       "      <td>59.000000</td>\n",
       "      <td>598.000000</td>\n",
       "      <td>39.000000</td>\n",
       "    </tr>\n",
       "    <tr>\n",
       "      <th>max</th>\n",
       "      <td>2.222220e+06</td>\n",
       "      <td>23908.000000</td>\n",
       "      <td>23957.000000</td>\n",
       "      <td>60827.000000</td>\n",
       "      <td>1.205118e+06</td>\n",
       "      <td>1.951503e+06</td>\n",
       "      <td>50.000000</td>\n",
       "      <td>31.000000</td>\n",
       "      <td>77.000000</td>\n",
       "      <td>42.022537</td>\n",
       "      <td>-87.524543</td>\n",
       "      <td>53.000000</td>\n",
       "      <td>26633.000000</td>\n",
       "      <td>77.000000</td>\n",
       "      <td>801.000000</td>\n",
       "      <td>50.000000</td>\n",
       "    </tr>\n",
       "  </tbody>\n",
       "</table>\n",
       "</div>"
      ],
      "text/plain": [
       "       Number of Premises Baited  Number of Premises with Garbage  \\\n",
       "count               2.957950e+05                    295266.000000   \n",
       "mean                9.987307e+00                         3.643332   \n",
       "std                 4.087229e+03                        44.317712   \n",
       "min                 0.000000e+00                         0.000000   \n",
       "25%                 0.000000e+00                         1.000000   \n",
       "50%                 1.000000e+00                         3.000000   \n",
       "75%                 3.000000e+00                         5.000000   \n",
       "max                 2.222220e+06                     23908.000000   \n",
       "\n",
       "       Number of Premises with Rats       ZIP Code  X Coordinate  \\\n",
       "count                 295957.000000  318222.000000  3.191620e+05   \n",
       "mean                       2.631303   60631.364924  1.158759e+06   \n",
       "std                       45.173610     186.867900  1.371950e+04   \n",
       "min                        0.000000       0.000000  1.096673e+06   \n",
       "25%                        1.000000   60619.000000  1.150332e+06   \n",
       "50%                        2.000000   60630.000000  1.159228e+06   \n",
       "75%                        4.000000   60644.000000  1.167937e+06   \n",
       "max                    23957.000000   60827.000000  1.205118e+06   \n",
       "\n",
       "       Y Coordinate           Ward  Police District  Community Area  \\\n",
       "count  3.191620e+05  319164.000000    319164.000000   319164.000000   \n",
       "mean   1.899461e+06      27.369973        14.211841       31.418988   \n",
       "std    3.145377e+04      14.301072         6.443355       23.612382   \n",
       "min    1.814222e+06       0.000000         0.000000        0.000000   \n",
       "25%    1.869977e+06      15.000000         8.000000       13.000000   \n",
       "50%    1.908544e+06      29.000000        14.000000       24.000000   \n",
       "75%    1.923591e+06      39.000000        19.000000       57.000000   \n",
       "max    1.951503e+06      50.000000        31.000000       77.000000   \n",
       "\n",
       "            Latitude      Longitude  Historical Wards 2003-2015  \\\n",
       "count  319162.000000  319162.000000               318575.000000   \n",
       "mean       41.879846     -87.692544                   26.425476   \n",
       "std         0.086418       0.050050                   14.438929   \n",
       "min        41.645342     -87.920000                    1.000000   \n",
       "25%        41.798977     -87.723385                   15.000000   \n",
       "50%        41.904890     -87.690557                   25.000000   \n",
       "75%        41.946071     -87.658855                   39.000000   \n",
       "max        42.022537     -87.524543                   53.000000   \n",
       "\n",
       "           Zip Codes  Community Areas  Census Tracts          Wards  \n",
       "count  319162.000000    318570.000000  318492.000000  318605.000000  \n",
       "mean    18833.986427        38.133415     391.389332      25.839378  \n",
       "std      6272.435776        21.050424     237.272294      14.157605  \n",
       "min      2733.000000         1.000000       1.000000       1.000000  \n",
       "25%     21186.000000        20.000000     187.000000      14.000000  \n",
       "50%     21569.000000        31.000000     364.000000      25.000000  \n",
       "75%     22257.000000        59.000000     598.000000      39.000000  \n",
       "max     26633.000000        77.000000     801.000000      50.000000  "
      ]
     },
     "execution_count": 4,
     "metadata": {},
     "output_type": "execute_result"
    }
   ],
   "source": [
    "rats.describe()"
   ]
  },
  {
   "cell_type": "code",
   "execution_count": 5,
   "metadata": {
    "ExecuteTime": {
     "end_time": "2019-09-21T01:59:25.948075Z",
     "start_time": "2019-09-21T01:59:25.934112Z"
    }
   },
   "outputs": [
    {
     "data": {
      "text/plain": [
       "array([nan, 'Dispatch Crew', 'Request Sanitation Inspector',\n",
       "       'FVI - Outcome', 'Inspect for Violation'], dtype=object)"
      ]
     },
     "execution_count": 5,
     "metadata": {},
     "output_type": "execute_result"
    }
   ],
   "source": [
    "rats['Current Activity'].unique()"
   ]
  },
  {
   "cell_type": "code",
   "execution_count": 6,
   "metadata": {
    "ExecuteTime": {
     "end_time": "2019-09-21T01:59:26.043330Z",
     "start_time": "2019-09-21T01:59:25.949072Z"
    }
   },
   "outputs": [],
   "source": [
    "crew_dispatched = rats[rats['Current Activity'] == 'Dispatch Crew']"
   ]
  },
  {
   "cell_type": "code",
   "execution_count": 7,
   "metadata": {
    "ExecuteTime": {
     "end_time": "2019-09-21T01:59:26.049315Z",
     "start_time": "2019-09-21T01:59:26.044328Z"
    }
   },
   "outputs": [
    {
     "data": {
      "text/plain": [
       "297375"
      ]
     },
     "execution_count": 7,
     "metadata": {},
     "output_type": "execute_result"
    }
   ],
   "source": [
    "len(crew_dispatched)"
   ]
  },
  {
   "cell_type": "code",
   "execution_count": 8,
   "metadata": {
    "ExecuteTime": {
     "end_time": "2019-09-21T01:59:26.066269Z",
     "start_time": "2019-09-21T01:59:26.051310Z"
    }
   },
   "outputs": [
    {
     "data": {
      "text/plain": [
       "60618.0    17023\n",
       "60647.0    16153\n",
       "60629.0    12497\n",
       "60614.0    12061\n",
       "60657.0    10608\n",
       "60641.0     9803\n",
       "60636.0     9105\n",
       "60623.0     8896\n",
       "60609.0     8760\n",
       "60645.0     8673\n",
       "Name: ZIP Code, dtype: int64"
      ]
     },
     "execution_count": 8,
     "metadata": {},
     "output_type": "execute_result"
    }
   ],
   "source": [
    "crew_dispatched_values = crew_dispatched['ZIP Code'].value_counts()\n",
    "crew_dispatched_values.iloc[:10]"
   ]
  },
  {
   "cell_type": "code",
   "execution_count": 9,
   "metadata": {
    "ExecuteTime": {
     "end_time": "2019-09-21T01:59:26.074248Z",
     "start_time": "2019-09-21T01:59:26.069261Z"
    }
   },
   "outputs": [
    {
     "data": {
      "text/plain": [
       "<pandas.core.groupby.generic.DataFrameGroupBy object at 0x0000025AC84F2E80>"
      ]
     },
     "execution_count": 9,
     "metadata": {},
     "output_type": "execute_result"
    }
   ],
   "source": [
    "dates = crew_dispatched.groupby('Completion Date')\n",
    "dates"
   ]
  },
  {
   "cell_type": "code",
   "execution_count": 10,
   "metadata": {
    "ExecuteTime": {
     "end_time": "2019-09-21T01:59:26.181961Z",
     "start_time": "2019-09-21T01:59:26.076243Z"
    }
   },
   "outputs": [
    {
     "data": {
      "text/plain": [
       "1985"
      ]
     },
     "execution_count": 10,
     "metadata": {},
     "output_type": "execute_result"
    }
   ],
   "source": [
    "len(dates)"
   ]
  },
  {
   "cell_type": "code",
   "execution_count": 11,
   "metadata": {
    "ExecuteTime": {
     "end_time": "2019-09-21T01:59:26.188942Z",
     "start_time": "2019-09-21T01:59:26.182969Z"
    }
   },
   "outputs": [],
   "source": [
    "date_counts = dates.size()"
   ]
  },
  {
   "cell_type": "code",
   "execution_count": 12,
   "metadata": {
    "ExecuteTime": {
     "end_time": "2019-09-21T01:59:26.198917Z",
     "start_time": "2019-09-21T01:59:26.189940Z"
    }
   },
   "outputs": [
    {
     "data": {
      "text/plain": [
       "Completion Date\n",
       "01/01/2014      7\n",
       "01/02/2013     20\n",
       "01/02/2014     96\n",
       "01/02/2015      5\n",
       "01/02/2018     71\n",
       "01/03/2011      4\n",
       "01/03/2012    125\n",
       "01/03/2013     46\n",
       "01/03/2014     59\n",
       "01/03/2017    212\n",
       "dtype: int64"
      ]
     },
     "execution_count": 12,
     "metadata": {},
     "output_type": "execute_result"
    }
   ],
   "source": [
    "date_counts[0:10]"
   ]
  },
  {
   "cell_type": "code",
   "execution_count": 13,
   "metadata": {
    "ExecuteTime": {
     "end_time": "2019-09-21T01:59:26.210882Z",
     "start_time": "2019-09-21T01:59:26.200910Z"
    }
   },
   "outputs": [
    {
     "data": {
      "text/plain": [
       "Completion Date\n",
       "06/07/2016    384\n",
       "10/14/2011    391\n",
       "08/17/2017    392\n",
       "10/11/2017    392\n",
       "11/12/2013    401\n",
       "10/14/2016    412\n",
       "10/07/2011    457\n",
       "07/06/2016    461\n",
       "11/01/2013    488\n",
       "09/09/2016    492\n",
       "dtype: int64"
      ]
     },
     "execution_count": 13,
     "metadata": {},
     "output_type": "execute_result"
    }
   ],
   "source": [
    "date_counts.sort_values()[-10:]"
   ]
  }
 ],
 "metadata": {
  "kernelspec": {
   "display_name": "Python 3",
   "language": "python",
   "name": "python3"
  },
  "language_info": {
   "codemirror_mode": {
    "name": "ipython",
    "version": 3
   },
   "file_extension": ".py",
   "mimetype": "text/x-python",
   "name": "python",
   "nbconvert_exporter": "python",
   "pygments_lexer": "ipython3",
   "version": "3.7.3"
  },
  "toc": {
   "base_numbering": 1,
   "nav_menu": {},
   "number_sections": true,
   "sideBar": true,
   "skip_h1_title": false,
   "title_cell": "Table of Contents",
   "title_sidebar": "Contents",
   "toc_cell": false,
   "toc_position": {},
   "toc_section_display": true,
   "toc_window_display": false
  },
  "varInspector": {
   "cols": {
    "lenName": 16,
    "lenType": 16,
    "lenVar": 40
   },
   "kernels_config": {
    "python": {
     "delete_cmd_postfix": "",
     "delete_cmd_prefix": "del ",
     "library": "var_list.py",
     "varRefreshCmd": "print(var_dic_list())"
    },
    "r": {
     "delete_cmd_postfix": ") ",
     "delete_cmd_prefix": "rm(",
     "library": "var_list.r",
     "varRefreshCmd": "cat(var_dic_list()) "
    }
   },
   "types_to_exclude": [
    "module",
    "function",
    "builtin_function_or_method",
    "instance",
    "_Feature"
   ],
   "window_display": false
  }
 },
 "nbformat": 4,
 "nbformat_minor": 2
}
