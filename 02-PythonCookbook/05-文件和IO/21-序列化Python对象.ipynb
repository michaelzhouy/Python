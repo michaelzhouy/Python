{
 "cells": [
  {
   "cell_type": "code",
   "execution_count": 1,
   "metadata": {
    "ExecuteTime": {
     "end_time": "2019-09-17T06:09:11.589437Z",
     "start_time": "2019-09-17T06:09:11.586446Z"
    }
   },
   "outputs": [],
   "source": [
    "import pickle"
   ]
  },
  {
   "cell_type": "code",
   "execution_count": 2,
   "metadata": {
    "ExecuteTime": {
     "end_time": "2019-09-17T06:09:11.599409Z",
     "start_time": "2019-09-17T06:09:11.590434Z"
    }
   },
   "outputs": [],
   "source": [
    "data = 'zhouyang'\n",
    "f = open('somefile.txt', 'wb')\n",
    "pickle.dump(data, f) # 将某个对象转储到文件中\n",
    "f.close()"
   ]
  },
  {
   "cell_type": "code",
   "execution_count": 3,
   "metadata": {
    "ExecuteTime": {
     "end_time": "2019-09-17T06:09:11.612375Z",
     "start_time": "2019-09-17T06:09:11.600408Z"
    }
   },
   "outputs": [
    {
     "data": {
      "text/plain": [
       "b'\\x80\\x03X\\x08\\x00\\x00\\x00zhouyangq\\x00.'"
      ]
     },
     "execution_count": 3,
     "metadata": {},
     "output_type": "execute_result"
    }
   ],
   "source": [
    "s = pickle.dumps(data)\n",
    "s"
   ]
  },
  {
   "cell_type": "code",
   "execution_count": 4,
   "metadata": {
    "ExecuteTime": {
     "end_time": "2019-09-17T06:09:11.621351Z",
     "start_time": "2019-09-17T06:09:11.613372Z"
    }
   },
   "outputs": [
    {
     "data": {
      "text/plain": [
       "'zhouyang'"
      ]
     },
     "execution_count": 4,
     "metadata": {},
     "output_type": "execute_result"
    }
   ],
   "source": [
    "f = open('somefile.txt', 'rb')\n",
    "data = pickle.load(f)\n",
    "data"
   ]
  },
  {
   "cell_type": "code",
   "execution_count": 5,
   "metadata": {
    "ExecuteTime": {
     "end_time": "2019-09-17T06:09:11.630327Z",
     "start_time": "2019-09-17T06:09:11.623346Z"
    }
   },
   "outputs": [],
   "source": [
    "f.close()"
   ]
  },
  {
   "cell_type": "code",
   "execution_count": 6,
   "metadata": {
    "ExecuteTime": {
     "end_time": "2019-09-17T06:09:11.641299Z",
     "start_time": "2019-09-17T06:09:11.631325Z"
    }
   },
   "outputs": [
    {
     "data": {
      "text/plain": [
       "'zhouyang'"
      ]
     },
     "execution_count": 6,
     "metadata": {},
     "output_type": "execute_result"
    }
   ],
   "source": [
    "data = pickle.loads(s)\n",
    "data"
   ]
  },
  {
   "cell_type": "code",
   "execution_count": 7,
   "metadata": {
    "ExecuteTime": {
     "end_time": "2019-09-17T06:09:11.649277Z",
     "start_time": "2019-09-17T06:09:11.642295Z"
    }
   },
   "outputs": [],
   "source": [
    "f = open('somedata', 'wb')"
   ]
  },
  {
   "cell_type": "code",
   "execution_count": 8,
   "metadata": {
    "ExecuteTime": {
     "end_time": "2019-09-17T06:09:11.658255Z",
     "start_time": "2019-09-17T06:09:11.650273Z"
    }
   },
   "outputs": [],
   "source": [
    "pickle.dump([1, 2, 3, 4], f) # 将Python对象转储到文件中"
   ]
  },
  {
   "cell_type": "code",
   "execution_count": 9,
   "metadata": {
    "ExecuteTime": {
     "end_time": "2019-09-17T06:09:11.667229Z",
     "start_time": "2019-09-17T06:09:11.659250Z"
    }
   },
   "outputs": [],
   "source": [
    "pickle.dump('hello', f) # 将Python对象转储到文件中"
   ]
  },
  {
   "cell_type": "code",
   "execution_count": 10,
   "metadata": {
    "ExecuteTime": {
     "end_time": "2019-09-17T06:09:11.676204Z",
     "start_time": "2019-09-17T06:09:11.668226Z"
    }
   },
   "outputs": [],
   "source": [
    "pickle.dump({'Apple', 'Pear', 'Banana'}, f)"
   ]
  },
  {
   "cell_type": "code",
   "execution_count": 11,
   "metadata": {
    "ExecuteTime": {
     "end_time": "2019-09-17T06:09:11.688172Z",
     "start_time": "2019-09-17T06:09:11.677202Z"
    }
   },
   "outputs": [],
   "source": [
    "f.close()"
   ]
  },
  {
   "cell_type": "code",
   "execution_count": 12,
   "metadata": {
    "ExecuteTime": {
     "end_time": "2019-09-17T06:09:11.694163Z",
     "start_time": "2019-09-17T06:09:11.690168Z"
    }
   },
   "outputs": [],
   "source": [
    "f = open('somedata', 'rb')"
   ]
  },
  {
   "cell_type": "code",
   "execution_count": 13,
   "metadata": {
    "ExecuteTime": {
     "end_time": "2019-09-17T06:09:11.702904Z",
     "start_time": "2019-09-17T06:09:11.696908Z"
    }
   },
   "outputs": [
    {
     "data": {
      "text/plain": [
       "[1, 2, 3, 4]"
      ]
     },
     "execution_count": 13,
     "metadata": {},
     "output_type": "execute_result"
    }
   ],
   "source": [
    "pickle.load(f) # 读取文件内容"
   ]
  },
  {
   "cell_type": "code",
   "execution_count": 14,
   "metadata": {
    "ExecuteTime": {
     "end_time": "2019-09-17T06:09:11.712894Z",
     "start_time": "2019-09-17T06:09:11.704885Z"
    }
   },
   "outputs": [
    {
     "data": {
      "text/plain": [
       "'hello'"
      ]
     },
     "execution_count": 14,
     "metadata": {},
     "output_type": "execute_result"
    }
   ],
   "source": [
    "pickle.load(f)"
   ]
  },
  {
   "cell_type": "code",
   "execution_count": 15,
   "metadata": {
    "ExecuteTime": {
     "end_time": "2019-09-17T06:09:11.722838Z",
     "start_time": "2019-09-17T06:09:11.713863Z"
    }
   },
   "outputs": [
    {
     "data": {
      "text/plain": [
       "{'Apple', 'Banana', 'Pear'}"
      ]
     },
     "execution_count": 15,
     "metadata": {},
     "output_type": "execute_result"
    }
   ],
   "source": [
    "pickle.load(f)"
   ]
  },
  {
   "cell_type": "code",
   "execution_count": 16,
   "metadata": {
    "ExecuteTime": {
     "end_time": "2019-09-17T06:09:11.736852Z",
     "start_time": "2019-09-17T06:09:11.723872Z"
    }
   },
   "outputs": [
    {
     "data": {
      "text/plain": [
       "b'\\x80\\x03cmath\\ncos\\nq\\x00.'"
      ]
     },
     "execution_count": 16,
     "metadata": {},
     "output_type": "execute_result"
    }
   ],
   "source": [
    "import math\n",
    "pickle.dumps(math.cos) # 将对象转储为字符串"
   ]
  },
  {
   "cell_type": "code",
   "execution_count": 17,
   "metadata": {
    "ExecuteTime": {
     "end_time": "2019-09-17T06:09:11.750342Z",
     "start_time": "2019-09-17T06:09:11.737798Z"
    }
   },
   "outputs": [
    {
     "name": "stdout",
     "output_type": "stream",
     "text": [
      "T-minus 30\n"
     ]
    }
   ],
   "source": [
    "import countdown\n",
    "\n",
    "c = countdown.Countdown(30)"
   ]
  },
  {
   "cell_type": "code",
   "execution_count": 18,
   "metadata": {
    "ExecuteTime": {
     "end_time": "2019-09-17T06:09:11.756362Z",
     "start_time": "2019-09-17T06:09:11.751343Z"
    }
   },
   "outputs": [],
   "source": [
    "f = open('cstate.p', 'wb')"
   ]
  },
  {
   "cell_type": "code",
   "execution_count": 19,
   "metadata": {
    "ExecuteTime": {
     "end_time": "2019-09-17T06:09:11.765527Z",
     "start_time": "2019-09-17T06:09:11.757327Z"
    }
   },
   "outputs": [],
   "source": [
    "pickle.dump(c, f) # 将c转储到文件中"
   ]
  },
  {
   "cell_type": "code",
   "execution_count": 20,
   "metadata": {
    "ExecuteTime": {
     "end_time": "2019-09-17T06:09:11.775296Z",
     "start_time": "2019-09-17T06:09:11.766303Z"
    }
   },
   "outputs": [],
   "source": [
    "f.close()"
   ]
  },
  {
   "cell_type": "code",
   "execution_count": 21,
   "metadata": {
    "ExecuteTime": {
     "end_time": "2019-09-17T06:09:11.785252Z",
     "start_time": "2019-09-17T06:09:11.776280Z"
    }
   },
   "outputs": [
    {
     "name": "stdout",
     "output_type": "stream",
     "text": [
      "T-minus 29\n"
     ]
    },
    {
     "data": {
      "text/plain": [
       "<countdown.Countdown at 0x20b3e9f39e8>"
      ]
     },
     "execution_count": 21,
     "metadata": {},
     "output_type": "execute_result"
    }
   ],
   "source": [
    "f = open('cstate.p', 'rb')\n",
    "pickle.load(f) # 将文件载出"
   ]
  }
 ],
 "metadata": {
  "kernelspec": {
   "display_name": "Python 3",
   "language": "python",
   "name": "python3"
  },
  "language_info": {
   "codemirror_mode": {
    "name": "ipython",
    "version": 3
   },
   "file_extension": ".py",
   "mimetype": "text/x-python",
   "name": "python",
   "nbconvert_exporter": "python",
   "pygments_lexer": "ipython3",
   "version": "3.7.3"
  },
  "toc": {
   "base_numbering": 1,
   "nav_menu": {},
   "number_sections": true,
   "sideBar": true,
   "skip_h1_title": false,
   "title_cell": "Table of Contents",
   "title_sidebar": "Contents",
   "toc_cell": false,
   "toc_position": {},
   "toc_section_display": true,
   "toc_window_display": false
  },
  "varInspector": {
   "cols": {
    "lenName": 16,
    "lenType": 16,
    "lenVar": 40
   },
   "kernels_config": {
    "python": {
     "delete_cmd_postfix": "",
     "delete_cmd_prefix": "del ",
     "library": "var_list.py",
     "varRefreshCmd": "print(var_dic_list())"
    },
    "r": {
     "delete_cmd_postfix": ") ",
     "delete_cmd_prefix": "rm(",
     "library": "var_list.r",
     "varRefreshCmd": "cat(var_dic_list()) "
    }
   },
   "types_to_exclude": [
    "module",
    "function",
    "builtin_function_or_method",
    "instance",
    "_Feature"
   ],
   "window_display": false
  }
 },
 "nbformat": 4,
 "nbformat_minor": 2
}
