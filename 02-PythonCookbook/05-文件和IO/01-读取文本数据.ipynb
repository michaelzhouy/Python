{
 "cells": [
  {
   "cell_type": "code",
   "execution_count": 1,
   "metadata": {
    "ExecuteTime": {
     "end_time": "2019-09-11T09:27:54.239523Z",
     "start_time": "2019-09-11T09:27:54.232535Z"
    }
   },
   "outputs": [
    {
     "name": "stdout",
     "output_type": "stream",
     "text": [
      "zhouyang\n",
      "zy\n",
      "\n"
     ]
    }
   ],
   "source": [
    "with open('somefile.txt', 'rt') as f:\n",
    "    data = f.read()\n",
    "    print(data)"
   ]
  },
  {
   "cell_type": "code",
   "execution_count": 2,
   "metadata": {
    "ExecuteTime": {
     "end_time": "2019-09-11T09:27:54.255616Z",
     "start_time": "2019-09-11T09:27:54.241513Z"
    }
   },
   "outputs": [
    {
     "name": "stdout",
     "output_type": "stream",
     "text": [
      "zhouyang\n",
      "\n",
      "zy\n",
      "\n"
     ]
    }
   ],
   "source": [
    "with open('somefile.txt', 'rt') as f:\n",
    "    for line in f:\n",
    "        print(line)"
   ]
  },
  {
   "cell_type": "code",
   "execution_count": 3,
   "metadata": {
    "ExecuteTime": {
     "end_time": "2019-09-11T09:27:54.265587Z",
     "start_time": "2019-09-11T09:27:54.257611Z"
    }
   },
   "outputs": [
    {
     "name": "stdout",
     "output_type": "stream",
     "text": [
      "zhouyang\n",
      "zy\n"
     ]
    }
   ],
   "source": [
    "with open('somefile.txt', 'rt') as f:\n",
    "    for line in f:\n",
    "        print(line, end='')"
   ]
  },
  {
   "cell_type": "code",
   "execution_count": 4,
   "metadata": {
    "ExecuteTime": {
     "end_time": "2019-09-11T09:27:54.275583Z",
     "start_time": "2019-09-11T09:27:54.267584Z"
    }
   },
   "outputs": [],
   "source": [
    "text1 = 'zy'\n",
    "text2 = 'z'\n",
    "with open('somefile.txt', 'wt') as f:\n",
    "    f.write(text1) # 将之前的数据删除，并将'zy'和'z'写在同一行\n",
    "    f.write(text2)"
   ]
  },
  {
   "cell_type": "code",
   "execution_count": 5,
   "metadata": {
    "ExecuteTime": {
     "end_time": "2019-09-11T09:27:54.286598Z",
     "start_time": "2019-09-11T09:27:54.277581Z"
    }
   },
   "outputs": [],
   "source": [
    "line1 = '1234'\n",
    "line2 = '5678'\n",
    "\n",
    "with open('somefile.txt', 'wt') as f:\n",
    "    print(line1, file=f) # 将之前的数据删除，并将line1和line2写入\n",
    "    print(line2, file=f)"
   ]
  },
  {
   "cell_type": "code",
   "execution_count": 6,
   "metadata": {
    "ExecuteTime": {
     "end_time": "2019-09-11T09:27:54.293801Z",
     "start_time": "2019-09-11T09:27:54.287553Z"
    }
   },
   "outputs": [],
   "source": [
    "f = open('hello.txt', 'rt')"
   ]
  },
  {
   "cell_type": "code",
   "execution_count": 7,
   "metadata": {
    "ExecuteTime": {
     "end_time": "2019-09-11T09:27:54.307587Z",
     "start_time": "2019-09-11T09:27:54.294241Z"
    }
   },
   "outputs": [
    {
     "data": {
      "text/plain": [
       "'hello world!\\n'"
      ]
     },
     "execution_count": 7,
     "metadata": {},
     "output_type": "execute_result"
    }
   ],
   "source": [
    "f.read()"
   ]
  },
  {
   "cell_type": "code",
   "execution_count": 8,
   "metadata": {
    "ExecuteTime": {
     "end_time": "2019-09-11T09:27:54.315570Z",
     "start_time": "2019-09-11T09:27:54.309549Z"
    }
   },
   "outputs": [],
   "source": [
    "g = open('hello.txt', 'rt', newline='')"
   ]
  },
  {
   "cell_type": "code",
   "execution_count": 9,
   "metadata": {
    "ExecuteTime": {
     "end_time": "2019-09-11T09:27:54.326504Z",
     "start_time": "2019-09-11T09:27:54.317528Z"
    }
   },
   "outputs": [
    {
     "data": {
      "text/plain": [
       "'hello world!\\r\\n'"
      ]
     },
     "execution_count": 9,
     "metadata": {},
     "output_type": "execute_result"
    }
   ],
   "source": [
    "g.read()"
   ]
  }
 ],
 "metadata": {
  "kernelspec": {
   "display_name": "Python 3",
   "language": "python",
   "name": "python3"
  },
  "language_info": {
   "codemirror_mode": {
    "name": "ipython",
    "version": 3
   },
   "file_extension": ".py",
   "mimetype": "text/x-python",
   "name": "python",
   "nbconvert_exporter": "python",
   "pygments_lexer": "ipython3",
   "version": "3.7.3"
  },
  "toc": {
   "base_numbering": 1,
   "nav_menu": {},
   "number_sections": true,
   "sideBar": true,
   "skip_h1_title": false,
   "title_cell": "Table of Contents",
   "title_sidebar": "Contents",
   "toc_cell": false,
   "toc_position": {},
   "toc_section_display": true,
   "toc_window_display": false
  },
  "varInspector": {
   "cols": {
    "lenName": 16,
    "lenType": 16,
    "lenVar": 40
   },
   "kernels_config": {
    "python": {
     "delete_cmd_postfix": "",
     "delete_cmd_prefix": "del ",
     "library": "var_list.py",
     "varRefreshCmd": "print(var_dic_list())"
    },
    "r": {
     "delete_cmd_postfix": ") ",
     "delete_cmd_prefix": "rm(",
     "library": "var_list.r",
     "varRefreshCmd": "cat(var_dic_list()) "
    }
   },
   "types_to_exclude": [
    "module",
    "function",
    "builtin_function_or_method",
    "instance",
    "_Feature"
   ],
   "window_display": false
  }
 },
 "nbformat": 4,
 "nbformat_minor": 2
}
